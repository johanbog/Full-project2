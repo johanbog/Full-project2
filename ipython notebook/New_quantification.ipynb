{
 "cells": [
  {
   "cell_type": "code",
   "execution_count": 1,
   "metadata": {
    "collapsed": true
   },
   "outputs": [],
   "source": [
    "%matplotlib qt4"
   ]
  },
  {
   "cell_type": "code",
   "execution_count": 2,
   "metadata": {
    "collapsed": false
   },
   "outputs": [],
   "source": [
    "%load_ext autoreload\n",
    "%autoreload 2\n",
    "import hyperspy.api as hs\n",
    "import matplotlib.pyplot as plt\n",
    "import numpy as np\n",
    "from hyperspy.zeta import *"
   ]
  },
  {
   "cell_type": "code",
   "execution_count": 2,
   "metadata": {
    "collapsed": true
   },
   "outputs": [],
   "source": [
    "def bin_ndarray(ndarray, new_shape, operation='sum'):\n",
    "    \"\"\"\n",
    "    Bins an ndarray in all axes based on the target shape, by summing or\n",
    "        averaging.\n",
    "\n",
    "    Number of output dimensions must match number of input dimensions and \n",
    "        new axes must divide old ones.\n",
    "\n",
    "    Example\n",
    "    -------\n",
    "    >>> m = np.arange(0,100,1).reshape((10,10))\n",
    "    >>> n = bin_ndarray(m, new_shape=(5,5), operation='sum')\n",
    "    >>> print(n)\n",
    "\n",
    "    [[ 22  30  38  46  54]\n",
    "     [102 110 118 126 134]\n",
    "     [182 190 198 206 214]\n",
    "     [262 270 278 286 294]\n",
    "     [342 350 358 366 374]]\n",
    "\n",
    "    \"\"\"\n",
    "    operation = operation.lower()\n",
    "    if not operation in ['sum', 'mean']:\n",
    "        raise ValueError(\"Operation not supported.\")\n",
    "    if ndarray.ndim != len(new_shape):\n",
    "        raise ValueError(\"Shape mismatch: {} -> {}\".format(ndarray.shape,\n",
    "                                                           new_shape))\n",
    "    compression_pairs = [(d, c//d) for d,c in zip(new_shape,\n",
    "                                                  ndarray.shape)]\n",
    "    flattened = [l for p in compression_pairs for l in p]\n",
    "    ndarray = ndarray.reshape(flattened)\n",
    "    for i in range(len(new_shape)):\n",
    "        op = getattr(ndarray, operation)\n",
    "        ndarray = op(-1*(i+1))\n",
    "    return ndarray\n"
   ]
  },
  {
   "cell_type": "code",
   "execution_count": 11,
   "metadata": {
    "collapsed": true
   },
   "outputs": [],
   "source": [
    "thickness_map=hs.load('../Data/unheated/Thickness Map.dm3')\n",
    "# thickness_map.plot()\n",
    "l = 104 # From Andreas\n",
    "tuh = thickness_map.isig[100.:200.,70.:190.].data.mean()*l"
   ]
  },
  {
   "cell_type": "code",
   "execution_count": 13,
   "metadata": {
    "collapsed": false
   },
   "outputs": [
    {
     "data": {
      "text/plain": [
       "├── Acquisition_instrument\n",
       "│   └── TEM\n",
       "│       ├── acquisition_mode = TEM\n",
       "│       ├── beam_current = 0.0\n",
       "│       ├── beam_energy = 200.0\n",
       "│       ├── magnification = 8000.0\n",
       "│       └── microscope = JEM-ARM200F\n",
       "├── General\n",
       "│   ├── date = 2016-09-12\n",
       "│   ├── original_filename = Thickness Map.dm3\n",
       "│   ├── time = 11:26:50\n",
       "│   └── title = Thickness Map\n",
       "├── Sample\n",
       "│   └── description = DWNC\n",
       "└── Signal\n",
       "    ├── Noise_properties\n",
       "    │   └── Variance_linear_model\n",
       "    │       ├── gain_factor = 1.0\n",
       "    │       └── gain_offset = 0.0\n",
       "    ├── binned = False\n",
       "    ├── quantity = Intensity (mfp)\n",
       "    └── signal_type = EELS"
      ]
     },
     "execution_count": 13,
     "metadata": {},
     "output_type": "execute_result"
    }
   ],
   "source": [
    "thickness_map.metadata"
   ]
  },
  {
   "cell_type": "code",
   "execution_count": 4,
   "metadata": {
    "collapsed": true
   },
   "outputs": [],
   "source": [
    "thickness_map_heated=hs.load('../Data/160506_SC239_X/Thickness Map.dm3')\n",
    "# thickness_map_heated.plot()\n",
    "l=104\n",
    "th=thickness_map_heated.isig[86.:185.,71.:151.].data.mean()*l"
   ]
  },
  {
   "cell_type": "markdown",
   "metadata": {},
   "source": [
    "## Set zeta values"
   ]
  },
  {
   "cell_type": "code",
   "execution_count": 3,
   "metadata": {
    "collapsed": true
   },
   "outputs": [],
   "source": [
    "# Zeta values\n",
    "GaK=[486,608]\n",
    "GaL=[512,826]\n",
    "AsK=[576,706]\n",
    "AsL=[600,955]\n",
    "GeK=[729,740,745]\n",
    "GeL=[898,901,933]\n",
    "PdL=[1249,1284,1316]\n",
    "AuL=[3422,3426]\n",
    "AuM=[2396,2387]\n",
    "\n",
    "# Background windows\n",
    "bwGeL=[.6,.7,1.4,1.5]\n",
    "bwAuM=[1.88,1.96,3.7,3.9]\n",
    "bwAuL=[7.3,7.5,10.6,10.8]\n",
    "bwGaK=[ 9.79,9.99, 11.09, 11.29]\n",
    "bwAsK=[ 8.47,8.66,9.67,9.86]\n",
    "bwGeK=[9.58,9.63,10.3,10.4]\n",
    "# bwPdL= [2.2,2.4,3.7,3.9]\n",
    "\n",
    "bwGeneral=[7.3,7.5,12.2,12.4]\n",
    "bwGaAsGeL=[.6,.85,1.5,1.6]\n",
    "bwPdLAuM=bwAuM\n",
    "\n",
    "#K-factors\n",
    "kAuM=3.868\n",
    "kGeK=2.617\n",
    "kPdL=3.825\n",
    "kGaK=2.492\n",
    "kGeL=4.513\n",
    "kAsK=2.835\n",
    "kGaL=4.719\n",
    "kAsL=4.315"
   ]
  },
  {
   "cell_type": "markdown",
   "metadata": {},
   "source": [
    "## Test the background windows"
   ]
  },
  {
   "cell_type": "code",
   "execution_count": 4,
   "metadata": {
    "collapsed": false
   },
   "outputs": [
    {
     "name": "stderr",
     "output_type": "stream",
     "text": [
      "C:\\Users\\Johannes\\AppData\\Local\\Continuum\\Anaconda3\\lib\\site-packages\\matplotlib\\__init__.py:898: UserWarning: axes.color_cycle is deprecated and replaced with axes.prop_cycle; please use the latter.\n",
      "  warnings.warn(self.msg_depr % (key, alt_key))\n"
     ]
    }
   ],
   "source": [
    "s_test = hs.load('../Data/160506_SC239_X/C_EDS Spectrum Image GaAs.hdf5').sum('x').sum('y')\n",
    "all_lines=['Ga_Ka','Ga_La','As_Ka','As_La','Ge_Ka','Ge_La','Pd_La','Au_Ma','Au_La']\n",
    "all_bw = [bwGeneral,bwGaAsGeL,bwGeneral,bwGaAsGeL,bwGeneral,bwGaAsGeL,bwPdLAuM,bwPdLAuM,bwGeneral]\n",
    "s_test.set_lines(all_lines)\n",
    "s_test.plot(background_windows=all_bw,integration_windows=1.2)\n",
    "# s_test.metadata"
   ]
  },
  {
   "cell_type": "markdown",
   "metadata": {},
   "source": [
    "\n",
    "## Quantify area A and B in the unheated sample"
   ]
  },
  {
   "cell_type": "code",
   "execution_count": 9,
   "metadata": {
    "collapsed": false
   },
   "outputs": [
    {
     "name": "stdout",
     "output_type": "stream",
     "text": [
      "Sa\n",
      "!\n",
      "!!\n",
      "!!!\n",
      "Solution converged to less than 0.001 weight percent, after 6 iterations.\n",
      "!!!!\n",
      "Sb\n",
      "!\n",
      "!!\n",
      "!!!\n",
      "Solution converged to less than 0.001 weight percent, after 46 iterations.\n",
      "!!!!\n",
      "done!\n"
     ]
    }
   ],
   "source": [
    "from hyperspy import zeta_abscorr as zabs\n",
    "sA=hs.load('../Data/unheated/A_EDS Spectrum Image_60-180.hdf5')\n",
    "sB=hs.load('../Data/unheated/B_EDS Spectrum Image.hdf5')\n",
    "\n",
    "slist=[sA,sB]\n",
    "snames=['Sa','Sb']\n",
    "probe_current= [(0.1769+.1747)/2, .1747]\n",
    "IW=1.2\n",
    "time=0.01\n",
    "\n",
    "zetaA = [AsK[1],GaK[1],GeK,PdL]\n",
    "zetaB=[AuM,GeL,PdL]\n",
    "zetaA = [np.mean(z) for z in zetaA] #Use mean values\n",
    "zetaB = [np.mean(z) for z in zetaB] #Use mean values\n",
    "zeta=[zetaA,zetaB]\n",
    "elements=[['As','Ga','Ge','Pd'],['Au','Ge','Pd']]\n",
    "kfactors=[[kAsK,kGaK,kGeK,kPdL],[kAuM,kGeL,kPdL]]\n",
    "lines=[['As_Ka','Ga_Ka','Ge_Ka','Pd_La'],['Au_Ma','Ge_La','Pd_La']]\n",
    "bw= [[bwGeneral,bwGeneral,bwGeneral,bwPdLAuM],[bwPdLAuM,bwGaAsGeL,bwPdLAuM]]\n",
    "thickness= tuh\n",
    "# s_ints=np.zeros(len(slist))\n",
    "# plt.close('all')\n",
    "s_comp_linescan_abslist = []\n",
    "s_comp_linescan_zetalist = []\n",
    "s_comp_linescan_cllist = []\n",
    "\n",
    "for i in range(len(slist)):\n",
    "    print(snames[i])\n",
    "    s=slist[i]\n",
    "    s.set_elements(elements[i])\n",
    "    s.set_lines(lines[i])\n",
    "    \n",
    "    s.metadata.General.title = snames[i]\n",
    "#     s.sum('x').sum('y').plot(background_windows=bw)\n",
    "    \n",
    "    s.set_microscope_parameters(real_time=time,beam_current=probe_current[i])\n",
    "\n",
    "    s_ints = s.get_lines_intensity(integration_windows=IW,background_windows=bw[i], only_lines=lines[i])\n",
    "    print('!')\n",
    "    s_comp_zeta, s_pt = s.quantification(s_ints, 'zeta', zeta[i])\n",
    "    print('!!')\n",
    "    s_comp_cl = s.quantification(s_ints, 'CL', kfactors[i])\n",
    "    print('!!!')\n",
    "    s_comp_abs, s_pt = zabs.quantification_zeta(s, s_ints, zeta[i], convergence_precision=0.001)\n",
    "    print('!!!!')\n",
    "\n",
    "    s_comp_linescan_abs = [c.mean('x') for c in s_comp_abs]\n",
    "    s_comp_linescan_zeta = [c.mean('x') for c in s_comp_zeta]\n",
    "    s_comp_linescan_cl = [c.mean('x') for c in s_comp_cl]\n",
    "    \n",
    "    s_comp_linescan_abslist.append(s_comp_linescan_abs)\n",
    "    s_comp_linescan_zetalist.append(s_comp_linescan_zeta)\n",
    "    s_comp_linescan_cllist.append(s_comp_linescan_cl)\n",
    "print('done!')"
   ]
  },
  {
   "cell_type": "code",
   "execution_count": 20,
   "metadata": {
    "collapsed": false
   },
   "outputs": [],
   "source": [
    "colors=['r','g','b']\n",
    "plt.close('all')\n",
    "for i in range(len(s_comp_linescan_cllist)):\n",
    "    element=elements[i]\n",
    "    for k, el in enumerate(element):\n",
    "        plt.figure(str(i)+'_'+str(el))\n",
    "        plt.hold(True)\n",
    "        cz=s_comp_linescan_zetalist[i][k]\n",
    "        ccl=s_comp_linescan_cllist[i][k]\n",
    "        cab=s_comp_linescan_abslist[i][k]\n",
    "        \n",
    "        scale=s.axes_manager.as_dictionary()['axis-0']['scale']\n",
    "        x = np.arange(len(cab.data))*scale\n",
    "        \n",
    "        plt.plot(x,ccl.data,'b')\n",
    "        plt.plot(x,cz.data,'g')\n",
    "        plt.plot(x,cab.data,'r')\n",
    "        plt.tight_layout()\n",
    "        if i == 0:\n",
    "            plt.xlim([None,360*scale])\n",
    "            if k < 2:\n",
    "                plt.ylim([-10,55])\n",
    "            else:\n",
    "                plt.ylim([-10,110])\n",
    "        else:\n",
    "            plt.ylim([-10,110])\n",
    "        plt.legend(['CL','Zeta','Zeta (abs)'],loc='best')\n",
    "        plt.grid(axis='y')\n",
    "        plt.xlabel('X (nm)')\n",
    "        plt.ylabel('Composition (%)')\n",
    "        plt.savefig('../PROJECT/thesis/fig/q-new/'+'oldzetas_'+str(snames[i])+'_'+str(lines[i][k]))\n",
    "    plt.show()"
   ]
  },
  {
   "cell_type": "code",
   "execution_count": 26,
   "metadata": {
    "collapsed": false
   },
   "outputs": [
    {
     "name": "stdout",
     "output_type": "stream",
     "text": [
      "[[608.0, 706.0, 738.0, 1283.0], [910.66666666666663, 1283.0, 2391.5]]\n"
     ]
    }
   ],
   "source": [
    "print(zeta)"
   ]
  },
  {
   "cell_type": "markdown",
   "metadata": {},
   "source": [
    "## Make heatmap Heattreated"
   ]
  },
  {
   "cell_type": "code",
   "execution_count": null,
   "metadata": {
    "collapsed": true
   },
   "outputs": [],
   "source": [
    "#Heat-treated\n",
    "\n",
    "zeta = [As,Ga,GeK,Pd]\n",
    "kfactors = [kAs_k, kGa_k, kGe_k,kPd_m]\n",
    "\n",
    "elements=[['Ga'],['As'],['Au'],['Pd'],['Ge']]\n",
    "zeta=[GaK,AsK,AuM,PdL,GeK]\n",
    "zeta = [np.mean(z) for z in zeta]\n",
    "kfactors=[kGaK,kAsK,kAuM,kPdL,kGeK]\n",
    "bw=[bwGeneral, bwGeneral, bwPdLAuM, bwPdLAuM, bwGeneral]\n",
    "lines=['Ga_Ka','As_Ka','Au_Ma','Pd_La','Ge_Ka']\n",
    "\n",
    "# Attempt with AU, without GaAs:\n",
    "# zeta= [Ge,Pd,Au]\n",
    "# kfactors=[kGe_l,kPd_m,kAu_m]\n",
    "# elements=['Ge','Pd','Au']\n",
    "# lines=np.array(['Ge_La','Pd_La','Au_Ma'])\n",
    "# bw=[BW3,BW_ge,BW5]\n",
    "\n",
    "plt.close('all')\n",
    "sD=hs.load('../Data/160506_SC239_X/D_EDS Spectrum Image.dm3') #For D/E\n",
    "sE=hs.load('../Data/160506_SC239_X/E_EDS Spectrum Image.dm3') #For D/E\n",
    "# sB=hs.load('../Data/160506_SC239_X/B_EDS Spectrum Image_top.hdf5')\n",
    "# sC=hs.load('../Data/160506_SC239_X/C_EDS Spectrum Image_behindC.hdf5')\n",
    "# sF = hs.load('../Data/160506_SC239_X/F_EDS Spectrum Image_bright.hdf5')\n",
    "# s=[sB,sC,sF]\n",
    "slist=[sD,sE]\n",
    "currentE = np.mean((0.1175,0.1169)) #E\n",
    "currentD = np.mean((0.1175,0.1181)) #D\n",
    "currents=[currentD,currentE]\n",
    "# currents = [.1206,np.mean((.1194,.1181)),np.mean((.1169,.1175))]\n",
    "\n",
    "s_comp_absl=[]\n",
    "s_comp_zetal=[]\n",
    "s_comp_cll=[]\n",
    "scales=[sD.axes_manager.as_dictionary()['axis-0']['scale'],sE.axes_manager.as_dictionary()['axis-0']['scale']]\n",
    "folder=['D','E']\n",
    "snames=['D','E']\n",
    "for i,(s,current) in enumerate(zip(slist,currents)):\n",
    "\n",
    "    s.set_elements(elements)\n",
    "    s.set_lines(lines)\n",
    "    s.mean('x').mean('y').plot(background_windows=bw)\n",
    "    s.metadata.General.title = snames[i]\n",
    "    s.set_microscope_parameters(real_time=0.1,beam_current=current)\n",
    "    s_ints = s.get_lines_intensity(integration_windows=1.2,background_windows=bw,only_lines=lines)\n",
    "\n",
    "    s_comp_zeta, s_pt = s.quantification(s_ints, 'zeta', zeta)\n",
    "    s_comp_cl = s.quantification(s_ints, 'CL', kfactors)\n",
    "    s_comp_abs, s_pt = zc.quantification_zeta(s, s_ints, zeta, convergence_precision=0.00001)\n",
    "    \n",
    "    s_comp_absl.append(s_comp_abs)\n",
    "    s_comp_zetal.append(s_comp_zeta)\n",
    "    s_comp_cll.append(s_comp_cl)\n",
    "    \n",
    "    from os import makedirs\n",
    "    print(elements)\n",
    "    plt.ioff()\n",
    "#     f=open('../PROJECT/thesis/fig/q/B-C-F/without_Au_GeKline-std.txt','w+')\n",
    "    for a,(s_zeta, s_cl,s_abs,scale) in enumerate(zip(s_comp_zetal, s_comp_cll, s_comp_absl,scales)):\n",
    "        for i, el in enumerate(elements):\n",
    "            for s_,tech in zip([s_zeta, s_cl, s_abs],['zeta','CL','zetaAbs']):\n",
    "    #         for s_,tech in zip([s_zeta, s_cl],['zeta','CL']):\n",
    "    #             plt.figure()\n",
    "                data = s_[i].data#-s_abs[i].data\n",
    "                mean = data.mean()\n",
    "                std=np.std(data)\n",
    "    #             data = bin_ndarray(data, new_shape = (data.shape[0]/2,data.shape[1]/2), operation='mean')\n",
    "    #             plt.imshow(data, cmap='coolwarm',extent=[0,data.shape[0]*scale,0,data.shape[1]*scale])\n",
    "    #             plt.xlabel('nm')\n",
    "    #             plt.ylabel('nm')\n",
    "    #             plt.colorbar(label='Composition (%)')\n",
    "    #             try:\n",
    "    #                 makedirs('../PROJECT/thesis/fig/q/'+folder[a]+'_heatedAUHEATMAP/')\n",
    "    #             except FileExistsError:\n",
    "    #                 pass\n",
    "    #             plt.savefig('../PROJECT/thesis/fig/q/'+folder[a]+'_heatedAU/'+str(el)+'_'+str(tech))\n",
    "                print(s_[i],'\\n',folder[a]+','+str(el)+','+str(tech)+', '+str(mean)+'  '+str(std))\n",
    "#                 f.write(str(mean)+' '+str(std)+'\\n')\n",
    "#     f.close()\n"
   ]
  }
 ],
 "metadata": {
  "anaconda-cloud": {},
  "kernelspec": {
   "display_name": "Python [conda root]",
   "language": "python",
   "name": "conda-root-py"
  },
  "language_info": {
   "codemirror_mode": {
    "name": "ipython",
    "version": 3
   },
   "file_extension": ".py",
   "mimetype": "text/x-python",
   "name": "python",
   "nbconvert_exporter": "python",
   "pygments_lexer": "ipython3",
   "version": "3.5.2"
  }
 },
 "nbformat": 4,
 "nbformat_minor": 1
}
