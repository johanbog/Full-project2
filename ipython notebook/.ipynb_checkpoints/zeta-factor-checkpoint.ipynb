{
 "cells": [
  {
   "cell_type": "code",
   "execution_count": 1,
   "metadata": {
    "collapsed": false
   },
   "outputs": [
    {
     "name": "stderr",
     "output_type": "stream",
     "text": [
      "unbcf_fast library is not present...\n",
      "Falling back to slow python only backend.\n"
     ]
    }
   ],
   "source": [
    "import hyperspy.api as hs\n",
    "%matplotlib qt4\n",
    "import matplotlib.pyplot as plt\n",
    "import numpy as np\n",
    "from hyperspy.zeta import *\n",
    "\n",
    "# s=hs.load('/home/johannes/Desktop/Link to Documents/Materialfysikk/Data/unheated/A_EDS Spectrum Image.dm3')\n",
    "# s2=hs.load('/home/johannes/Desktop/Link to Documents/Materialfysikk/Data/unheated/A_EDS GaAs.hdf5')\n",
    "# s2.plot()"
   ]
  },
  {
   "cell_type": "code",
   "execution_count": null,
   "metadata": {
    "collapsed": false
   },
   "outputs": [],
   "source": [
    "thickness_map=hs.load('/home/johannes/Desktop/Link to Documents/Materialfysikk/Data/unheated/Thickness Map.dm3')\n",
    "thickness_map_left=hs.load('/home/johannes/Desktop/Link to Documents/Materialfysikk/Data/unheated/Thickness Map_leftSide.dm3')\n",
    "# thickness_map_left.plot()"
   ]
  },
  {
   "cell_type": "code",
   "execution_count": 29,
   "metadata": {
    "collapsed": false
   },
   "outputs": [
    {
     "name": "stderr",
     "output_type": "stream",
     "text": [
      "WARNING:hyperspy.signal:<EDSTEMSpectrum, title: E_EDS Spectrum Image, dimensions: (32, 32|2048)> data is replaced by its optimized copy\n"
     ]
    }
   ],
   "source": [
    "s=hs.load('/home/johannes/Desktop/Link to Documents/Materialfysikk/Data/unheated/E_EDS Spectrum Image.dm3')\n",
    "# s.plot()\n",
    "s.mean(axis=(0,1)).plot()\n",
    "# scrop=s.inav[40.0:200.0, 0.:100.]\n",
    "# scrop.save('/home/johannes/Desktop/Link to Documents/Materialfysikk/Data/unheated/A_EDS GaAs.hdf5')"
   ]
  },
  {
   "cell_type": "code",
   "execution_count": null,
   "metadata": {
    "collapsed": false
   },
   "outputs": [],
   "source": [
    "%load_ext autoreload\n",
    "%autoreload 2\n",
    "import numpy as np\n",
    "import hyperspy.api as hs\n",
    "%matplotlib qt4\n",
    "import matplotlib.pyplot as plt\n",
    "from hyperspy.zeta import *\n",
    "\n",
    "plt.close('all')\n",
    "IW = 1.2\n",
    "tilt = np.sqrt(2.3**2+.6**2)\n",
    "\n",
    "probe_current= [(0.1769+.1747)/2, .1747, .1747,.17485,.175,.175,(.175+.1731)/2,.17325,np.mean([.1734,.1703]),np.mean([.1703,.1728])]\n",
    "\n",
    "thickness_A = thickness_map.isig[100.:200.,70.:190.].data.mean()*100\n",
    "thickness_C = thickness_map_left.isig[218.:260.,275.:320.].data.mean()*100\n",
    "thickness_D = thickness_map_left.isig[132.:194.,178.:260.].data.mean()*100\n",
    "thickness_E = thickness_map_left.isig[125.:163.,95.:139.].data.mean()*100\n",
    "\n",
    "print(thickness_A,thickness_C,thickness_D,thickness_E)\n",
    "return\n",
    "p_GaAs = 5317.6\n",
    "p_Au = hs.material.elements.Au.Physical_properties.density_gcm3*1000\n",
    "p_Ge = hs.material.elements.Ge.Physical_properties.density_gcm3*1000\n",
    "p_Pd = hs.material.elements.Pd.Physical_properties.density_gcm3*1000\n",
    "\n",
    "# s_A = hs.load('/home/johannes/Desktop/Link to Documents/Materialfysikk/Data/unheated/A_EDS GaAs.hdf5')\n",
    "# s_C = hs.load('/home/johannes/Desktop/Link to Documents/Materialfysikk/Data/unheated/C_EDS Spectrum Image.dm3')\n",
    "# s_D = hs.load('/home/johannes/Desktop/Link to Documents/Materialfysikk/Data/unheated/D_EDS Spectrum Image.dm3')\n",
    "# s_E = hs.load('/home/johannes/Desktop/Link to Documents/Materialfysikk/Data/unheated/E_EDS Spectrum Image.dm3')\n",
    "\n",
    "s=[s_A,s_C,s_D,s_E]\n",
    "thickness_list=[thickness_A,thickness_C,thickness_D,thickness_E]\n",
    "elements = [['As','Ga'],['Au'],['Ge'],['Pd']]\n",
    "density_list=[p_GaAs,p_Au,p_Ge,p_Pd]\n",
    "\n",
    "BW_A = np.array([[ 9.79,9.99, 11.09, 11.29],[ 8.47,8.66,9.67,9.86]])\n",
    "BW_C = np.array([[9.25, 9.45,10.1,10.3]])\n",
    "BW_D = np.array([[9.4,9.6,10.2,10.4]])\n",
    "BW_E = np.array([[2.2,2.4,3.7,3.9]])\n",
    "bw_list=[BW_A,BW_C,BW_D,BW_E]\n",
    "\n",
    "COMP_GA_AS_WT=(hs.material.atomic_to_weight([.5,.5],['As','Ga'])/100)\n",
    "comp_list = [COMP_GA_AS_WT, [1],[1],[1]]\n",
    "time = [.02, .2, .2, .2]\n",
    "\n",
    "for edx,thickness, current, density, element,bw, comp, t \\\n",
    "in zip(s,thickness_list,probe_current, density_list, elements,bw_list,comp_list, time):\n",
    "#     if element[0] is not 'Ge':\n",
    "#         continue\n",
    "#     print(element, thickness, current, density, bw)\n",
    "#     edx.plot()\n",
    "    time=t\n",
    "    time = edx.data.shape[0]*edx.data.shape[1]*t\n",
    "    \n",
    "#     print('time',time)\n",
    "#     plt.figure(str(element))\n",
    "#     plt.imshow(edx.data.mean(axis=2))\n",
    "    \n",
    "    edx=edx.sum('x').sum('y')\n",
    "    edx.add_elements(element)\n",
    "    edx.add_lines()\n",
    "#     print(edx.metadata)\n",
    "#     edx.plot(background_windows=bw)\n",
    "#     print(edx.metadata)\n",
    "    \n",
    "    edx.set_microscope_parameters(beam_current=current, tilt_stage=tilt, real_time=time, azimuth_angle=0, elevation_angle=23.4)\n",
    "    s_int=edx.get_lines_intensity(background_windows=bw, integration_windows=IW,plot_result=0)\n",
    "    \n",
    "    zeta = determine_zeta_factor(edx, s_int, comp, thickness, density)\n",
    "    print(element)\n",
    "    for z in zeta:\n",
    "        print('zeta',np.nanmean(z.data.flatten()))"
   ]
  },
  {
   "cell_type": "code",
   "execution_count": null,
   "metadata": {
    "collapsed": false
   },
   "outputs": [],
   "source": [
    "edx.metadata"
   ]
  },
  {
   "cell_type": "code",
   "execution_count": null,
   "metadata": {
    "collapsed": true
   },
   "outputs": [],
   "source": [
    "PATH='/home/johannes/Desktop/Link to Data/unheated/'\n"
   ]
  },
  {
   "cell_type": "code",
   "execution_count": 8,
   "metadata": {
    "collapsed": false
   },
   "outputs": [
    {
     "ename": "NameError",
     "evalue": "name 's' is not defined",
     "output_type": "error",
     "traceback": [
      "\u001b[0;31m---------------------------------------------------------------------------\u001b[0m",
      "\u001b[0;31mNameError\u001b[0m                                 Traceback (most recent call last)",
      "\u001b[0;32m<ipython-input-8-3add090756b9>\u001b[0m in \u001b[0;36m<module>\u001b[0;34m()\u001b[0m\n\u001b[0;32m----> 1\u001b[0;31m \u001b[0ms\u001b[0m\u001b[0;34m.\u001b[0m\u001b[0mset_microscope_parameters\u001b[0m\u001b[0;34m(\u001b[0m\u001b[0mbeam_current\u001b[0m\u001b[0;34m=\u001b[0m\u001b[0;36m0.5\u001b[0m\u001b[0;34m)\u001b[0m\u001b[0;34m\u001b[0m\u001b[0m\n\u001b[0m\u001b[1;32m      2\u001b[0m \u001b[0ms\u001b[0m\u001b[0;34m.\u001b[0m\u001b[0mset_microscope_parameters\u001b[0m\u001b[0;34m(\u001b[0m\u001b[0mreal_time\u001b[0m\u001b[0;34m=\u001b[0m\u001b[0;36m1.5\u001b[0m\u001b[0;34m)\u001b[0m\u001b[0;34m\u001b[0m\u001b[0m\n",
      "\u001b[0;31mNameError\u001b[0m: name 's' is not defined"
     ]
    }
   ],
   "source": [
    "s.set_microscope_parameters(beam_current=0.5)\n",
    "s.set_microscope_parameters(real_time=1.5)"
   ]
  },
  {
   "cell_type": "code",
   "execution_count": 11,
   "metadata": {
    "collapsed": false
   },
   "outputs": [
    {
     "name": "stdout",
     "output_type": "stream",
     "text": [
      "2.3769728648\n"
     ]
    }
   ],
   "source": [
    "print(np.sqrt(2.3**2+.6**2))"
   ]
  },
  {
   "cell_type": "code",
   "execution_count": 11,
   "metadata": {
    "collapsed": false
   },
   "outputs": [],
   "source": [
    "%matplotlib qt4\n",
    "import matplotlib.pyplot as plt\n",
    "plt.close('all')\n",
    "\n",
    "import glob\n",
    "import hyperspy.api as hs\n",
    "import numpy as np\n",
    "# from scipy.ndimage.interpolation import rotate as rotate\n",
    "\n",
    "# PATH='/home/johannes/Desktop/Link to Documents/Materialfysikk/Data/160506_SC239_X/'\n",
    "PATH='/home/johannes/Desktop/Link to Data/unheated/'\n",
    "p=glob.glob(PATH+'*Survey Image (active)*')\n",
    "# p=['Overview.dm3','Thickness Map.dm3']\n",
    "# p=['/home/johannes/Desktop/Link to Data/unheated/A_SI Survey Image (active).dm3','/home/johannes/Desktop/Link to Data/unheated/overview_BFSTEM_30k.dm3'\n",
    "# ,'/home/johannes/Desktop/Link to Data/unheated/overview_HAADF_30k.dm3',PATH+'Overview.dm3',PATH+'Thickness Map.dm3']\n",
    "for r in p:\n",
    "    s=hs.load(r)\n",
    "    plt.figure(r),plt.imshow(s.data)\n",
    "# print(p[10:][4])\n",
    "\n",
    "# t = hs.load(PATH+'Thickness Map.dm3')\n",
    "# ov=hs.load(PATH+'Overview.dm3')\n",
    "\n",
    "# pts1 = np.float32([[130,511],[432,142]])\n",
    "# pts2 = np.float32([[290,514],[628,506]])\n",
    "# angle1=np.arctan2(pts1[0,1]-pts1[1,1],pts1[0,0]-pts1[1,0])\n",
    "# angle2=-np.arctan2(pts2[0,1]-pts2[1,1],pts2[0,0]-pts2[1,0])\n",
    "# angle = angle1-angle2\n",
    "# angle=np.rad2deg(angle)\n",
    "# print(angle1,angle2,angle)\n",
    "# print(t)\n",
    "\n",
    "# plt.figure('not rot'), plt.imshow(t)\n",
    "# rot=rotate(t, angle, reshape=False)\n",
    "# plt.figure('rot'), plt.imshow(rot)\n",
    "# thickness_map_rotated = rot\n",
    "\n",
    "# s=hs.load('/home/johannes/Desktop/Link to Documents/Materialfysikk/Data/unheated/A_EDS Spectrum Image.dm3')\n",
    "# m=s.data.mean(axis=2)"
   ]
  },
  {
   "cell_type": "code",
   "execution_count": 2,
   "metadata": {
    "collapsed": false
   },
   "outputs": [],
   "source": [
    "eds_mean=np.load('/home/johannes/Desktop/Link to Documents/Materialfysikk/Data/unheated/A_EDS_mean.npy')\n",
    "# plt.figure(),plt.imshow(eds_mean)"
   ]
  },
  {
   "cell_type": "code",
   "execution_count": 15,
   "metadata": {
    "collapsed": false
   },
   "outputs": [
    {
     "name": "stdout",
     "output_type": "stream",
     "text": [
      "The autoreload extension is already loaded. To reload it, use:\n",
      "  %reload_ext autoreload\n",
      "0.8156670928 0.198336392641\n",
      "255\n",
      "(18, 112) (1441, 1112)\n"
     ]
    },
    {
     "data": {
      "text/plain": [
       "((18, 112), (1441, 1112))"
      ]
     },
     "execution_count": 15,
     "metadata": {},
     "output_type": "execute_result"
    }
   ],
   "source": [
    "# s=hs.load('/home/johannes/Desktop/Link to Documents/Materialfysikk/Data/unheated/A_EDS GaAs.hdf5')\n",
    "%load_ext autoreload\n",
    "%autoreload 2\n",
    "from skimage.transform import rescale\n",
    "from hyperspy import project_routine\n",
    "\n",
    "eds_scale=s.axes_manager.as_dictionary()['axis-1']['scale']\n",
    "thickness_scale=t.axes_manager.as_dictionary()['axis-1']['scale']\n",
    "print(eds_scale, thickness_scale)\n",
    "\n",
    "th=thickness_map_rotated\n",
    "thick=((th-th.min())/th.max()*255).astype('uint8')\n",
    "eds=rescale(eds_mean,(eds_scale/thickness_scale))\n",
    "eds = eds[:1000,:]\n",
    "eds=((eds-eds.min())/(eds.max()-eds.min())*255).astype('uint8')\n",
    "print(eds.max())\n",
    "plt.figure('eds'),plt.imshow(eds)\n",
    "plt.figure('th'),plt.imshow(thick)\n",
    "project_routine.imreg(eds,thick,show=True)"
   ]
  },
  {
   "cell_type": "code",
   "execution_count": 11,
   "metadata": {
    "collapsed": false
   },
   "outputs": [
    {
     "data": {
      "text/plain": [
       "0"
      ]
     },
     "execution_count": 11,
     "metadata": {},
     "output_type": "execute_result"
    }
   ],
   "source": [
    "eds.min()"
   ]
  }
 ],
 "metadata": {
  "anaconda-cloud": {},
  "kernelspec": {
   "display_name": "Python 3",
   "language": "python",
   "name": "python3"
  },
  "language_info": {
   "codemirror_mode": {
    "name": "ipython",
    "version": 3
   },
   "file_extension": ".py",
   "mimetype": "text/x-python",
   "name": "python",
   "nbconvert_exporter": "python",
   "pygments_lexer": "ipython3",
   "version": "3.5.2"
  }
 },
 "nbformat": 4,
 "nbformat_minor": 1
}
