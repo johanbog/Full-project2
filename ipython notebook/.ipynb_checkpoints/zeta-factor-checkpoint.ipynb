{
 "cells": [
  {
   "cell_type": "code",
   "execution_count": 1,
   "metadata": {
    "collapsed": false
   },
   "outputs": [],
   "source": [
    "%load_ext autoreload\n",
    "%autoreload 2\n",
    "import hyperspy.api as hs\n",
    "%matplotlib qt4\n",
    "import matplotlib.pyplot as plt\n",
    "import numpy as np\n",
    "from hyperspy.zeta import *\n",
    "\n",
    "# s=hs.load('../Data/unheated/A_EDS Spectrum Image.dm3')\n",
    "# s2=hs.load('../Data/unheated/A_EDS GaAs.hdf5')\n",
    "# s2.plot()"
   ]
  },
  {
   "cell_type": "code",
   "execution_count": 34,
   "metadata": {
    "collapsed": false
   },
   "outputs": [],
   "source": [
    "# s=hs.load('../Data/unheated/HAADF_300k.dm3')\n",
    "plt.figure()\n",
    "plt.imshow(s.data)\n",
    "plt.show()\n"
   ]
  },
  {
   "cell_type": "markdown",
   "metadata": {},
   "source": [
    "## Determine thickness"
   ]
  },
  {
   "cell_type": "code",
   "execution_count": 3,
   "metadata": {
    "collapsed": false
   },
   "outputs": [
    {
     "name": "stdout",
     "output_type": "stream",
     "text": [
      "121.975335121\n",
      "std 3.43808\n"
     ]
    }
   ],
   "source": [
    "# thickness_map_left=hs.load('../Data/unheated/Thickness Map_leftSide.dm3')\n",
    "thickness_map=hs.load('../Data/unheated/Thickness Map.dm3')\n",
    "l = 104 # From Andreas\n",
    "thickness = thickness_map.isig[100.:200.,70.:190.].data.mean()*l\n",
    "print(thickness)\n",
    "print('std',np.std(thickness_map.isig[100.:200.,70.:190.].data*l))"
   ]
  },
  {
   "cell_type": "code",
   "execution_count": null,
   "metadata": {
    "collapsed": false
   },
   "outputs": [],
   "source": [
    "s=hs.load('../Data/unheated/B_EDS Spectrum Image.dm3')\n",
    "s.save('../Data/unheated/B_EDS Spectrum Image.hdf5')\n",
    "# s.inav[:,8.:68.].save('../Data/unheated/B_EDS_1.hdf5')\n",
    "# s.inav[:,80.:200.].save('../Data/unheated/B_EDS_2.hdf5')\n",
    "# s.inav[:,220.:280.].save('../Data/unheated/B_EDS_3.hdf5')\n",
    "# scrop=s.inav[40.0:200.0, 0.:100.]\n",
    "# scrop.save('../Data/unheated/A_EDS GaAs.hdf5')\n",
    "\n",
    "# s_B1=hs.load('../Data/unheated/B_EDS_1.hdf5')\n",
    "# s_B2=hs.load('../Data/unheated/B_EDS_2.hdf5')\n",
    "# s_B3=hs.load('../Data/unheated/B_EDS_3.hdf5')"
   ]
  },
  {
   "cell_type": "code",
   "execution_count": null,
   "metadata": {
    "collapsed": true
   },
   "outputs": [],
   "source": [
    "s_B1.sum('x').sum('y').plot() # E = Pd\n",
    "s_B2.sum('x').sum('y').plot() # D = Ge\n",
    "s_B3.sum('x').sum('y').plot() # C = Au"
   ]
  },
  {
   "cell_type": "code",
   "execution_count": 2,
   "metadata": {
    "collapsed": false
   },
   "outputs": [
    {
     "name": "stderr",
     "output_type": "stream",
     "text": [
      "WARNING:hyperspy.signal:<EDSTEMSpectrum, title: A_EDS Spectrum Image, dimensions: (346, 396|2048)> data is replaced by its optimized copy\n"
     ]
    }
   ],
   "source": [
    "sn = hs.load('../Data/unheated/A_EDS Spectrum Image.dm3')\n",
    "sn.add_lines(['As_Ka','Ga_Ka','Pd_La','Ge_La','Au_Ma'])\n",
    "# bw1 = np.array([ 9.79,9.99, 11.09, 11.29])\n",
    "BW2=[8.57,8.67,11.2,11.3]\n",
    "# bw3 = np.array([9.25, 9.45,10.1,10.3])\n",
    "# bw4 = np.array([9.4,9.6,10.2,10.4])\n",
    "# bw5 = np.array([2.2,2.4,3.7,3.9])\n",
    "bw7=[1.88,1.96,3.7,3.9] #gold M-line\n",
    "bw6= np.array([.6,.7,1.4,1.5]) #Ge L-line\n",
    "# bw=[bw1,bw2,bw3,bw4,bw5,bw6,bw7]\n",
    "bw=[bw6,bw7,BW2]\n",
    "plt.close('all')\n",
    "# sn.add_lines([])\n",
    "A=sn.sum('x').sum('y')\n",
    "\n",
    "# sn.plot"
   ]
  },
  {
   "cell_type": "code",
   "execution_count": 3,
   "metadata": {
    "collapsed": false
   },
   "outputs": [
    {
     "name": "stdout",
     "output_type": "stream",
     "text": [
      "The autoreload extension is already loaded. To reload it, use:\n",
      "  %reload_ext autoreload\n"
     ]
    },
    {
     "name": "stderr",
     "output_type": "stream",
     "text": [
      "C:\\Users\\Johannes\\AppData\\Local\\Continuum\\Anaconda3\\lib\\site-packages\\matplotlib\\__init__.py:898: UserWarning: axes.color_cycle is deprecated and replaced with axes.prop_cycle; please use the latter.\n",
      "  warnings.warn(self.msg_depr % (key, alt_key))\n"
     ]
    },
    {
     "data": {
      "text/plain": [
       "<matplotlib.text.Text at 0x2b380be1cc0>"
      ]
     },
     "execution_count": 3,
     "metadata": {},
     "output_type": "execute_result"
    }
   ],
   "source": [
    "%load_ext autoreload\n",
    "%autoreload 2\n",
    "A.add_lines(['As_Ka','Ga_Ka','Pd_La','Ge_La','Au_Ma','Ge_Ka'])\n",
    "A.plot(background_windows=bw,integration_windows=1.2)\n",
    "plt.xlim([None,12])\n",
    "plt.xlabel('X-ray energy (keV)',fontsize=16)\n",
    "plt.ylabel('X-ray counts',fontsize=16)\n",
    "plt.title(' ')"
   ]
  },
  {
   "cell_type": "code",
   "execution_count": 4,
   "metadata": {
    "collapsed": false
   },
   "outputs": [],
   "source": [
    "A.quantification?"
   ]
  },
  {
   "cell_type": "code",
   "execution_count": 4,
   "metadata": {
    "collapsed": false,
    "scrolled": false
   },
   "outputs": [
    {
     "name": "stdout",
     "output_type": "stream",
     "text": [
      "The autoreload extension is already loaded. To reload it, use:\n",
      "  %reload_ext autoreload\n"
     ]
    },
    {
     "name": "stderr",
     "output_type": "stream",
     "text": [
      "WARNING:hyperspy.signal:<EDSTEMSpectrum, title: D_EDS Spectrum Image, dimensions: (32, 32|2048)> data is replaced by its optimized copy\n",
      "WARNING:hyperspy.signal:<EDSTEMSpectrum, title: D_EDS Spectrum Image, dimensions: (32, 32|2048)> data is replaced by its optimized copy\n",
      "WARNING:hyperspy.signal:<EDSTEMSpectrum, title: E_EDS Spectrum Image, dimensions: (32, 32|2048)> data is replaced by its optimized copy\n"
     ]
    },
    {
     "name": "stdout",
     "output_type": "stream",
     "text": [
      "['As', 'Ga']\n",
      "zeta 706.458581674\n",
      "std 0.0\n",
      "zeta 607.860488895\n",
      "std 0.0\n",
      "['Au']\n",
      "zeta 2396.59596395\n",
      "std 0.0\n",
      "['Ge']\n",
      "zeta 900.417380749\n",
      "std 0.0\n",
      "['Pd']\n",
      "zeta 1248.39804784\n",
      "std 0.0\n",
      "['Pd']\n",
      "zeta 1318.41635454\n",
      "std 0.0\n",
      "['Ge']\n",
      "zeta 899.515316745\n",
      "std 0.0\n",
      "['Au']\n",
      "zeta 2387.42319189\n",
      "std 0.0\n"
     ]
    }
   ],
   "source": [
    "%load_ext autoreload\n",
    "%autoreload 2\n",
    "\n",
    "plt.close('all')\n",
    "IW = 1.2\n",
    "tilt = -np.sqrt(2.3**2+.6**2)\n",
    "\n",
    "probe_current= [(0.1769+.1747)/2, .1747, .1747,.17485,.175,.175,(.175+.1731)/2,.17325,np.mean([.1734,.1703]),np.mean([.1703,.1728]),.1747,.1747,.1747]\n",
    "\n",
    "p_GaAs = 5317.6\n",
    "p_Au = hs.material.elements.Au.Physical_properties.density_gcm3*1000\n",
    "p_Ge = hs.material.elements.Ge.Physical_properties.density_gcm3*1000\n",
    "p_Pd = hs.material.elements.Pd.Physical_properties.density_gcm3*1000\n",
    " \n",
    "# s_A = hs.load('../Data/unheated/A_EDS GaAs.hdf5')\n",
    "# # a_A1 = hs.load('../Data/unheated/A_EDS Ge.hdf5')\n",
    "# # # a_A2 = hs.load('../Data/unheated/A_EDS Pd.hdf5')\n",
    "# s_C = hs.load('../Data/unheated/C_EDS Spectrum Image.dm3')\n",
    "# s_D = hs.load('../Data/unheated/D_EDS Spectrum Image.dm3')\n",
    "# s_E = hs.load('../Data/unheated/E_EDS Spectrum Image.dm3')\n",
    "# s_B1=hs.load('../Data/unheated/B_EDS_1.hdf5')\n",
    "# s_B2=hs.load('../Data/unheated/B_EDS_2.hdf5')\n",
    "# s_B3=hs.load('../Data/unheated/B_EDS_3.hdf5')\n",
    "\n",
    "# e=s_C.sum('x').sum('y')\n",
    "# e.add_elements(['Au'])\n",
    "# e.add_lines()\n",
    "# BW_C = np.array([[9.25, 9.45,10.1,10.3]])\n",
    "# e.plot(background_windows=BW_C)\n",
    "# return\n",
    "\n",
    "s=[s_A,s_C,s_D,s_E,s_B1,s_B2,s_B3]\n",
    "\n",
    "elements = [['As','Ga'],['Au'],['Ge'],['Pd'],['Pd'],['Ge'],['Au']]\n",
    "# elements = [['Au'],['Au']]\n",
    "density_list=[p_GaAs,p_Au,p_Ge,p_Pd,p_Pd,p_Ge,p_Au]\n",
    "# density_list=[p_Au,p_Au]\n",
    "\n",
    "BW_A = np.array([[ 9.79,9.99, 11.09, 11.29],[ 8.47,8.66,9.67,9.86]])\n",
    "BW_C = np.array([[9.25, 9.45,10.1,10.3]])\n",
    "BW_D = np.array([[9.4,9.6,10.2,10.4]])\n",
    "BW_E = np.array([[2.2,2.4,3.7,3.9]])\n",
    "BW_C=[[1.88,1.96,3.7,3.9]] #gold M-line\n",
    "BW_D = np.array([[.6,.7,1.4,1.5]]) #Ge L-line\n",
    "bw_list=[BW_A,BW_C,BW_D,BW_E,BW_E,BW_D,BW_C]\n",
    "# bw_list=[BW_C,BW_C]\n",
    "\n",
    "\n",
    "COMP_GA_AS_WT=(hs.material.atomic_to_weight([.5,.5],['As','Ga'])/100)\n",
    "comp_list = [COMP_GA_AS_WT, [1],[1],[1],[1],[1],[1]]\n",
    "time = [.01, .1, .1, .1, .01, .01, .01]\n",
    "\n",
    "lines=[['As_Ka','Ga_Ka'],['Au_Ma'],['Ge_La'],['Pd_La'],['Pd_La'],['Ge_La'],['Au_Ma'] ]\n",
    "# lines=['Au_Ma']\n",
    "\n",
    "# for edx in [s_C,s_B3]:\n",
    "#     time = edx.data.shape[0]*edx.data.shape[1]*0.01\n",
    "#     edx=edx.sum('x').sum('y')\n",
    "#     edx.add_elements(['Au'])\n",
    "#     edx.add_lines(lines)\n",
    "#     edx.plot(background_windows=BW5)\n",
    "#     edx.set_microscope_parameters(beam_current=.1747, tilt_stage=tilt, real_time=time, elevation_angle=24.3, azimuth_angle=0.0)\n",
    "#     s_int=edx.get_lines_intensity(background_windows=BW5, integration_windows=IW,plot_result=0)\n",
    "    \n",
    "#     zeta = determine_zeta_factor(edx, s_int, [1], thickness, p_Au)\n",
    "\n",
    "#     for z in zeta:\n",
    "#         print('zeta',np.nanmean(z.data.flatten()))\n",
    "# return\n",
    "    \n",
    "for edx, current, density, element,bw, comp, t, line \\\n",
    "in zip(s,probe_current, density_list, elements,bw_list,comp_list, time, lines):\n",
    "#     if element[0] is not 'Ge':\n",
    "#         continue\n",
    "#     print(element, thickness, current, density, bw)\n",
    "#     edx.plot()\n",
    "#     time=t\n",
    "    time = edx.data.shape[0]*edx.data.shape[1]*t\n",
    "    \n",
    "#     print('time',time)\n",
    "    \n",
    "    edx=edx.sum('x').sum('y')\n",
    "    edx.add_elements(element)\n",
    "#     print(line)\n",
    "#     if type(line) != list:\n",
    "#         line=[line]\n",
    "    edx.add_lines(line)\n",
    "#     edx.add_lines()\n",
    "#     plt.figure(str(element))\n",
    "#     edx.plot()\n",
    "#     print(edx.metadata)\n",
    "#     if element[0] == 'Ge':\n",
    "#         edx.plot(background_windows=bw)\n",
    "#     print(edx.metadata)\n",
    "    \n",
    "    edx.set_microscope_parameters(beam_current=current, tilt_stage=tilt, real_time=time, elevation_angle=24.3, azimuth_angle=0.0)\n",
    "    s_int=edx.get_lines_intensity(background_windows=bw, integration_windows=IW,plot_result=0)\n",
    "    \n",
    "    zeta = determine_zeta_factor(edx, s_int, comp, thickness, density)\n",
    "    print(element)\n",
    "    for z in zeta:\n",
    "        print('zeta',np.nanmean(z.data.flatten()))\n",
    "        print('std',np.std(z.data))"
   ]
  },
  {
   "cell_type": "code",
   "execution_count": 51,
   "metadata": {
    "collapsed": false
   },
   "outputs": [
    {
     "name": "stderr",
     "output_type": "stream",
     "text": [
      "C:\\Users\\Johannes\\AppData\\Local\\Continuum\\Anaconda3\\lib\\site-packages\\matplotlib\\__init__.py:898: UserWarning: axes.color_cycle is deprecated and replaced with axes.prop_cycle; please use the latter.\n",
      "  warnings.warn(self.msg_depr % (key, alt_key))\n"
     ]
    },
    {
     "name": "stdout",
     "output_type": "stream",
     "text": [
      "zeta 6987644.90399\n"
     ]
    }
   ],
   "source": [
    "#Only one\n",
    "IW = 1.2\n",
    "tilt = -np.sqrt(2.3**2+.6**2)\n",
    "\n",
    "probe_current= [(0.1769+.1747)/2, .1747, .1747,.17485,.175,.175,(.175+.1731)/2,.17325,np.mean([.1734,.1703]),np.mean([.1703,.1728]),.1747,.1747,.1747]\n",
    "p_GaAs = 5317.6\n",
    "p_Au = hs.material.elements.Au.Physical_properties.density_gcm3*1000\n",
    "p_Ge = hs.material.elements.Ge.Physical_properties.density_gcm3*1000\n",
    "p_Pd = hs.material.elements.Pd.Physical_properties.density_gcm3*1000\n",
    "\n",
    "BW_A = np.array([[ 9.79,9.99, 11.09, 11.29],[ 8.47,8.66,9.67,9.86]])\n",
    "BW_C = np.array([[9.25, 9.45,10.1,10.3]])\n",
    "BW_D = np.array([[9.4,9.6,10.2,10.4]])\n",
    "BW_E = np.array([[2.2,2.4,3.7,3.9]])\n",
    "BW_C=[[1.88,1.96,3.7,3.9]] #gold M-line\n",
    "# BW_D = np.array([[.6,.7,1.4,1.5]]) #Ge L-line\n",
    "\n",
    "s = hs.load('../Data/unheated/A_EDS Ge.hdf5')\n",
    "bw = BW_D\n",
    "current = probe_current[0]\n",
    "density=p_Ge\n",
    "comp=[1]\n",
    "time=.01*s.data.shape[0]*s.data.shape[1]\n",
    "s.add_elements(['Ge'])\n",
    "s.add_lines(['Ge_Ka'])\n",
    "\n",
    "s.mean('x').mean('y').plot(background_windows=bw)\n",
    "s.set_microscope_parameters(beam_current=current, tilt_stage=tilt, real_time=time, elevation_angle=24.3, azimuth_angle=0.0)\n",
    "s_int=s.get_lines_intensity(background_windows=bw, integration_windows=IW,plot_result=0)\n",
    "\n",
    "zeta = determine_zeta_factor(s, s_int, comp, thickness, density)\n",
    "for z in zeta:\n",
    "    print('zeta',np.nanmean(z.data.flatten()))"
   ]
  },
  {
   "cell_type": "markdown",
   "metadata": {},
   "source": [
    "### zeta factors"
   ]
  },
  {
   "cell_type": "code",
   "execution_count": 42,
   "metadata": {
    "collapsed": true
   },
   "outputs": [],
   "source": [
    "As=1412.91716335\n",
    "Ga=1215.72097779\n",
    "# Ga_l=1626.12587259\n",
    "\n",
    "Au1=6945.31059159\n",
    "Au2=7245.99584755\n",
    "\n",
    "Ge1=1482.31684522\n",
    "# Ge1_l=1791.73734361\n",
    "Ge2=1463.72509386\n",
    "\n",
    "Pd1=2496.79609568 # This is Pd_l, not Pd_m\n",
    "Pd2=2636.83270908\n",
    "\n",
    "kAu_l=4.892\n",
    "kGe_k=2.617\n",
    "# kPd_m=3.825\n",
    "\n",
    "kGa_k=2.4919\n",
    "# kGa_l=4.719\n",
    "kAs_k=2.835\n",
    "# kAs_l=4.315"
   ]
  },
  {
   "cell_type": "markdown",
   "metadata": {},
   "source": [
    "## New zeta factors (0.1, 0.01 seconds)"
   ]
  },
  {
   "cell_type": "code",
   "execution_count": 7,
   "metadata": {
    "collapsed": false
   },
   "outputs": [],
   "source": [
    "\n",
    "As= 706.458581674\n",
    "Ga= 607.860488895\n",
    "\n",
    "Au1= 3472.6552958\n",
    "\n",
    "# Ge1= 741.158422611\n",
    "\n",
    "Pd1= 1248.39804784\n",
    "\n",
    "Pd2= 1318.41635454\n",
    "\n",
    "Ge2= 731.862546929\n",
    "\n",
    "Au2= 3450.47421312\n",
    "\n",
    "AuM=np.mean(2387,2397) #2387 2396\n",
    "GeL = 900"
   ]
  },
  {
   "cell_type": "code",
   "execution_count": 31,
   "metadata": {
    "collapsed": false,
    "scrolled": true
   },
   "outputs": [
    {
     "name": "stdout",
     "output_type": "stream",
     "text": [
      "('Ga', 'As')\n",
      "k 0.8789770723104056\n",
      "z 0.853046594982\n",
      "('Ga', 'Au')\n",
      "k 0.64423474663909\n",
      "z 0.248278739829\n",
      "('Ga', 'Ge')\n",
      "k 0.9521971723347343\n",
      "z 0.803692030617\n",
      "('As', 'Au')\n",
      "k 0.7329369183040331\n",
      "z 0.29104944711\n",
      "('As', 'Ge')\n",
      "k 1.0833014902560183\n",
      "z 0.942143178748\n",
      "('Au', 'Ge')\n",
      "k 1.4780282766526556\n",
      "z 3.23705538046\n"
     ]
    }
   ],
   "source": [
    "\n",
    "from itertools import combinations\n",
    "element=['Ga','As','Au','Ge']\n",
    "zeta=[Ga,As,AuM,Ge]\n",
    "kfact=[kGa_k,kAs_k,kAu_m,kGe_k]\n",
    "mydict = dict()\n",
    "for e,z,k in zip(element,zeta,kfact):\n",
    "    mydict[e]={}\n",
    "    mydict[e]['k']=k\n",
    "    mydict[e]['z']=z\n",
    "for p in combinations(element,2):\n",
    "    print(p)\n",
    "    for i in ['k','z']:\n",
    "        print(i, mydict[p[0]][i]/mydict[p[1]][i])"
   ]
  },
  {
   "cell_type": "markdown",
   "metadata": {},
   "source": [
    "#### Make zeta-k-value plots"
   ]
  },
  {
   "cell_type": "code",
   "execution_count": 51,
   "metadata": {
    "collapsed": false
   },
   "outputs": [
    {
     "name": "stdout",
     "output_type": "stream",
     "text": [
      "[ 1.2442577   1.17226891  2.15686275  4.02016807]\n"
     ]
    },
    {
     "data": {
      "text/plain": [
       "<matplotlib.text.Text at 0x7f0d9929c2b0>"
      ]
     },
     "execution_count": 51,
     "metadata": {},
     "output_type": "execute_result"
    }
   ],
   "source": []
  },
  {
   "cell_type": "code",
   "execution_count": 3,
   "metadata": {
    "collapsed": false
   },
   "outputs": [],
   "source": [
    "import glob\n",
    "import hyperspy.api as hs\n",
    "%matplotlib qt4\n",
    "import matplotlib.pyplot as plt\n",
    "PATH='/home/johannes/Desktop/Link to Data/160506_SC239_X/'\n",
    "PATH='/home/johannes/Desktop/Link to Data/unheated/'\n",
    "p=glob.glob(PATH+'*Survey Image (active)*')\n",
    "for r in p:\n",
    "    s=hs.load(r)\n",
    "    plt.figure(r),plt.imshow(s.data)\n"
   ]
  },
  {
   "cell_type": "markdown",
   "metadata": {},
   "source": [
    "# Quantification"
   ]
  },
  {
   "cell_type": "code",
   "execution_count": 19,
   "metadata": {
    "collapsed": false
   },
   "outputs": [],
   "source": [
    "# # Non-heat treated\n",
    "# s=hs.load('../Data/unheated/A_EDS Spectrum Image.hdf5')\n",
    "# s=s.inav[60.:180.,:]\n",
    "# s=hs.load('../Data/unheated/A_EDS Spectrum Image_60-180.hdf5')\n",
    "# return\n",
    "# s.plot()\n",
    "# return\n",
    "s=hs.load('../Data/unheated/B_EDS Spectrum Image.hdf5')\n",
    "    # # s.plot()\n",
    "    # # s.change_dtype('float')\n",
    "    # # s.decomposition()\n",
    "    # # s.get_decomposition_model(6)\n",
    "    # # s.save('../Data/unheated/A_EDS Spectrum Image.hdf5')\n",
    "# # plt.close('all')\n",
    "from scipy.signal import cspline1d as spline\n",
    "probe_current= [(0.1769+.1747)/2, .1747, .1747,.17485,.175,.175,(.175+.1731)/2,.17325,np.mean([.1734,.1703]),np.mean([.1703,.1728]),.1747,.1747,.1747]\n",
    "# BW1 = np.array([9.79,9.99, 11.09, 11.29])\n",
    "BW1=[8.3,8.6,11.2,11.3]\n",
    "# BW2=np.array([8.47,8.66,9.67,9.86])\n",
    "BW2=[8.57,8.67,11.2,11.3]\n",
    "# BW3= np.array([9.25, 9.45,10.1,10.3])\n",
    "BW3=BW2\n",
    "# BW4 = np.array([9.4,9.6,10.2,10.4])\n",
    "# BW4=[8.57,8.67,11.2,11.3]\n",
    "# BW4=[7.3,7.5,10.5,10.7]\n",
    "BW4=BW2\n",
    "# BW5 = np.array([2.2,2.4,3.7,3.9])\n",
    "BW5=[1.88,1.96,3.7,3.9]\n",
    "BW3=BW5 #Gold M-alpha\n",
    "BW4 = np.array([.6,.7,1.4,1.5]) #Ge L-line\n",
    "\n",
    "# bw=[BW1,BW2,BW3,BW4,BW5]\n",
    "bw=[BW1,BW2,BW3,BW5]#A\n",
    "# bw=[BW1,BW2,BW4,BW5]#A GeL\n",
    "# bw=[BW3,BW4,BW5] #B\n",
    "\n",
    "\n",
    "plt.close('all')\n",
    "# elements=['As','Ga','Au','Ge','Pd']\n",
    "elements=['As','Ga','Ge','Pd']\n",
    "# elements=['Au','Ge','Pd']\n",
    "s.add_elements(elements)\n",
    "# lines=['As_Ka','Ga_Ka','Au_Ma','Ge_La','Pd_La']\n",
    "lines=['As_Ka','Ga_Ka','Ge_La','Pd_La']\n",
    "# lines=['Au_Ma','Ge_Ka','Pd_La']\n",
    "# lines=['Au_Ma','Ge_La','Pd_La']\n",
    "s.add_lines(lines)\n",
    "# s.add_lines()\n",
    "s.sum('x').sum('y').plot(background_windows=bw)\n",
    "s.set_microscope_parameters(real_time=0.01,beam_current=probe_current[0])\n",
    "s_ints = s.get_lines_intensity(integration_windows=1.2,background_windows=bw, only_lines=lines)\n",
    "\n",
    "\n",
    "#     if el not in ['As','Ge','Pd','Au']:\n",
    "#     if el not in ['Pd','Au','Pd','As','Ge']:\n",
    "#         continue\n",
    "#     print(el)\n",
    "#     plt.figure(str(el))\n",
    "#     cmp=cmp.data\n",
    "#     cmp=cmp/100*255.\n",
    "#     cmp[cmp<10]=np.nan\n",
    "#     cmp[cmp>100]=255\n",
    "#     print(c)\n",
    "#     plt.imshow(cmp, cmap=c,alpha=1,interpolation='none')\n",
    "# plt.show()\n",
    "#     plt.plot(spline(cmp.data, lamb=lamb))\n",
    "# plt.legend(s.metadata.Sample.elements)"
   ]
  },
  {
   "cell_type": "code",
   "execution_count": 20,
   "metadata": {
    "collapsed": false
   },
   "outputs": [],
   "source": [
    "plt.close('all')\n",
    "# s.add_lines(['As_Ka','Ga_Ka','Ge_La','Pd_La'])\n",
    "s.sum('x').sum('y').plot(background_windows=bw)\n",
    "plt.show()"
   ]
  },
  {
   "cell_type": "code",
   "execution_count": 21,
   "metadata": {
    "collapsed": false
   },
   "outputs": [
    {
     "name": "stdout",
     "output_type": "stream",
     "text": [
      "h\n",
      "Solution converged to less than 0.001 weight percent, after 12 iterations.\n"
     ]
    }
   ],
   "source": [
    "from hyperspy import zeta_abscorr as zc\n",
    "print('h')\n",
    "# As=1412.91716335\n",
    "# Ga=1215.72097779\n",
    "# Au1=6945.31059159\n",
    "# Ge1=1482.31684522\n",
    "# Pd1=2496.79609568 # This is Pd_l, not Pd_m\n",
    "# Ga_l=1626.12587259\n",
    "# Ge1_l=1791.73734361\n",
    "# zeta=[As,Ga_l,Au1,Ge1_l,Pd1]\n",
    "# zeta=[As,Ga,Ge1,Pd1]\n",
    "As=np.mean([689,706])\n",
    "Ga=np.mean([582,608])\n",
    "Ge=np.mean([732,741,748])\n",
    "Pd=np.mean([1248,1284,1318])\n",
    "Au=np.mean([2387,2397])\n",
    "GeL=np.mean([900.,900.,933])\n",
    "AuM=np.mean((2387,2397))\n",
    "\n",
    "AsS=np.std([689,706])\n",
    "GaS=np.std([582,608])\n",
    "GeS=np.std([732,741,748])\n",
    "PdS=np.std([1248,1284,1318])\n",
    "AuS=np.std([2387,2397])\n",
    "GeLS=np.std([900.,900.,933])\n",
    "AuMS=np.std((2387,2397))\n",
    "\n",
    "\n",
    "kAu_l=4.892\n",
    "kAu_m=3.868\n",
    "kGe_k=2.617\n",
    "kGe_l=4.513\n",
    "kPd_m=3.825\n",
    "kGa_k=2.4919\n",
    "# kGa_l=4.719\n",
    "kAs_k=2.835\n",
    "\n",
    "zeta=[As,Ga,Ge,Pd]\n",
    "# zeta = [Au,GeL,Pd]\n",
    "# zetaS=[AuS,GeLS,PdS]\n",
    "# zeta=[As,Ga,AuM,GeL,Pd]\n",
    "kfactors = [kAs_k,kGa_k, kGe_k,kPd_m]\n",
    "# kfactors=[kAu_m,kGe_l,kPd_m]\n",
    "# kfactors = [kAs_k,kGa_k, kAu_m, kGe_k,kPd_m]\n",
    "\n",
    "s_comp_zeta, s_pt = s.quantification(s_ints, 'zeta', zeta)\n",
    "s_comp_cl = s.quantification(s_ints, 'CL', kfactors)\n",
    "s_comp_abs, s_pt = zc.quantification_zeta(s, s_ints, zeta, convergence_precision=0.001)\n",
    "\n",
    "s_comp_linescan_abs = [c.mean('x') for c in s_comp_abs]\n",
    "s_comp_linescan_zeta = [c.mean('x') for c in s_comp_zeta]\n",
    "s_comp_linescan_cl = [c.mean('x') for c in s_comp_cl]\n",
    "\n",
    "\n",
    "lamb=10\n",
    "\n",
    "# plt.figure()\n",
    "# for cmp,el,i,c in zip(s_comp_linescan,elements,s_ints, cmap):\n",
    "#     plt.plot(cmp)\n",
    "\n",
    "\n",
    "    \n",
    "# for cmp,el,i in zip(s_comp_linescan,elements,s_ints):\n",
    "#     plt.plot(spline(cmp.data, lamb=lamb))\n",
    "# plt.legend(elements)\n",
    "# print(s.metadata.Sample.elements)\n",
    "\n",
    "\n",
    "# kAu_l=4.892\n",
    "# kGe_k=2.617\n",
    "# kPd_m=3.825\n",
    "# kGa_k=2.4919\n",
    "# # kGa_l=4.719\n",
    "# kAs_k=2.835\n",
    "\n",
    "# # kfactors = [kAs_k,kGa_k, kAu_l, kGe_k,kPd_m]\n",
    "# kfactors = [kAs_k,kGa_k, kGe_k,kPd_m]\n",
    "# s_comp_cl = s.quantification(s_ints, 'CL', kfactors)\n",
    "# s_comp_linescan = [c.mean('x') for c in s_comp]\n",
    "# lamb=1\n",
    "\n",
    "# plt.figure('kfactor')\n",
    "# for cmp,el,i in zip(s_comp_linescan,elements,s_ints):\n",
    "#     plt.plot(spline(cmp.data, lamb=lamb))\n",
    "# plt.legend(elements)"
   ]
  },
  {
   "cell_type": "code",
   "execution_count": 11,
   "metadata": {
    "collapsed": false
   },
   "outputs": [
    {
     "name": "stdout",
     "output_type": "stream",
     "text": [
      "Solution converged to less than 0.001 weight percent, after 57 iterations.\n",
      "Solution converged to less than 0.001 weight percent, after 53 iterations.\n"
     ]
    }
   ],
   "source": [
    "s_comp_zetaopp, s_pt = s.quantification(s_ints, 'zeta', np.add(zeta,zetaS))\n",
    "# s_comp_clopp = s.quantification(s_ints, 'CL', kfactors)\n",
    "s_comp_absopp, s_pt = zc.quantification_zeta(s, s_ints, np.add(zeta,zetaS), convergence_precision=0.001)\n",
    "\n",
    "s_comp_linescan_absopp = [c.mean('x') for c in s_comp_absopp]\n",
    "s_comp_linescan_zetaopp = [c.mean('x') for c in s_comp_zetaopp]\n",
    "# s_comp_linescan_clopp = [c.mean('x') for c in s_comp_clopp]\n",
    "\n",
    "s_comp_zetaned, s_pt = s.quantification(s_ints, 'zeta', np.subtract(zeta,zetaS))\n",
    "# s_comp_clned = s.quantification(s_ints, 'CL', kfactors)\n",
    "s_comp_absned, s_pt = zc.quantification_zeta(s, s_ints, np.subtract(zeta,zetaS), convergence_precision=0.001)\n",
    "\n",
    "s_comp_linescan_absned = [c.mean('x') for c in s_comp_absned]\n",
    "s_comp_linescan_zetaned = [c.mean('x') for c in s_comp_zetaned]\n",
    "# s_comp_linescan_clned = [c.mean('x') for c in s_comp_clned]"
   ]
  },
  {
   "cell_type": "code",
   "execution_count": 10,
   "metadata": {
    "collapsed": false
   },
   "outputs": [
    {
     "data": {
      "text/plain": [
       "array([4, 6, 8])"
      ]
     },
     "execution_count": 10,
     "metadata": {},
     "output_type": "execute_result"
    }
   ],
   "source": [
    "np.subtract"
   ]
  },
  {
   "cell_type": "code",
   "execution_count": 26,
   "metadata": {
    "collapsed": false
   },
   "outputs": [
    {
     "name": "stdout",
     "output_type": "stream",
     "text": [
      "['As', 'Ga', 'Ge', 'Pd']\n"
     ]
    }
   ],
   "source": [
    "plt.close('all')\n",
    "from scipy.signal import cspline1d as spline\n",
    "l=10\n",
    "# elements.reverse()\n",
    "print(elements)\n",
    "colors=['r','g','b']\n",
    "for i, el in enumerate(elements):\n",
    "    plt.figure('1_'+str(el)+'_nm')\n",
    "    plt.hold(True)\n",
    "    cz=s_comp_linescan_zeta[i]\n",
    "#     cz_opp=s_comp_linescan_zetaopp[i]\n",
    "#     cz_ned=s_comp_linescan_zetaned[i]\n",
    "    \n",
    "    ccl=s_comp_linescan_cl[i]\n",
    "    \n",
    "    cab=s_comp_linescan_abs[i]\n",
    "#     cab_opp=s_comp_linescan_absopp[i]\n",
    "#     cab_ned=s_comp_linescan_absned[i]\n",
    "    \n",
    "    scale=s.axes_manager.as_dictionary()['axis-0']['scale']\n",
    "    x = np.arange(len(cab.data))*scale\n",
    "    plt.plot(x,spline(ccl.data,l),'b')\n",
    "    plt.plot(x,spline(cz.data,l),'g')\n",
    "    plt.plot(x,spline(cab.data,l),'r')\n",
    "#     plt.plot(x,spline(cz_opp.data,l),'g--')\n",
    "#     plt.plot(x,spline(cz_ned.data,l),'g--')\n",
    "#     plt.plot(x,spline(cab_opp.data,l),'r--')\n",
    "#     plt.plot(x,spline(cab_ned.data,l),'r--')\n",
    "#     plt.tight_layout()\n",
    "#     plt.xlim([None,360*scale])\n",
    "#     if i < 2:\n",
    "#         plt.ylim([-10,50])\n",
    "#     else:\n",
    "    plt.ylim([-10,110])\n",
    "    plt.legend(['CL','Zeta','Zeta (abs)'],loc='best')\n",
    "    plt.grid(axis='y')\n",
    "    plt.xlabel('X (nm)')\n",
    "    plt.ylabel('Composition (%)')\n",
    "    plt.savefig('../PROJECT/thesis/fig/q/2_GaAsPdGe_'+el)\n",
    "plt.show()"
   ]
  },
  {
   "cell_type": "code",
   "execution_count": 18,
   "metadata": {
    "collapsed": false
   },
   "outputs": [
    {
     "name": "stdout",
     "output_type": "stream",
     "text": [
      "['Au', 'Ge', 'Pd']\n"
     ]
    }
   ],
   "source": [
    "plt.figure()\n",
    "# elements.reverse()\n",
    "plt.hold(1)\n",
    "plt.grid(axis='y',which='both')\n",
    "colors=['r','g','b']\n",
    "for i in range(len(elements)):\n",
    "    cab=s_comp_linescan_abs[i]\n",
    "#     cabopp=s_comp_linescan_absopp[i]\n",
    "#     cabned=s_comp_linescan_absned[i]\n",
    "    scale=s.axes_manager.as_dictionary()['axis-0']['scale']\n",
    "    x = np.arange(len(cab.data))*scale\n",
    "    plt.plot(x,spline(cab.data,l))\n",
    "#     plt.plot(x,spline(cabopp.data,l),'--')\n",
    "#     plt.plot(x,spline(cabned.data,l),'--')\n",
    "    plt.tight_layout()\n",
    "    plt.xlim([None,360*scale])\n",
    "#     plt.ylim([-10,110])\n",
    "    plt.xlabel('X (nm)')\n",
    "    plt.ylabel('Composition (%)')\n",
    "print(elements)\n",
    "plt.legend(elements,loc='best')\n",
    "plt.savefig('../PROJECT/thesis/fig/q/1_all_abscorr2_GePdAu')\n",
    "plt.show()"
   ]
  },
  {
   "cell_type": "markdown",
   "metadata": {},
   "source": [
    "### With abs correction"
   ]
  },
  {
   "cell_type": "code",
   "execution_count": 41,
   "metadata": {
    "collapsed": false
   },
   "outputs": [
    {
     "name": "stderr",
     "output_type": "stream",
     "text": [
      "/home/johannes/hyperspy/hyperspy/zeta_abscorr.py:129: RuntimeWarning: invalid value encountered in true_divide\n",
      "  comp = np.asarray([zi / zi_sum for zi in zi_list])\n",
      "/home/johannes/hyperspy/hyperspy/misc/material.py:42: RuntimeWarning: invalid value encountered in true_divide\n",
      "  atomic_percent[i] /= sum_weight\n"
     ]
    },
    {
     "data": {
      "text/plain": [
       "<matplotlib.legend.Legend at 0x7f19706ed940>"
      ]
     },
     "execution_count": 41,
     "metadata": {},
     "output_type": "execute_result"
    }
   ],
   "source": [
    "from hyperspy import zeta_abscorr as zc\n",
    "\n",
    "As=np.mean([689,706])\n",
    "Ga=np.mean([582,608])\n",
    "Ge=np.mean([732,741,748])\n",
    "Pd=np.mean([1248,1284,1318])\n",
    "Au=np.mean([3450,3473])\n",
    "zeta=[As,Ga,Ge,Pd]\n",
    "\n",
    "s_comp, s_pt = zc.quantification_zeta(s, s_ints, zeta, convergence_precision=None)#0.00001)\n",
    "\n",
    "s_comp_linescan = [c.mean('x')[:360] for c in s_comp]\n",
    "lamb=1\n",
    "\n",
    "plt.figure('zeta-abscorr3')\n",
    "for cmp,el,i in zip(s_comp_linescan,elements,s_ints):\n",
    "    plt.plot(spline(cmp.data, lamb=lamb))\n",
    "plt.legend(elements)\n"
   ]
  },
  {
   "cell_type": "code",
   "execution_count": 29,
   "metadata": {
    "collapsed": false
   },
   "outputs": [],
   "source": [
    "plt.close('all')"
   ]
  },
  {
   "cell_type": "code",
   "execution_count": 6,
   "metadata": {
    "collapsed": true
   },
   "outputs": [],
   "source": [
    "s_comp, s_pt = s.quantification(s_ints, 'zeta', zeta)\n",
    "cmap = ['Blues','Reds','Blues','Greens','Reds']\n",
    "s_comp_linescan = [c.mean('x') for c in s_comp]\n",
    "lamb=100\n",
    "\n",
    "# plt.figure()\n",
    "# for cmp,el,i,c in zip(s_comp_linescan,elements,s_ints, cmap):\n",
    "#     plt.plot(cmp)\n",
    "plt.figure()\n",
    "for cmp,el,i,c in zip(s_comp_linescan,elements,s_ints, cmap):\n",
    "    plt.plot(spline(cmp.data, lamb=lamb))\n"
   ]
  },
  {
   "cell_type": "markdown",
   "metadata": {},
   "source": [
    "### HEAT TREATED!"
   ]
  },
  {
   "cell_type": "code",
   "execution_count": 8,
   "metadata": {
    "collapsed": false
   },
   "outputs": [
    {
     "name": "stdout",
     "output_type": "stream",
     "text": [
      "Solution converged to less than 1e-05 weight percent, after 6 iterations.\n",
      "Solution converged to less than 1e-05 weight percent, after 6 iterations.\n",
      "Solution converged to less than 1e-05 weight percent, after 6 iterations.\n"
     ]
    }
   ],
   "source": [
    "#Heat-treated\n",
    "from hyperspy import zeta_abscorr as zc\n",
    "from scipy.signal import cspline1d as spline\n",
    "# BW1 = np.array([9.79,9.99, 11.09, 11.29])\n",
    "BW1=[8.3,8.6,11.2,11.3]\n",
    "# BW2=np.array([8.47,8.66,9.67,9.86])\n",
    "BW2=[8.57,8.67,11.2,11.3]\n",
    "# BW3= np.array([9.25, 9.45,10.1,10.3])\n",
    "BW3=BW2\n",
    "# BW4 = np.array([9.4,9.6,10.2,10.4])\n",
    "# BW4=[8.57,8.67,11.2,11.3]\n",
    "# BW4=[7.3,7.5,10.5,10.7]\n",
    "BW4=BW2\n",
    "# BW5 = np.array([2.2,2.4,3.7,3.9])\n",
    "BW5=[1.88,1.96,3.7,3.9]\n",
    "BW3=BW5 #Gold M-alpha\n",
    "BW_ge = np.array([.6,.7,1.4,1.5]) #Ge L-line\n",
    "BW_gek=BW2\n",
    "# bw=[BW1,BW2,BW3,BW4,BW5]\n",
    "bw=[BW1,BW2,BW_gek,BW5]#,BW3]\n",
    "# bw=[BW3,BW4,BW5]\n",
    "\n",
    "As=np.mean([689,706])\n",
    "Ga=np.mean([582,608])\n",
    "GeK=np.mean([732,741,748])\n",
    "Pd = np.mean([1248,1284,1318])\n",
    "Au = np.mean([2387,2397])\n",
    "Ge = np.mean([900,900,933])\n",
    "\n",
    "kAu_l=4.892\n",
    "kAu_m=3.868\n",
    "kGe_k=2.617\n",
    "kGe_l=4.513\n",
    "kPd_m=3.825\n",
    "kGa_k=2.4919\n",
    "kAs_k=2.835\n",
    "\n",
    "# kfactors = [kAs_k,kGa_k, kAu_l, kGe_k,kPd_m]\n",
    "zeta = [As,Ga,GeK,Pd]#,Au]\n",
    "kfactors = [kAs_k, kGa_k, kGe_k,kPd_m]#,kAu_m]\n",
    "\n",
    "elements=['As','Ga','Ge','Pd']#,'Au']\n",
    "lines = np.array(['As_Ka','Ga_Ka','Ge_Ka','Pd_La'])#,'Au_Ma'])\n",
    "bw=[BW1,BW2,BW_gek,BW5]\n",
    "\n",
    "# Attempt with AU, without GaAs:\n",
    "# zeta= [Ge,Pd,Au]\n",
    "# kfactors=[kGe_l,kPd_m,kAu_m]\n",
    "# elements=['Ge','Pd','Au']\n",
    "# lines=np.array(['Ge_La','Pd_La','Au_Ma'])\n",
    "# bw=[BW3,BW_ge,BW5]\n",
    "\n",
    "plt.close('all')\n",
    "# sD=hs.load('../Data/160506_SC239_X/D_EDS Spectrum Image.dm3') #For D/E\n",
    "# sE=hs.load('../Data/160506_SC239_X/E_EDS Spectrum Image.dm3') #For D/E\n",
    "sB=hs.load('../Data/160506_SC239_X/B_EDS Spectrum Image_top.hdf5')\n",
    "sC=hs.load('../Data/160506_SC239_X/C_EDS Spectrum Image_behindC.hdf5')\n",
    "sF = hs.load('../Data/160506_SC239_X/F_EDS Spectrum Image_bright.hdf5')\n",
    "s=[sB,sC,sF]\n",
    "# s=[sD,sE]\n",
    "lamb=10\n",
    "# currentE = np.mean((0.1175,0.1169)) #E\n",
    "# currentD = np.mean((0.1175,0.1181)) #D\n",
    "# currents=[currentD,currentE]\n",
    "currents = [.1206,np.mean((.1194,.1181)),np.mean((.1169,.1175))]\n",
    "s_comp_linescan_abs=[]\n",
    "s_comp_linescan_zeta=[]\n",
    "s_comp_linescan_cl=[]\n",
    "s_comp_absl=[]\n",
    "s_comp_zetal=[]\n",
    "s_comp_cll=[]\n",
    "# for i,s in enumerate([s_top, s_bottom]):\n",
    "for i,(s,current) in enumerate(zip(s,currents)):\n",
    "\n",
    "    s.add_elements(elements)\n",
    "    s.add_lines(lines)\n",
    "    s.mean('x').mean('y').plot(background_windows=bw)\n",
    "    s.metadata\n",
    "    s.set_microscope_parameters(real_time=0.1,beam_current=current)\n",
    "    s_ints = s.get_lines_intensity(integration_windows=1.2,background_windows=bw,only_lines=lines)\n",
    "\n",
    "    s_comp_zeta, s_pt = s.quantification(s_ints, 'zeta', zeta)\n",
    "    s_comp_cl = s.quantification(s_ints, 'CL', kfactors)\n",
    "    s_comp_abs, s_pt = zc.quantification_zeta(s, s_ints, zeta, convergence_precision=0.00001)\n",
    "#     s_comp_linescan_abs.append([c.mean('y') for c in s_comp_abs])\n",
    "#     s_comp_linescan_zeta.append([c.mean('y') for c in s_comp_zeta])\n",
    "#     s_comp_linescan_cl.append([c.mean('y') for c in s_comp_cl])\n",
    "    \n",
    "    s_comp_absl.append(s_comp_abs)\n",
    "    s_comp_zetal.append(s_comp_zeta)\n",
    "    s_comp_cll.append(s_comp_cl)\n"
   ]
  },
  {
   "cell_type": "code",
   "execution_count": 84,
   "metadata": {
    "collapsed": true
   },
   "outputs": [],
   "source": [
    "elements=['Au','Ge','Pd']"
   ]
  },
  {
   "cell_type": "code",
   "execution_count": 9,
   "metadata": {
    "collapsed": false
   },
   "outputs": [
    {
     "name": "stdout",
     "output_type": "stream",
     "text": [
      "['As', 'Ga', 'Ge', 'Pd']\n",
      "<BaseSignal, title: atomic percent of As, dimensions: (59, 35|)> \n",
      " B,As,zeta, -0.593407254116  1.45113244569\n",
      "<BaseSignal, title: atomic percent of As, dimensions: (59, 35|)> \n",
      " B,As,CL, -0.758240509644  1.8385655976\n",
      "<BaseSignal, title: Atomic percent of As, dimensions: (59, 35|)> \n",
      " B,As,zetaAbs, -0.577447778143  1.41193735364\n",
      "<BaseSignal, title: atomic percent of Ga, dimensions: (59, 35|)> \n",
      " B,Ga,zeta, 0.232944072189  1.70568118101\n",
      "<BaseSignal, title: atomic percent of Ga, dimensions: (59, 35|)> \n",
      " B,Ga,CL, 0.288145265288  2.22310202241\n",
      "<BaseSignal, title: Atomic percent of Ga, dimensions: (59, 35|)> \n",
      " B,Ga,zetaAbs, 0.2267078424  1.66319528297\n",
      "<BaseSignal, title: atomic percent of Ge, dimensions: (59, 35|)> \n",
      " B,Ge,zeta, 43.7293207801  6.19898931975\n",
      "<BaseSignal, title: atomic percent of Ge, dimensions: (59, 35|)> \n",
      " B,Ge,CL, 47.9583588785  6.35826996752\n",
      "<BaseSignal, title: Atomic percent of Ge, dimensions: (59, 35|)> \n",
      " B,Ge,zetaAbs, 42.5623940926  6.14161112692\n",
      "<BaseSignal, title: atomic percent of Pd, dimensions: (59, 35|)> \n",
      " B,Pd,zeta, 56.6311424018  6.38615424965\n",
      "<BaseSignal, title: atomic percent of Pd, dimensions: (59, 35|)> \n",
      " B,Pd,CL, 52.5117363659  6.56777775922\n",
      "<BaseSignal, title: Atomic percent of Pd, dimensions: (59, 35|)> \n",
      " B,Pd,zetaAbs, 57.7883458431  6.31328674926\n",
      "<BaseSignal, title: atomic percent of As, dimensions: (55, 20|)> \n",
      " C,As,zeta, -0.482925444764  1.53346349856\n",
      "<BaseSignal, title: atomic percent of As, dimensions: (55, 20|)> \n",
      " C,As,CL, -0.620366669225  1.94214891502\n",
      "<BaseSignal, title: Atomic percent of As, dimensions: (55, 20|)> \n",
      " C,As,zetaAbs, -0.470032226848  1.49233690146\n",
      "<BaseSignal, title: atomic percent of Ga, dimensions: (55, 20|)> \n",
      " C,Ga,zeta, 0.37579374346  1.82401524003\n",
      "<BaseSignal, title: atomic percent of Ga, dimensions: (55, 20|)> \n",
      " C,Ga,CL, 0.47169077205  2.37128043594\n",
      "<BaseSignal, title: Atomic percent of Ga, dimensions: (55, 20|)> \n",
      " C,Ga,zetaAbs, 0.366177523773  1.77970637165\n",
      "<BaseSignal, title: atomic percent of Ge, dimensions: (55, 20|)> \n",
      " C,Ge,zeta, 43.2013529106  6.15777634309\n",
      "<BaseSignal, title: atomic percent of Ge, dimensions: (55, 20|)> \n",
      " C,Ge,CL, 47.3787097539  6.31304640878\n",
      "<BaseSignal, title: Atomic percent of Ge, dimensions: (55, 20|)> \n",
      " C,Ge,zetaAbs, 42.0583089355  6.09188678442\n",
      "<BaseSignal, title: atomic percent of Pd, dimensions: (55, 20|)> \n",
      " C,Pd,zeta, 56.9057787907  6.4558849656\n",
      "<BaseSignal, title: atomic percent of Pd, dimensions: (55, 20|)> \n",
      " C,Pd,CL, 52.7699661432  6.65846958577\n",
      "<BaseSignal, title: Atomic percent of Pd, dimensions: (55, 20|)> \n",
      " C,Pd,zetaAbs, 58.0455457676  6.37275136601\n",
      "<BaseSignal, title: atomic percent of As, dimensions: (22, 12|)> \n",
      " F,As,zeta, 3.25056517028  3.75744545508\n",
      "<BaseSignal, title: atomic percent of As, dimensions: (22, 12|)> \n",
      " F,As,CL, 3.96332461947  4.47028369314\n",
      "<BaseSignal, title: Atomic percent of As, dimensions: (22, 12|)> \n",
      " F,As,zetaAbs, 3.17091766886  3.68080433353\n",
      "<BaseSignal, title: atomic percent of Ga, dimensions: (22, 12|)> \n",
      " F,Ga,zeta, 4.22369439296  3.51254662803\n",
      "<BaseSignal, title: atomic percent of Ga, dimensions: (22, 12|)> \n",
      " F,Ga,CL, 5.33130450419  4.30653578319\n",
      "<BaseSignal, title: Atomic percent of Ga, dimensions: (22, 12|)> \n",
      " F,Ga,zetaAbs, 4.12435761889  3.44426643719\n",
      "<BaseSignal, title: atomic percent of Ge, dimensions: (22, 12|)> \n",
      " F,Ge,zeta, 37.228915698  6.38610845048\n",
      "<BaseSignal, title: atomic percent of Ge, dimensions: (22, 12|)> \n",
      " F,Ge,CL, 40.1851949222  6.680277715\n",
      "<BaseSignal, title: Atomic percent of Ge, dimensions: (22, 12|)> \n",
      " F,Ge,zetaAbs, 36.2640401248  6.30291670555\n",
      "<BaseSignal, title: atomic percent of Pd, dimensions: (22, 12|)> \n",
      " F,Pd,zeta, 55.2968247388  7.87041513564\n",
      "<BaseSignal, title: atomic percent of Pd, dimensions: (22, 12|)> \n",
      " F,Pd,CL, 50.5201759541  8.08353006464\n",
      "<BaseSignal, title: Atomic percent of Pd, dimensions: (22, 12|)> \n",
      " F,Pd,zetaAbs, 56.4406845874  7.8361063393\n"
     ]
    }
   ],
   "source": [
    "def bin_ndarray(ndarray, new_shape, operation='sum'):\n",
    "    \"\"\"\n",
    "    Bins an ndarray in all axes based on the target shape, by summing or\n",
    "        averaging.\n",
    "\n",
    "    Number of output dimensions must match number of input dimensions and \n",
    "        new axes must divide old ones.\n",
    "\n",
    "    Example\n",
    "    -------\n",
    "    >>> m = np.arange(0,100,1).reshape((10,10))\n",
    "    >>> n = bin_ndarray(m, new_shape=(5,5), operation='sum')\n",
    "    >>> print(n)\n",
    "\n",
    "    [[ 22  30  38  46  54]\n",
    "     [102 110 118 126 134]\n",
    "     [182 190 198 206 214]\n",
    "     [262 270 278 286 294]\n",
    "     [342 350 358 366 374]]\n",
    "\n",
    "    \"\"\"\n",
    "    operation = operation.lower()\n",
    "    if not operation in ['sum', 'mean']:\n",
    "        raise ValueError(\"Operation not supported.\")\n",
    "    if ndarray.ndim != len(new_shape):\n",
    "        raise ValueError(\"Shape mismatch: {} -> {}\".format(ndarray.shape,\n",
    "                                                           new_shape))\n",
    "    compression_pairs = [(d, c//d) for d,c in zip(new_shape,\n",
    "                                                  ndarray.shape)]\n",
    "    flattened = [l for p in compression_pairs for l in p]\n",
    "    ndarray = ndarray.reshape(flattened)\n",
    "    for i in range(len(new_shape)):\n",
    "        op = getattr(ndarray, operation)\n",
    "        ndarray = op(-1*(i+1))\n",
    "    return ndarray\n",
    "\n",
    "\n",
    "# plt.close('all')\n",
    "from scipy.signal import cspline1d as spline\n",
    "from os import makedirs\n",
    "# print(s_zeta)\n",
    "l=10\n",
    "print(elements)\n",
    "folder=['B','C','F']\n",
    "# folder=['D','E']\n",
    "plt.ioff()\n",
    "# scales=[sD.axes_manager.as_dictionary()['axis-0']['scale'],sE.axes_manager.as_dictionary()['axis-0']['scale']]\n",
    "scales=[1,1,1]\n",
    "f=open('../PROJECT/thesis/fig/q/B-C-F/without_Au_GeKline-std.txt','w+')\n",
    "for a,(s_zeta, s_cl,s_abs,scale) in enumerate(zip(s_comp_zetal, s_comp_cll, s_comp_absl,scales)):\n",
    "    for i, el in enumerate(elements):\n",
    "        for s_,tech in zip([s_zeta, s_cl, s_abs],['zeta','CL','zetaAbs']):\n",
    "#         for s_,tech in zip([s_zeta, s_cl],['zeta','CL']):\n",
    "#             plt.figure()\n",
    "            data = s_[i].data#-s_abs[i].data\n",
    "            mean = data.mean()\n",
    "            std=np.std(data)\n",
    "#             data = bin_ndarray(data, new_shape = (data.shape[0]/2,data.shape[1]/2), operation='mean')\n",
    "#             plt.imshow(data, cmap='coolwarm',extent=[0,data.shape[0]*scale,0,data.shape[1]*scale])\n",
    "#             plt.xlabel('nm')\n",
    "#             plt.ylabel('nm')\n",
    "#             plt.colorbar(label='Composition (%)')\n",
    "#             try:\n",
    "#                 makedirs('../PROJECT/thesis/fig/q/'+folder[a]+'_heatedAUHEATMAP/')\n",
    "#             except FileExistsError:\n",
    "#                 pass\n",
    "#             plt.savefig('../PROJECT/thesis/fig/q/'+folder[a]+'_heatedAU/'+str(el)+'_'+str(tech))\n",
    "            print(s_[i],'\\n',folder[a]+','+str(el)+','+str(tech)+', '+str(mean)+'  '+str(std))\n",
    "            f.write(str(mean)+' '+str(std)+'\\n')\n",
    "f.close()"
   ]
  },
  {
   "cell_type": "code",
   "execution_count": 27,
   "metadata": {
    "collapsed": false
   },
   "outputs": [],
   "source": [
    "f=open('a-txt','a')\n",
    "f.close()"
   ]
  },
  {
   "cell_type": "markdown",
   "metadata": {},
   "source": [
    "### Not really relevant"
   ]
  },
  {
   "cell_type": "code",
   "execution_count": null,
   "metadata": {
    "collapsed": false
   },
   "outputs": [],
   "source": [
    "from scipy.signal import cspline1d as spline\n",
    "print(s_comp_linescan[0].data.min())\n",
    "l=[]\n",
    "lamb=1000\n",
    "for cmp in s_comp_linescan:\n",
    "    l.append(spline(cmp.data, lamb=lamb))\n",
    "    \n",
    "for i in range(len(s_comp_linescan)):\n",
    "#     plt.plot(s_comp_linescan[i])\n",
    "    plt.plot(l[i])"
   ]
  },
  {
   "cell_type": "code",
   "execution_count": null,
   "metadata": {
    "collapsed": false
   },
   "outputs": [],
   "source": [
    "# s=hs.load('../Data/unheated/A_EDS GaAs.hdf5')\n",
    "%load_ext autoreload\n",
    "%autoreload 2\n",
    "from skimage.transform import rescale\n",
    "from hyperspy import project_routine\n",
    "\n",
    "eds_scale=s.axes_manager.as_dictionary()['axis-1']['scale']\n",
    "thickness_scale=t.axes_manager.as_dictionary()['axis-1']['scale']\n",
    "print(eds_scale, thickness_scale)\n",
    "\n",
    "th=thickness_map_rotated\n",
    "thick=((th-th.min())/th.max()*255).astype('uint8')\n",
    "eds=rescale(eds_mean,(eds_scale/thickness_scale))\n",
    "eds = eds[:1000,:]\n",
    "eds=((eds-eds.min())/(eds.max()-eds.min())*255).astype('uint8')\n",
    "print(eds.max())\n",
    "plt.figure('eds'),plt.imshow(eds)\n",
    "plt.figure('th'),plt.imshow(thick)\n",
    "project_routine.imreg(eds,thick,show=True)"
   ]
  },
  {
   "cell_type": "code",
   "execution_count": 2,
   "metadata": {
    "collapsed": false
   },
   "outputs": [
    {
     "name": "stderr",
     "output_type": "stream",
     "text": [
      "WARNING:hyperspy.signal:<EDSTEMSpectrum, title: D_EDS Spectrum Image, dimensions: (32, 32|2048)> data is replaced by its optimized copy\n",
      "WARNING:hyperspy.signal:<EDSTEMSpectrum, title: D_EDS Spectrum Image, dimensions: (32, 32|2048)> data is replaced by its optimized copy\n",
      "WARNING:hyperspy.signal:<EDSTEMSpectrum, title: E_EDS Spectrum Image, dimensions: (32, 32|2048)> data is replaced by its optimized copy\n"
     ]
    }
   ],
   "source": [
    "s_C = hs.load('../Data/unheated/C_EDS Spectrum Image.dm3').plot()\n",
    "s_D = hs.load('../Data/unheated/D_EDS Spectrum Image.dm3').plot()\n",
    "s_E = hs.load('../Data/unheated/E_EDS Spectrum Image.dm3').plot()"
   ]
  },
  {
   "cell_type": "markdown",
   "metadata": {},
   "source": [
    "## Det zeta factors GaAs? from heated"
   ]
  },
  {
   "cell_type": "code",
   "execution_count": null,
   "metadata": {
    "collapsed": true
   },
   "outputs": [],
   "source": []
  },
  {
   "cell_type": "code",
   "execution_count": 38,
   "metadata": {
    "collapsed": false
   },
   "outputs": [
    {
     "name": "stdout",
     "output_type": "stream",
     "text": [
      "The autoreload extension is already loaded. To reload it, use:\n",
      "  %reload_ext autoreload\n"
     ]
    },
    {
     "name": "stderr",
     "output_type": "stream",
     "text": [
      "/usr/local/lib/python3.5/dist-packages/matplotlib/__init__.py:898: UserWarning: axes.color_cycle is deprecated and replaced with axes.prop_cycle; please use the latter.\n",
      "  warnings.warn(self.msg_depr % (key, alt_key))\n"
     ]
    },
    {
     "name": "stdout",
     "output_type": "stream",
     "text": [
      "['As', 'Ga']\n",
      "zeta 688.909418905\n",
      "zeta 581.955065836\n"
     ]
    }
   ],
   "source": [
    "%load_ext autoreload\n",
    "%autoreload 2\n",
    "\n",
    "s = hs.load('../Data/160506_SC239_X/C_EDS Spectrum Image GaAs.hdf5')\n",
    "plt.close('all')\n",
    "IW = 1.2\n",
    "tilt = -np.sqrt(2.7**2+.8**2)\n",
    "\n",
    "probe_current= (.1194+.1181)/2\n",
    "\n",
    "p_GaAs = 5317.6\n",
    "elements = ['As','Ga']\n",
    "density=p_GaAs\n",
    "\n",
    "bw = np.array([[ 9.79,9.99, 11.09, 11.29],[ 8.47,8.66,9.67,9.86]])\n",
    "\n",
    "comp=(hs.material.atomic_to_weight([.5,.5],['As','Ga'])/100)\n",
    "t = 0.05\n",
    "\n",
    "time = s.data.shape[0]*s.data.shape[1]*t\n",
    "\n",
    "edx=s.sum('x').sum('y')\n",
    "edx.add_elements(elements)\n",
    "\n",
    "edx.add_lines()\n",
    "\n",
    "edx.plot(background_windows=bw)\n",
    "\n",
    "\n",
    "edx.set_microscope_parameters(beam_current=current, tilt_stage=tilt, real_time=time, elevation_angle=24.3, azimuth_angle=0.0)\n",
    "s_int=edx.get_lines_intensity(background_windows=bw, integration_windows=IW,plot_result=0)\n",
    "\n",
    "zeta = determine_zeta_factor(edx, s_int, comp, thickness, density)\n",
    "print(elements)\n",
    "for z in zeta:\n",
    "    print('zeta',np.nanmean(z.data.flatten()))"
   ]
  },
  {
   "cell_type": "code",
   "execution_count": 53,
   "metadata": {
    "collapsed": false
   },
   "outputs": [
    {
     "name": "stdout",
     "output_type": "stream",
     "text": [
      "The autoreload extension is already loaded. To reload it, use:\n",
      "  %reload_ext autoreload\n"
     ]
    },
    {
     "name": "stderr",
     "output_type": "stream",
     "text": [
      "C:\\Users\\Johannes\\AppData\\Local\\Continuum\\Anaconda3\\lib\\site-packages\\matplotlib\\__init__.py:898: UserWarning: axes.color_cycle is deprecated and replaced with axes.prop_cycle; please use the latter.\n",
      "  warnings.warn(self.msg_depr % (key, alt_key))\n"
     ]
    },
    {
     "name": "stdout",
     "output_type": "stream",
     "text": [
      "['Ge']\n",
      "zeta 933.357024269\n"
     ]
    },
    {
     "name": "stderr",
     "output_type": "stream",
     "text": [
      "C:\\Users\\Johannes\\AppData\\Local\\Continuum\\Anaconda3\\lib\\site-packages\\matplotlib\\__init__.py:898: UserWarning: axes.color_cycle is deprecated and replaced with axes.prop_cycle; please use the latter.\n",
      "  warnings.warn(self.msg_depr % (key, alt_key))\n"
     ]
    },
    {
     "name": "stdout",
     "output_type": "stream",
     "text": [
      "['Pd']\n",
      "zeta 1284.10806052\n"
     ]
    }
   ],
   "source": [
    "%load_ext autoreload\n",
    "%autoreload 2\n",
    "\n",
    "a_A1 = hs.load('../Data/unheated/A_EDS Ge.hdf5')\n",
    "a_A2 = hs.load('../Data/unheated/A_EDS Pd.hdf5')\n",
    "\n",
    "plt.close('all')\n",
    "IW = 1.2\n",
    "tilt = -np.sqrt(2.3**2+.6**2)\n",
    "\n",
    "current= (0.1769+.1747)/2\n",
    "\n",
    "p_Ge = hs.material.elements.Ge.Physical_properties.density_gcm3*1000\n",
    "p_Pd = hs.material.elements.Pd.Physical_properties.density_gcm3*1000\n",
    "elements = [['Ge'],['Pd']]\n",
    "\n",
    "# BW_ge = np.array([[9.25, 9.45,10.1,10.3]]) #K-line\n",
    "BW_ge = np.array([[.6,.7,1.4,1.5]]) #Ge L-line\n",
    "BW_pd = np.array([[2.2,2.4,3.7,3.9]])\n",
    "lines = [['Ge_La'],['Pd_La']]\n",
    "comp=[1]\n",
    "\n",
    "t = 0.01\n",
    "for s, bw,density,element,line in zip([a_A2,a_A1],[BW_ge,BW_pd],[p_Ge,p_Pd],elements,lines):\n",
    "    \n",
    "    time = s.data.shape[0]*s.data.shape[1]*t\n",
    "    edx=s.sum('x').sum('y')\n",
    "    edx.add_elements(element)\n",
    "    edx.add_lines(line)\n",
    "\n",
    "    edx.plot(background_windows=bw)\n",
    "\n",
    "    edx.set_microscope_parameters(beam_current=current, tilt_stage=tilt, real_time=time, elevation_angle=24.3, azimuth_angle=0.0)\n",
    "    s_int=edx.get_lines_intensity(background_windows=bw, integration_windows=IW,plot_result=0,only_lines=line)\n",
    "\n",
    "    zeta = determine_zeta_factor(edx, s_int, comp, thickness, density)\n",
    "    print(element)\n",
    "    for z in zeta:\n",
    "        print('zeta',np.nanmean(z.data.flatten()))\n"
   ]
  }
 ],
 "metadata": {
  "anaconda-cloud": {},
  "kernelspec": {
   "display_name": "Python [default]",
   "language": "python",
   "name": "python3"
  },
  "language_info": {
   "codemirror_mode": {
    "name": "ipython",
    "version": 3
   },
   "file_extension": ".py",
   "mimetype": "text/x-python",
   "name": "python",
   "nbconvert_exporter": "python",
   "pygments_lexer": "ipython3",
   "version": "3.5.2"
  }
 },
 "nbformat": 4,
 "nbformat_minor": 1
}
