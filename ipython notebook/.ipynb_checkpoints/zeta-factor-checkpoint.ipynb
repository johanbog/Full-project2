{
 "cells": [
  {
   "cell_type": "code",
   "execution_count": 2,
   "metadata": {
    "collapsed": false
   },
   "outputs": [
    {
     "name": "stdout",
     "output_type": "stream",
     "text": [
      "The autoreload extension is already loaded. To reload it, use:\n",
      "  %reload_ext autoreload\n"
     ]
    }
   ],
   "source": [
    "%load_ext autoreload\n",
    "%autoreload 2\n",
    "import hyperspy.api as hs\n",
    "%matplotlib qt4\n",
    "import matplotlib.pyplot as plt\n",
    "import numpy as np\n",
    "from hyperspy.zeta import *\n",
    "\n",
    "# s=hs.load('/home/johannes/Desktop/Link to Documents/Materialfysikk/Data/unheated/A_EDS Spectrum Image.dm3')\n",
    "# s2=hs.load('/home/johannes/Desktop/Link to Documents/Materialfysikk/Data/unheated/A_EDS GaAs.hdf5')\n",
    "# s2.plot()"
   ]
  },
  {
   "cell_type": "markdown",
   "metadata": {},
   "source": [
    "## Determine thickness"
   ]
  },
  {
   "cell_type": "code",
   "execution_count": 4,
   "metadata": {
    "collapsed": false
   },
   "outputs": [
    {
     "name": "stdout",
     "output_type": "stream",
     "text": [
      "121.975335121\n"
     ]
    }
   ],
   "source": [
    "# thickness_map_left=hs.load('/home/johannes/Desktop/Link to Documents/Materialfysikk/Data/unheated/Thickness Map_leftSide.dm3')\n",
    "thickness_map=hs.load('/home/johannes/Desktop/Link to Documents/Materialfysikk/Data/unheated/Thickness Map.dm3')\n",
    "l = 104 # From Andreas\n",
    "thickness = thickness_map.isig[100.:200.,70.:190.].data.mean()*l\n",
    "print(thickness)"
   ]
  },
  {
   "cell_type": "code",
   "execution_count": null,
   "metadata": {
    "collapsed": false
   },
   "outputs": [],
   "source": [
    "s=hs.load('/home/johannes/Desktop/Link to Documents/Materialfysikk/Data/unheated/B_EDS Spectrum Image.dm3')\n",
    "s.save('/home/johannes/Desktop/Link to Documents/Materialfysikk/Data/unheated/B_EDS Spectrum Image.hdf5')\n",
    "# s.inav[:,8.:68.].save('/home/johannes/Desktop/Link to Documents/Materialfysikk/Data/unheated/B_EDS_1.hdf5')\n",
    "# s.inav[:,80.:200.].save('/home/johannes/Desktop/Link to Documents/Materialfysikk/Data/unheated/B_EDS_2.hdf5')\n",
    "# s.inav[:,220.:280.].save('/home/johannes/Desktop/Link to Documents/Materialfysikk/Data/unheated/B_EDS_3.hdf5')\n",
    "# scrop=s.inav[40.0:200.0, 0.:100.]\n",
    "# scrop.save('/home/johannes/Desktop/Link to Documents/Materialfysikk/Data/unheated/A_EDS GaAs.hdf5')\n",
    "\n",
    "# s_B1=hs.load('/home/johannes/Desktop/Link to Documents/Materialfysikk/Data/unheated/B_EDS_1.hdf5')\n",
    "# s_B2=hs.load('/home/johannes/Desktop/Link to Documents/Materialfysikk/Data/unheated/B_EDS_2.hdf5')\n",
    "# s_B3=hs.load('/home/johannes/Desktop/Link to Documents/Materialfysikk/Data/unheated/B_EDS_3.hdf5')"
   ]
  },
  {
   "cell_type": "code",
   "execution_count": null,
   "metadata": {
    "collapsed": true
   },
   "outputs": [],
   "source": [
    "s_B1.sum('x').sum('y').plot() # E = Pd\n",
    "s_B2.sum('x').sum('y').plot() # D = Ge\n",
    "s_B3.sum('x').sum('y').plot() # C = Au"
   ]
  },
  {
   "cell_type": "code",
   "execution_count": 19,
   "metadata": {
    "collapsed": false,
    "scrolled": false
   },
   "outputs": [
    {
     "name": "stdout",
     "output_type": "stream",
     "text": [
      "The autoreload extension is already loaded. To reload it, use:\n",
      "  %reload_ext autoreload\n"
     ]
    },
    {
     "name": "stderr",
     "output_type": "stream",
     "text": [
      "WARNING:hyperspy.signal:<EDSTEMSpectrum, title: D_EDS Spectrum Image, dimensions: (32, 32|2048)> data is replaced by its optimized copy\n",
      "WARNING:hyperspy.signal:<EDSTEMSpectrum, title: D_EDS Spectrum Image, dimensions: (32, 32|2048)> data is replaced by its optimized copy\n",
      "WARNING:hyperspy.signal:<EDSTEMSpectrum, title: E_EDS Spectrum Image, dimensions: (32, 32|2048)> data is replaced by its optimized copy\n",
      "/usr/local/lib/python3.5/dist-packages/matplotlib/__init__.py:898: UserWarning: axes.color_cycle is deprecated and replaced with axes.prop_cycle; please use the latter.\n",
      "  warnings.warn(self.msg_depr % (key, alt_key))\n"
     ]
    },
    {
     "name": "stdout",
     "output_type": "stream",
     "text": [
      "['As', 'Ga']\n",
      "zeta 1412.91716335\n",
      "zeta 1215.72097779\n"
     ]
    },
    {
     "name": "stderr",
     "output_type": "stream",
     "text": [
      "/usr/local/lib/python3.5/dist-packages/matplotlib/__init__.py:898: UserWarning: axes.color_cycle is deprecated and replaced with axes.prop_cycle; please use the latter.\n",
      "  warnings.warn(self.msg_depr % (key, alt_key))\n"
     ]
    },
    {
     "name": "stdout",
     "output_type": "stream",
     "text": [
      "['Au']\n",
      "zeta 3472.6552958\n"
     ]
    },
    {
     "name": "stderr",
     "output_type": "stream",
     "text": [
      "/usr/local/lib/python3.5/dist-packages/matplotlib/__init__.py:898: UserWarning: axes.color_cycle is deprecated and replaced with axes.prop_cycle; please use the latter.\n",
      "  warnings.warn(self.msg_depr % (key, alt_key))\n"
     ]
    },
    {
     "name": "stdout",
     "output_type": "stream",
     "text": [
      "['Ge']\n",
      "zeta 741.158422611\n"
     ]
    },
    {
     "name": "stderr",
     "output_type": "stream",
     "text": [
      "/usr/local/lib/python3.5/dist-packages/matplotlib/__init__.py:898: UserWarning: axes.color_cycle is deprecated and replaced with axes.prop_cycle; please use the latter.\n",
      "  warnings.warn(self.msg_depr % (key, alt_key))\n"
     ]
    },
    {
     "name": "stdout",
     "output_type": "stream",
     "text": [
      "['Pd']\n",
      "zeta 1248.39804784\n"
     ]
    }
   ],
   "source": [
    "%load_ext autoreload\n",
    "%autoreload 2\n",
    "\n",
    "plt.close('all')\n",
    "IW = 1.2\n",
    "tilt = -np.sqrt(2.3**2+.6**2)\n",
    "\n",
    "probe_current= [(0.1769+.1747)/2, .1747, .1747,.17485,.175,.175,(.175+.1731)/2,.17325,np.mean([.1734,.1703]),np.mean([.1703,.1728]),.1747,.1747,.1747]\n",
    "\n",
    "p_GaAs = 5317.6\n",
    "p_Au = hs.material.elements.Au.Physical_properties.density_gcm3*1000\n",
    "p_Ge = hs.material.elements.Ge.Physical_properties.density_gcm3*1000\n",
    "p_Pd = hs.material.elements.Pd.Physical_properties.density_gcm3*1000\n",
    " \n",
    "s_A = hs.load('/home/johannes/Desktop/Link to Documents/Materialfysikk/Data/unheated/A_EDS GaAs.hdf5')\n",
    "# a_A1 = hs.load('/home/johannes/Desktop/Link to Documents/Materialfysikk/Data/unheated/A_EDS Ge.hdf5')\n",
    "# a_A2 = hs.load('/home/johannes/Desktop/Link to Documents/Materialfysikk/Data/unheated/A_EDS Pd.hdf5')\n",
    "# a_A1 = hs.load('/home/johannes/Desktop/Link to Documents/Materialfysikk/Data/unheated/A_EDS Pd.hdf5')\n",
    "s_C = hs.load('/home/johannes/Desktop/Link to Documents/Materialfysikk/Data/unheated/C_EDS Spectrum Image.dm3')\n",
    "s_D = hs.load('/home/johannes/Desktop/Link to Documents/Materialfysikk/Data/unheated/D_EDS Spectrum Image.dm3')\n",
    "s_E = hs.load('/home/johannes/Desktop/Link to Documents/Materialfysikk/Data/unheated/E_EDS Spectrum Image.dm3')\n",
    "# s_B1=hs.load('/home/johannes/Desktop/Link to Documents/Materialfysikk/Data/unheated/B_EDS_1.hdf5')\n",
    "# s_B2=hs.load('/home/johannes/Desktop/Link to Documents/Materialfysikk/Data/unheated/B_EDS_2.hdf5')\n",
    "# s_B3=hs.load('/home/johannes/Desktop/Link to Documents/Materialfysikk/Data/unheated/B_EDS_3.hdf5')\n",
    "\n",
    "# e=s_C.sum('x').sum('y')\n",
    "# e.add_elements(['Au'])\n",
    "# e.add_lines()\n",
    "# BW_C = np.array([[9.25, 9.45,10.1,10.3]])\n",
    "# e.plot(background_windows=BW_C)\n",
    "# return\n",
    "\n",
    "s=[s_A,s_C,s_D,s_E]#,s_B1,s_B2,s_B3]\n",
    "\n",
    "elements = [['As','Ga'],['Au'],['Ge'],['Pd'],['Pd'],['Ge'],['Au']]\n",
    "density_list=[p_GaAs,p_Au,p_Ge,p_Pd,p_Pd,p_Ge,p_Au]\n",
    "\n",
    "BW_A = np.array([[ 9.79,9.99, 11.09, 11.29],[ 8.47,8.66,9.67,9.86]])\n",
    "BW_C = np.array([[9.25, 9.45,10.1,10.3]])\n",
    "BW_D = np.array([[9.4,9.6,10.2,10.4]])\n",
    "BW_E = np.array([[2.2,2.4,3.7,3.9]])\n",
    "bw_list=[BW_A,BW_C,BW_D,BW_E,BW_E,BW_D,BW_C]\n",
    "\n",
    "COMP_GA_AS_WT=(hs.material.atomic_to_weight([.5,.5],['As','Ga'])/100)\n",
    "comp_list = [COMP_GA_AS_WT, [1],[1],[1],[1],[1],[1]]\n",
    "time = [.02, .1, .1, .1, .01, .01, .01]\n",
    "\n",
    "lines=[['As_Ka','Ga_La'],'Au_La','Ge_La','Pd_La']\n",
    "\n",
    "for edx, current, density, element,bw, comp, t \\\n",
    "in zip(s,probe_current, density_list, elements,bw_list,comp_list, time):#, lines):\n",
    "#     if element[0] is not 'Ge':\n",
    "#         continue\n",
    "#     print(element, thickness, current, density, bw)\n",
    "#     edx.plot()\n",
    "#     time=t\n",
    "    time = edx.data.shape[0]*edx.data.shape[1]*t\n",
    "    \n",
    "#     print('time',time)\n",
    "    \n",
    "    edx=edx.sum('x').sum('y')\n",
    "    edx.add_elements(element)\n",
    "#     print(line)\n",
    "#     if type(line) != list:\n",
    "#         line=[line]\n",
    "#     edx.add_lines(line)\n",
    "    edx.add_lines()\n",
    "#     plt.figure(str(element))\n",
    "#     edx.plot()\n",
    "#     print(edx.metadata)\n",
    "    edx.plot(background_windows=bw)\n",
    "#     print(edx.metadata)\n",
    "    \n",
    "    edx.set_microscope_parameters(beam_current=current, tilt_stage=tilt, real_time=time, elevation_angle=24.3, azimuth_angle=0.0)\n",
    "    s_int=edx.get_lines_intensity(background_windows=bw, integration_windows=IW,plot_result=0)\n",
    "    \n",
    "    zeta = determine_zeta_factor(edx, s_int, comp, thickness, density)\n",
    "    print(element)\n",
    "    for z in zeta:\n",
    "        print('zeta',np.nanmean(z.data.flatten()))"
   ]
  },
  {
   "cell_type": "markdown",
   "metadata": {},
   "source": [
    "### zeta factors"
   ]
  },
  {
   "cell_type": "code",
   "execution_count": 42,
   "metadata": {
    "collapsed": true
   },
   "outputs": [],
   "source": [
    "As=1412.91716335\n",
    "Ga=1215.72097779\n",
    "# Ga_l=1626.12587259\n",
    "\n",
    "Au1=6945.31059159\n",
    "Au2=7245.99584755\n",
    "\n",
    "Ge1=1482.31684522\n",
    "# Ge1_l=1791.73734361\n",
    "Ge2=1463.72509386\n",
    "\n",
    "Pd1=2496.79609568 # This is Pd_l, not Pd_m\n",
    "Pd2=2636.83270908\n",
    "\n",
    "kAu_l=4.892\n",
    "kGe_k=2.617\n",
    "# kPd_m=3.825\n",
    "\n",
    "kGa_k=2.4919\n",
    "# kGa_l=4.719\n",
    "kAs_k=2.835\n",
    "# kAs_l=4.315"
   ]
  },
  {
   "cell_type": "markdown",
   "metadata": {},
   "source": [
    "## New zeta factors (0.1, 0.01 seconds)"
   ]
  },
  {
   "cell_type": "code",
   "execution_count": 43,
   "metadata": {
    "collapsed": false
   },
   "outputs": [],
   "source": [
    "\n",
    "# As= 706.458581674\n",
    "# Ga= 607.860488895\n",
    "\n",
    "Au1= 3472.6552958\n",
    "\n",
    "# Ge1= 741.158422611\n",
    "\n",
    "Pd1= 1248.39804784\n",
    "\n",
    "Pd2= 1318.41635454\n",
    "\n",
    "Ge2= 731.862546929\n",
    "\n",
    "Au2= 3450.47421312"
   ]
  },
  {
   "cell_type": "code",
   "execution_count": 44,
   "metadata": {
    "collapsed": false,
    "scrolled": true
   },
   "outputs": [
    {
     "name": "stdout",
     "output_type": "stream",
     "text": [
      "('Ga', 'As')\n",
      "k 0.8789770723104056\n",
      "z 0.8604333002138275\n",
      "('Ga', 'Au')\n",
      "k 0.5093826655764513\n",
      "z 0.35008397731279367\n",
      "('Ga', 'Ge')\n",
      "k 0.9521971723347343\n",
      "z 0.8201492020483429\n",
      "('As', 'Au')\n",
      "k 0.579517579721995\n",
      "z 0.4068693961818933\n",
      "('As', 'Ge')\n",
      "k 1.0833014902560183\n",
      "z 0.9531816142454349\n",
      "('Au', 'Ge')\n",
      "k 1.869316010699274\n",
      "z 2.342721333160456\n"
     ]
    }
   ],
   "source": [
    "\n",
    "from itertools import combinations\n",
    "element=['Ga','As','Au','Ge']\n",
    "zeta=[Ga,As,Au1,Ge1]\n",
    "kfact=[kGa_k,kAs_k,kAu_l,kGe_k]\n",
    "mydict = dict()\n",
    "for e,z,k in zip(element,zeta,kfact):\n",
    "    mydict[e]={}\n",
    "    mydict[e]['k']=k\n",
    "    mydict[e]['z']=z\n",
    "for p in combinations(element,2):\n",
    "    print(p)\n",
    "    for i in ['k','z']:\n",
    "        print(i, mydict[p[0]][i]/mydict[p[1]][i])"
   ]
  },
  {
   "cell_type": "code",
   "execution_count": 3,
   "metadata": {
    "collapsed": false
   },
   "outputs": [],
   "source": [
    "import glob\n",
    "import hyperspy.api as hs\n",
    "%matplotlib qt4\n",
    "import matplotlib.pyplot as plt\n",
    "PATH='/home/johannes/Desktop/Link to Data/160506_SC239_X/'\n",
    "PATH='/home/johannes/Desktop/Link to Data/unheated/'\n",
    "p=glob.glob(PATH+'*Survey Image (active)*')\n",
    "for r in p:\n",
    "    s=hs.load(r)\n",
    "    plt.figure(r),plt.imshow(s.data)\n"
   ]
  },
  {
   "cell_type": "markdown",
   "metadata": {},
   "source": [
    "# Quantification"
   ]
  },
  {
   "cell_type": "code",
   "execution_count": null,
   "metadata": {
    "collapsed": false
   },
   "outputs": [],
   "source": [
    "# # Non-heat treated\n",
    "# s=hs.load('/home/johannes/Desktop/Link to Documents/Materialfysikk/Data/unheated/A_EDS Spectrum Image.hdf5')\n",
    "# s=s.inav[60.:180.,:]\n",
    "# s=hs.load('/home/johannes/Desktop/Link to Documents/Materialfysikk/Data/unheated/A_EDS Spectrum Image_60-180.hdf5')\n",
    "# return\n",
    "# s.plot()\n",
    "# return\n",
    "s=hs.load('/home/johannes/Desktop/Link to Documents/Materialfysikk/Data/unheated/B_EDS Spectrum Image.hdf5')\n",
    "    # # s.plot()\n",
    "    # # s.change_dtype('float')\n",
    "    # # s.decomposition()\n",
    "    # # s.get_decomposition_model(6)\n",
    "    # # s.save('/home/johannes/Desktop/Link to Documents/Materialfysikk/Data/unheated/A_EDS Spectrum Image.hdf5')\n",
    "# # plt.close('all')\n",
    "from scipy.signal import cspline1d as spline\n",
    "probe_current= [(0.1769+.1747)/2, .1747, .1747,.17485,.175,.175,(.175+.1731)/2,.17325,np.mean([.1734,.1703]),np.mean([.1703,.1728]),.1747,.1747,.1747]\n",
    "# BW1 = np.array([9.79,9.99, 11.09, 11.29])\n",
    "BW1=[8.3,8.6,11.2,11.3]\n",
    "# BW2=np.array([8.47,8.66,9.67,9.86])\n",
    "BW2=[8.57,8.67,11.2,11.3]\n",
    "# BW3= np.array([9.25, 9.45,10.1,10.3])\n",
    "BW3=BW2\n",
    "# BW4 = np.array([9.4,9.6,10.2,10.4])\n",
    "BW4=[8.57,8.67,11.2,11.3]\n",
    "# BW5 = np.array([2.2,2.4,3.7,3.9])\n",
    "BW5=[1.88,1.96,3.7,3.9]\n",
    "\n",
    "# bw=[BW1,BW2,BW3,BW4,BW5]\n",
    "# bw=[BW1,BW2,BW4,BW5]\n",
    "bw=[BW3,BW4,BW5]\n",
    "\n",
    "\n",
    "plt.close('all')\n",
    "# zeta=[Au1,Ge1,Pd1]\n",
    "# elements=['As','Ga','Au','Ge','Pd']\n",
    "# elements=['As','Ga','Ge','Pd']\n",
    "elements=['Au','Ge','Pd']\n",
    "s.add_elements(elements)\n",
    "# lines=['As_Ka','Ga_La','Au_Lb1','Ge_La','Pd_La']\n",
    "lines=['Au_La','Ge_La','Pd_La']\n",
    "s.add_lines(lines)\n",
    "s.mean('x').mean('y').plot(background_windows=bw)\n",
    "s.set_microscope_parameters(real_time=0.1,beam_current=probe_current[1])\n",
    "s_ints = s.get_lines_intensity(integration_windows=1.2,background_windows=bw, only_lines=lines)\n",
    "\n",
    "\n",
    "#     if el not in ['As','Ge','Pd','Au']:\n",
    "#     if el not in ['Pd','Au','Pd','As','Ge']:\n",
    "#         continue\n",
    "#     print(el)\n",
    "#     plt.figure(str(el))\n",
    "#     cmp=cmp.data\n",
    "#     cmp=cmp/100*255.\n",
    "#     cmp[cmp<10]=np.nan\n",
    "#     cmp[cmp>100]=255\n",
    "#     print(c)\n",
    "#     plt.imshow(cmp, cmap=c,alpha=1,interpolation='none')\n",
    "# plt.show()\n",
    "#     plt.plot(spline(cmp.data, lamb=lamb))\n",
    "# plt.legend(s.metadata.Sample.elements)"
   ]
  },
  {
   "cell_type": "code",
   "execution_count": 5,
   "metadata": {
    "collapsed": false
   },
   "outputs": [
    {
     "name": "stderr",
     "output_type": "stream",
     "text": [
      "/usr/local/lib/python3.5/dist-packages/matplotlib/__init__.py:898: UserWarning: axes.color_cycle is deprecated and replaced with axes.prop_cycle; please use the latter.\n",
      "  warnings.warn(self.msg_depr % (key, alt_key))\n"
     ]
    }
   ],
   "source": [
    "s.mean('x').mean('y').plot(background_windows=bw)"
   ]
  },
  {
   "cell_type": "code",
   "execution_count": 11,
   "metadata": {
    "collapsed": false
   },
   "outputs": [
    {
     "name": "stderr",
     "output_type": "stream",
     "text": [
      "/home/johannes/hyperspy/hyperspy/misc/eds/utils.py:491: RuntimeWarning: invalid value encountered in true_divide\n",
      "  composition[i] = intensity * zfactor / sumzi\n",
      "/home/johannes/hyperspy/hyperspy/misc/eds/utils.py:447: RuntimeWarning: divide by zero encountered in double_scalars\n",
      "  / intensities[i] / kfactors[i]\n",
      "/home/johannes/hyperspy/hyperspy/misc/material.py:42: RuntimeWarning: invalid value encountered in true_divide\n",
      "  atomic_percent[i] /= sum_weight\n",
      "/home/johannes/hyperspy/hyperspy/zeta_abscorr.py:129: RuntimeWarning: invalid value encountered in true_divide\n",
      "  comp = np.asarray([zi / zi_sum for zi in zi_list])\n",
      "/home/johannes/hyperspy/hyperspy/misc/material.py:357: RuntimeWarning: invalid value encountered in true_divide\n",
      "  weight_fraction /= np.sum(weight_fraction, 0)\n"
     ]
    },
    {
     "name": "stdout",
     "output_type": "stream",
     "text": [
      "Solution converged to less than 1e-05 weight percent, after 6 iterations.\n"
     ]
    }
   ],
   "source": [
    "from hyperspy import zeta_abscorr as zc\n",
    "\n",
    "# As=1412.91716335\n",
    "# Ga=1215.72097779\n",
    "# Au1=6945.31059159\n",
    "# Ge1=1482.31684522\n",
    "# Pd1=2496.79609568 # This is Pd_l, not Pd_m\n",
    "# Ga_l=1626.12587259\n",
    "# Ge1_l=1791.73734361\n",
    "# zeta=[As,Ga_l,Au1,Ge1_l,Pd1]\n",
    "# zeta=[As,Ga,Ge1,Pd1]\n",
    "As=np.mean([689,706])\n",
    "Ga=np.mean([582,608])\n",
    "Ge=np.mean([732,741,748])\n",
    "Pd=np.mean([1248,1284,1318])\n",
    "Au=np.mean([3450,3473])\n",
    "\n",
    "kAu_l=4.892\n",
    "kGe_k=2.617\n",
    "kPd_m=3.825\n",
    "kGa_k=2.4919\n",
    "# kGa_l=4.719\n",
    "kAs_k=2.835\n",
    "\n",
    "# zeta=[As,Ga,Ge,Pd]\n",
    "zeta = [Au,Ge,Pd]\n",
    "# kfactors = [kAs_k,kGa_k, kGe_k,kPd_m]\n",
    "kfactors=[kAu_l,kGe_k,kPd_m]\n",
    "\n",
    "s_comp_zeta, s_pt = s.quantification(s_ints, 'zeta', zeta)\n",
    "s_comp_cl = s.quantification(s_ints, 'CL', kfactors)\n",
    "\n",
    "s_comp_abs, s_pt = zc.quantification_zeta(s, s_ints, zeta, convergence_precision=0.00001)\n",
    "\n",
    "s_comp_linescan_abs = [c.mean('x') for c in s_comp_abs]\n",
    "s_comp_linescan_zeta = [c.mean('x') for c in s_comp_zeta]\n",
    "s_comp_linescan_cl = [c.mean('x') for c in s_comp_cl]\n",
    "\n",
    "lamb=10\n",
    "\n",
    "# plt.figure()\n",
    "# for cmp,el,i,c in zip(s_comp_linescan,elements,s_ints, cmap):\n",
    "#     plt.plot(cmp)\n",
    "\n",
    "\n",
    "    \n",
    "# for cmp,el,i in zip(s_comp_linescan,elements,s_ints):\n",
    "#     plt.plot(spline(cmp.data, lamb=lamb))\n",
    "# plt.legend(elements)\n",
    "# print(s.metadata.Sample.elements)\n",
    "\n",
    "\n",
    "# kAu_l=4.892\n",
    "# kGe_k=2.617\n",
    "# kPd_m=3.825\n",
    "# kGa_k=2.4919\n",
    "# # kGa_l=4.719\n",
    "# kAs_k=2.835\n",
    "\n",
    "# # kfactors = [kAs_k,kGa_k, kAu_l, kGe_k,kPd_m]\n",
    "# kfactors = [kAs_k,kGa_k, kGe_k,kPd_m]\n",
    "# s_comp_cl = s.quantification(s_ints, 'CL', kfactors)\n",
    "# s_comp_linescan = [c.mean('x') for c in s_comp]\n",
    "# lamb=1\n",
    "\n",
    "# plt.figure('kfactor')\n",
    "# for cmp,el,i in zip(s_comp_linescan,elements,s_ints):\n",
    "#     plt.plot(spline(cmp.data, lamb=lamb))\n",
    "# plt.legend(elements)"
   ]
  },
  {
   "cell_type": "code",
   "execution_count": 12,
   "metadata": {
    "collapsed": false
   },
   "outputs": [],
   "source": [
    "plt.close('all')\n",
    "from scipy.signal import cspline1d as spline\n",
    "l=10\n",
    "for i, el in enumerate(elements):\n",
    "    plt.figure(str(el))\n",
    "    plt.hold(True)\n",
    "    cz=s_comp_linescan_zeta[i]\n",
    "    ccl=s_comp_linescan_cl[i]\n",
    "    cab=s_comp_linescan_abs[i]\n",
    "    plt.plot(spline(ccl.data,l))\n",
    "    plt.plot(spline(cz.data,l))\n",
    "    plt.plot(spline(cab.data,l))\n",
    "    plt.tight_layout()\n",
    "#     plt.xlim([None,360])\n",
    "    plt.ylim([-10,110])\n",
    "    plt.legend(['CL','Zeta','Zeta (abs)'],loc='upper left')\n",
    "    plt.grid(axis='y')\n"
   ]
  },
  {
   "cell_type": "code",
   "execution_count": 73,
   "metadata": {
    "collapsed": false
   },
   "outputs": [
    {
     "data": {
      "text/plain": [
       "<matplotlib.legend.Legend at 0x7f1974a1b2b0>"
      ]
     },
     "execution_count": 73,
     "metadata": {},
     "output_type": "execute_result"
    }
   ],
   "source": [
    "plt.figure()\n",
    "plt.hold(1)\n",
    "plt.grid(axis='y',which='both')\n",
    "for i, el in enumerate(elements):\n",
    "    cab=s_comp_linescan_abs[i]\n",
    "    plt.plot(spline(cab.data,l))\n",
    "    plt.tight_layout()\n",
    "    plt.xlim([None,360])\n",
    "    plt.ylim([-10,110])\n",
    "plt.legend(elements,loc='upper left')"
   ]
  },
  {
   "cell_type": "markdown",
   "metadata": {},
   "source": [
    "### With abs correction"
   ]
  },
  {
   "cell_type": "code",
   "execution_count": 41,
   "metadata": {
    "collapsed": false
   },
   "outputs": [
    {
     "name": "stderr",
     "output_type": "stream",
     "text": [
      "/home/johannes/hyperspy/hyperspy/zeta_abscorr.py:129: RuntimeWarning: invalid value encountered in true_divide\n",
      "  comp = np.asarray([zi / zi_sum for zi in zi_list])\n",
      "/home/johannes/hyperspy/hyperspy/misc/material.py:42: RuntimeWarning: invalid value encountered in true_divide\n",
      "  atomic_percent[i] /= sum_weight\n"
     ]
    },
    {
     "data": {
      "text/plain": [
       "<matplotlib.legend.Legend at 0x7f19706ed940>"
      ]
     },
     "execution_count": 41,
     "metadata": {},
     "output_type": "execute_result"
    }
   ],
   "source": [
    "from hyperspy import zeta_abscorr as zc\n",
    "\n",
    "As=np.mean([689,706])\n",
    "Ga=np.mean([582,608])\n",
    "Ge=np.mean([732,741,748])\n",
    "Pd=np.mean([1248,1284,1318])\n",
    "Au=np.mean([3450,3473])\n",
    "zeta=[As,Ga,Ge,Pd]\n",
    "\n",
    "s_comp, s_pt = zc.quantification_zeta(s, s_ints, zeta, convergence_precision=None)#0.00001)\n",
    "\n",
    "s_comp_linescan = [c.mean('x')[:360] for c in s_comp]\n",
    "lamb=1\n",
    "\n",
    "plt.figure('zeta-abscorr3')\n",
    "for cmp,el,i in zip(s_comp_linescan,elements,s_ints):\n",
    "    plt.plot(spline(cmp.data, lamb=lamb))\n",
    "plt.legend(elements)\n"
   ]
  },
  {
   "cell_type": "code",
   "execution_count": 7,
   "metadata": {
    "collapsed": false
   },
   "outputs": [
    {
     "name": "stdout",
     "output_type": "stream",
     "text": [
      "['As', 'Au', 'Ga', 'Ge', 'Pd']\n"
     ]
    }
   ],
   "source": [
    "print(s.metadata.Sample.elements)"
   ]
  },
  {
   "cell_type": "code",
   "execution_count": 6,
   "metadata": {
    "collapsed": true
   },
   "outputs": [],
   "source": [
    "s_comp, s_pt = s.quantification(s_ints, 'zeta', zeta)\n",
    "cmap = ['Blues','Reds','Blues','Greens','Reds']\n",
    "s_comp_linescan = [c.mean('x') for c in s_comp]\n",
    "lamb=100\n",
    "\n",
    "# plt.figure()\n",
    "# for cmp,el,i,c in zip(s_comp_linescan,elements,s_ints, cmap):\n",
    "#     plt.plot(cmp)\n",
    "plt.figure()\n",
    "for cmp,el,i,c in zip(s_comp_linescan,elements,s_ints, cmap):\n",
    "    plt.plot(spline(cmp.data, lamb=lamb))\n"
   ]
  },
  {
   "cell_type": "code",
   "execution_count": 10,
   "metadata": {
    "collapsed": false
   },
   "outputs": [
    {
     "name": "stderr",
     "output_type": "stream",
     "text": [
      "WARNING:hyperspy.signal:<EDSTEMSpectrum, title: E_EDS Spectrum Image, dimensions: (64, 64|2048)> data is replaced by its optimized copy\n",
      "/home/johannes/hyperspy/hyperspy/misc/eds/utils.py:447: RuntimeWarning: divide by zero encountered in double_scalars\n",
      "  / intensities[i] / kfactors[i]\n"
     ]
    }
   ],
   "source": [
    "#Heat-treated\n",
    "from scipy.signal import cspline1d as spline\n",
    "BW1=[8.3,8.6,11.2,11.3]\n",
    "# BW2=np.array([8.47,8.66,9.67,9.86])\n",
    "BW2=[8.57,8.67,11.2,11.3]\n",
    "# BW3= np.array([9.25, 9.45,10.1,10.3])\n",
    "BW3=BW2\n",
    "# BW4 = np.array([9.4,9.6,10.2,10.4])\n",
    "BW4=[8.57,8.67,11.2,11.3]\n",
    "# BW5 = np.array([2.2,2.4,3.7,3.9])\n",
    "BW5=[1.88,1.96,3.7,3.9]\n",
    "bw=[BW1,BW2,BW3,BW4,BW5]\n",
    "bw=[BW1,BW2,BW4,BW5]\n",
    "\n",
    "As=1412.91716335\n",
    "Ga=1215.72097779\n",
    "Au1=6945.31059159\n",
    "Ge1=1482.31684522\n",
    "Pd1=2496.79609568 # This is Pd_l, not Pd_m\n",
    "zeta=[As,Ga,Au1,Ge1,Pd1]\n",
    "zeta=[As,Ga,Ge1,Pd1]\n",
    "\n",
    "kAu_l=4.892\n",
    "kGe_k=2.617\n",
    "kPd_m=3.825\n",
    "kGa_k=2.4919\n",
    "kAs_k=2.835\n",
    "\n",
    "# kfactors = [kAs_k,kGa_k, kAu_l, kGe_k,kPd_m]\n",
    "kfactors = [kAs_k, kGa_k, kGe_k,kPd_m]\n",
    "\n",
    "elements=['As','Ga','Ge','Pd']\n",
    "plt.close('all')\n",
    "s=hs.load('/home/johannes/Desktop/Link to Documents/Materialfysikk/Data/160506_SC239_X/E_EDS Spectrum Image.dm3')\n",
    "s_top=s.inav[:,:.5]\n",
    "s_bottom=s.inav[:,10.:]\n",
    "lamb=10\n",
    "for i,s in enumerate([s_top, s_bottom]):\n",
    "\n",
    "    elements=['As','Ga','Ge','Pd']\n",
    "    s.add_elements(elements)\n",
    "    s.add_lines()\n",
    "    s.metadata\n",
    "    s.set_microscope_parameters(real_time=0.2,beam_current=0.17)\n",
    "    s_ints = s.get_lines_intensity(integration_windows=1.2,background_windows=bw)\n",
    "    for method, factors in zip(['zeta','CL'],[zeta,kfactors]):\n",
    "        s_comp = s.quantification(s_ints, method, factors)\n",
    "        if type(s_comp) is tuple:\n",
    "            s_comp=s_comp[0]\n",
    "        s_comp_linescan = [c.mean('y') for c in s_comp]\n",
    "        plt.figure(str(i)+' '+method)\n",
    "        for cmp in s_comp_linescan:\n",
    "            plt.plot(spline(cmp.data, lamb=lamb))\n",
    "        plt.legend(elements)\n",
    "# s_comp_linescan = [c.mean('x') for c in s_comp]\n",
    "# lamb=1000\n",
    "# for cmp in s_comp_linescan:\n",
    "#     plt.plot(cmp)\n",
    "# #     plt.plot(spline(cmp.data, lamb=lamb))\n",
    "# plt.legend(s.metadata.Sample.elements)\n"
   ]
  },
  {
   "cell_type": "code",
   "execution_count": null,
   "metadata": {
    "collapsed": true
   },
   "outputs": [],
   "source": [
    "s_comp, s_pt = s.quantification(s_ints, 'zeta', zeta)"
   ]
  },
  {
   "cell_type": "markdown",
   "metadata": {},
   "source": [
    "### Not really relevant"
   ]
  },
  {
   "cell_type": "code",
   "execution_count": null,
   "metadata": {
    "collapsed": false
   },
   "outputs": [],
   "source": [
    "from scipy.signal import cspline1d as spline\n",
    "print(s_comp_linescan[0].data.min())\n",
    "l=[]\n",
    "lamb=1000\n",
    "for cmp in s_comp_linescan:\n",
    "    l.append(spline(cmp.data, lamb=lamb))\n",
    "    \n",
    "for i in range(len(s_comp_linescan)):\n",
    "#     plt.plot(s_comp_linescan[i])\n",
    "    plt.plot(l[i])"
   ]
  },
  {
   "cell_type": "code",
   "execution_count": null,
   "metadata": {
    "collapsed": false
   },
   "outputs": [],
   "source": [
    "# s=hs.load('/home/johannes/Desktop/Link to Documents/Materialfysikk/Data/unheated/A_EDS GaAs.hdf5')\n",
    "%load_ext autoreload\n",
    "%autoreload 2\n",
    "from skimage.transform import rescale\n",
    "from hyperspy import project_routine\n",
    "\n",
    "eds_scale=s.axes_manager.as_dictionary()['axis-1']['scale']\n",
    "thickness_scale=t.axes_manager.as_dictionary()['axis-1']['scale']\n",
    "print(eds_scale, thickness_scale)\n",
    "\n",
    "th=thickness_map_rotated\n",
    "thick=((th-th.min())/th.max()*255).astype('uint8')\n",
    "eds=rescale(eds_mean,(eds_scale/thickness_scale))\n",
    "eds = eds[:1000,:]\n",
    "eds=((eds-eds.min())/(eds.max()-eds.min())*255).astype('uint8')\n",
    "print(eds.max())\n",
    "plt.figure('eds'),plt.imshow(eds)\n",
    "plt.figure('th'),plt.imshow(thick)\n",
    "project_routine.imreg(eds,thick,show=True)"
   ]
  },
  {
   "cell_type": "code",
   "execution_count": 2,
   "metadata": {
    "collapsed": false
   },
   "outputs": [
    {
     "name": "stderr",
     "output_type": "stream",
     "text": [
      "WARNING:hyperspy.signal:<EDSTEMSpectrum, title: D_EDS Spectrum Image, dimensions: (32, 32|2048)> data is replaced by its optimized copy\n",
      "WARNING:hyperspy.signal:<EDSTEMSpectrum, title: D_EDS Spectrum Image, dimensions: (32, 32|2048)> data is replaced by its optimized copy\n",
      "WARNING:hyperspy.signal:<EDSTEMSpectrum, title: E_EDS Spectrum Image, dimensions: (32, 32|2048)> data is replaced by its optimized copy\n"
     ]
    }
   ],
   "source": [
    "s_C = hs.load('/home/johannes/Desktop/Link to Documents/Materialfysikk/Data/unheated/C_EDS Spectrum Image.dm3').plot()\n",
    "s_D = hs.load('/home/johannes/Desktop/Link to Documents/Materialfysikk/Data/unheated/D_EDS Spectrum Image.dm3').plot()\n",
    "s_E = hs.load('/home/johannes/Desktop/Link to Documents/Materialfysikk/Data/unheated/E_EDS Spectrum Image.dm3').plot()"
   ]
  },
  {
   "cell_type": "markdown",
   "metadata": {},
   "source": [
    "## Det zeta factors GaAs? from heated"
   ]
  },
  {
   "cell_type": "code",
   "execution_count": null,
   "metadata": {
    "collapsed": true
   },
   "outputs": [],
   "source": []
  },
  {
   "cell_type": "code",
   "execution_count": 38,
   "metadata": {
    "collapsed": false
   },
   "outputs": [
    {
     "name": "stdout",
     "output_type": "stream",
     "text": [
      "The autoreload extension is already loaded. To reload it, use:\n",
      "  %reload_ext autoreload\n"
     ]
    },
    {
     "name": "stderr",
     "output_type": "stream",
     "text": [
      "/usr/local/lib/python3.5/dist-packages/matplotlib/__init__.py:898: UserWarning: axes.color_cycle is deprecated and replaced with axes.prop_cycle; please use the latter.\n",
      "  warnings.warn(self.msg_depr % (key, alt_key))\n"
     ]
    },
    {
     "name": "stdout",
     "output_type": "stream",
     "text": [
      "['As', 'Ga']\n",
      "zeta 688.909418905\n",
      "zeta 581.955065836\n"
     ]
    }
   ],
   "source": [
    "%load_ext autoreload\n",
    "%autoreload 2\n",
    "\n",
    "s = hs.load('/home/johannes/Desktop/Link to Documents/Materialfysikk/Data/160506_SC239_X/C_EDS Spectrum Image GaAs.hdf5')\n",
    "plt.close('all')\n",
    "IW = 1.2\n",
    "tilt = -np.sqrt(2.7**2+.8**2)\n",
    "\n",
    "probe_current= (.1194+.1181)/2\n",
    "\n",
    "p_GaAs = 5317.6\n",
    "elements = ['As','Ga']\n",
    "density=p_GaAs\n",
    "\n",
    "bw = np.array([[ 9.79,9.99, 11.09, 11.29],[ 8.47,8.66,9.67,9.86]])\n",
    "\n",
    "comp=(hs.material.atomic_to_weight([.5,.5],['As','Ga'])/100)\n",
    "t = 0.05\n",
    "\n",
    "time = s.data.shape[0]*s.data.shape[1]*t\n",
    "\n",
    "edx=s.sum('x').sum('y')\n",
    "edx.add_elements(elements)\n",
    "\n",
    "edx.add_lines()\n",
    "\n",
    "edx.plot(background_windows=bw)\n",
    "\n",
    "\n",
    "edx.set_microscope_parameters(beam_current=current, tilt_stage=tilt, real_time=time, elevation_angle=24.3, azimuth_angle=0.0)\n",
    "s_int=edx.get_lines_intensity(background_windows=bw, integration_windows=IW,plot_result=0)\n",
    "\n",
    "zeta = determine_zeta_factor(edx, s_int, comp, thickness, density)\n",
    "print(elements)\n",
    "for z in zeta:\n",
    "    print('zeta',np.nanmean(z.data.flatten()))"
   ]
  },
  {
   "cell_type": "code",
   "execution_count": 20,
   "metadata": {
    "collapsed": false
   },
   "outputs": [
    {
     "name": "stdout",
     "output_type": "stream",
     "text": [
      "The autoreload extension is already loaded. To reload it, use:\n",
      "  %reload_ext autoreload\n"
     ]
    },
    {
     "name": "stderr",
     "output_type": "stream",
     "text": [
      "/usr/local/lib/python3.5/dist-packages/matplotlib/__init__.py:898: UserWarning: axes.color_cycle is deprecated and replaced with axes.prop_cycle; please use the latter.\n",
      "  warnings.warn(self.msg_depr % (key, alt_key))\n"
     ]
    },
    {
     "name": "stdout",
     "output_type": "stream",
     "text": [
      "['Ge']\n",
      "zeta 747.941491559\n"
     ]
    },
    {
     "name": "stderr",
     "output_type": "stream",
     "text": [
      "/usr/local/lib/python3.5/dist-packages/matplotlib/__init__.py:898: UserWarning: axes.color_cycle is deprecated and replaced with axes.prop_cycle; please use the latter.\n",
      "  warnings.warn(self.msg_depr % (key, alt_key))\n"
     ]
    },
    {
     "name": "stdout",
     "output_type": "stream",
     "text": [
      "['Pd']\n",
      "zeta 1284.10806052\n"
     ]
    }
   ],
   "source": [
    "%load_ext autoreload\n",
    "%autoreload 2\n",
    "\n",
    "# a_A1 = hs.load('/home/johannes/Desktop/Link to Documents/Materialfysikk/Data/unheated/A_EDS Ge.hdf5')\n",
    "# a_A2 = hs.load('/home/johannes/Desktop/Link to Documents/Materialfysikk/Data/unheated/A_EDS Pd.hdf5')\n",
    "\n",
    "plt.close('all')\n",
    "IW = 1.2\n",
    "tilt = -np.sqrt(2.3**2+.6**2)\n",
    "\n",
    "current= (0.1769+.1747)/2\n",
    "\n",
    "p_Ge = hs.material.elements.Ge.Physical_properties.density_gcm3*1000\n",
    "p_Pd = hs.material.elements.Pd.Physical_properties.density_gcm3*1000\n",
    "elements = [['Ge'],['Pd']]\n",
    "\n",
    "BW_ge = np.array([[9.25, 9.45,10.1,10.3]])\n",
    "BW_pd = np.array([[2.2,2.4,3.7,3.9]])\n",
    "\n",
    "comp=[1]\n",
    "\n",
    "t = 0.01\n",
    "for s, bw,density,element in zip([a_A2,a_A1],[BW_ge,BW_pd],[p_Ge,p_Pd],elements):\n",
    "    \n",
    "    time = s.data.shape[0]*s.data.shape[1]*t\n",
    "    edx=s.sum('x').sum('y')\n",
    "    edx.add_elements(element)\n",
    "    edx.add_lines()\n",
    "\n",
    "    edx.plot(background_windows=bw)\n",
    "\n",
    "    edx.set_microscope_parameters(beam_current=current, tilt_stage=tilt, real_time=time, elevation_angle=24.3, azimuth_angle=0.0)\n",
    "    s_int=edx.get_lines_intensity(background_windows=bw, integration_windows=IW,plot_result=0)\n",
    "\n",
    "    zeta = determine_zeta_factor(edx, s_int, comp, thickness, density)\n",
    "    print(element)\n",
    "    for z in zeta:\n",
    "        print('zeta',np.nanmean(z.data.flatten()))\n"
   ]
  }
 ],
 "metadata": {
  "anaconda-cloud": {},
  "kernelspec": {
   "display_name": "Python 3",
   "language": "python",
   "name": "python3"
  },
  "language_info": {
   "codemirror_mode": {
    "name": "ipython",
    "version": 3
   },
   "file_extension": ".py",
   "mimetype": "text/x-python",
   "name": "python",
   "nbconvert_exporter": "python",
   "pygments_lexer": "ipython3",
   "version": "3.5.2"
  }
 },
 "nbformat": 4,
 "nbformat_minor": 1
}
