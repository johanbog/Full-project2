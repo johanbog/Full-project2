{
 "cells": [
  {
   "cell_type": "code",
   "execution_count": 1,
   "metadata": {
    "collapsed": false
   },
   "outputs": [
    {
     "name": "stderr",
     "output_type": "stream",
     "text": [
      "unbcf_fast library is not present...\n",
      "Falling back to slow python only backend.\n"
     ]
    }
   ],
   "source": [
    "%load_ext autoreload\n",
    "%autoreload 2\n",
    "import hyperspy.api as hs\n",
    "%matplotlib qt4\n",
    "import matplotlib.pyplot as plt\n",
    "import numpy as np\n",
    "import cv2\n",
    "from scipy.ndimage.interpolation import rotate\n",
    "from skimage.transform import rescale\n",
    "from hyperspy import project_routine\n",
    "\n",
    "fname_diff=\"/home/johannes/Desktop/Link to Data/AstartDataJulie/160512_SC239_X_overview_60k.blo\"\n",
    "fname_nwcontact = \"/home/johannes/Desktop/Link to Data/160309JulieContact/NWcontact_EDS Spectrum Image.dm3\"\n",
    "\n",
    "sd_data=np.load('/home/johannes/Desktop/Link to Documents/Materialfysikk/PROJECT/Project/Oct9/sd_picture.npy')\n",
    "se_data=np.load('/home/johannes/Desktop/Link to Documents/Materialfysikk/PROJECT/Project/Oct9/se_picture.npy')\n",
    "# sd_data_new=np.load('/home/johannes/Desktop/Link to Documents/Materialfysikk/PROJECT/Project/Oct9/sd_picture_uint8_rotated.npy')\n",
    "# se_data_sd=np.load('/home/johannes/Desktop/Link to Documents/Materialfysikk/PROJECT/Project/Oct9/se_picture_uint8.npy')"
   ]
  },
  {
   "cell_type": "code",
   "execution_count": null,
   "metadata": {
    "collapsed": true
   },
   "outputs": [],
   "source": []
  },
  {
   "cell_type": "markdown",
   "metadata": {},
   "source": [
    "# Load (cropped) data"
   ]
  },
  {
   "cell_type": "code",
   "execution_count": 2,
   "metadata": {
    "collapsed": false
   },
   "outputs": [
    {
     "name": "stderr",
     "output_type": "stream",
     "text": [
      "WARNING:hyperspy.signal:<EDSTEMSpectrum, title: NWcontact_EDS Spectrum Image, dimensions: (186, 130|2048)> data is replaced by its optimized copy\n"
     ]
    }
   ],
   "source": [
    "# sd = hs.load('/home/johannes/Desktop/Link to Documents/Materialfysikk/PROJECT/Project/crops/num3/full_sd_sigcrop.hdf5')\n",
    "# edx= hs.load('/home/johannes/Desktop/Link to Documents/Materialfysikk/PROJECT/Project/crops/num3/full_se_sigcrop.hdf5')\n",
    "# sd = hs.load('/home/johannes/Downloads/160512_SC239_X_overview_60k.blo')\n",
    "# sd = hs.load('/home/johannes/Downloads/160512_SC239_X_overview_60k.hdf5').isig[10:20,10:20]\n",
    "# se = hs.load(\"/home/johannes/Desktop/Link to Data/160309JulieContact/NWcontact_EDS Spectrum Image.hdf5\").isig[10:20]\n",
    "\n",
    "sd=hs.load(\"/home/johannes/Desktop/Link to Data/sd_sigcrop.hdf5\")\n",
    "se = hs.load(\"/home/johannes/Desktop/Link to Data/160309JulieContact/NWcontact_EDS Spectrum Image.dm3\")\n",
    "# se.plot()\n",
    "\n",
    "# se=hs.load(\"/home/johannes/Desktop/Link to Data/se_sigcrop.hdf5\")\n",
    "# se = hs.load(\"/home/johannes/Desktop/Link to Data/160309JulieContact/NWcontact_EDS Spectrum Image.hdf5\")\n",
    "\n",
    "# se.save(\"/home/johannes/Desktop/Link to Data/160309JulieContact/NWcontact_EDS Spectrum Image.hdf5\")\n",
    "# sd.metadata\n",
    "# edx.metadata"
   ]
  },
  {
   "cell_type": "code",
   "execution_count": 6,
   "metadata": {
    "collapsed": false
   },
   "outputs": [],
   "source": [
    "sd.save(\"/home/johannes/Desktop/Link to Data/sd_sigcrop.hdf5\")\n",
    "se.save(\"/home/johannes/Desktop/Link to Data/se_sigcrop.hdf5\")"
   ]
  },
  {
   "cell_type": "code",
   "execution_count": 3,
   "metadata": {
    "collapsed": false
   },
   "outputs": [],
   "source": [
    "def scale_and_rotate(sd,sd_data,edx,edx_data):\n",
    "    pts1 = np.float32([[103,133],[89,72]])\n",
    "    pts2 = np.float32([[50,53],[131,53]])\n",
    "    angle1=np.arctan2(pts1[0,1]-pts1[1,1],pts1[0,0]-pts1[1,0])\n",
    "    angle2=np.arctan2(pts2[0,1]-pts2[1,1],pts2[0,0]-pts2[1,0])\n",
    "    rot = angle1-angle2\n",
    "\n",
    "    edx_scale = edx.axes_manager.as_dictionary()['axis-1']['scale']*1000\n",
    "    sd_scale = sd.axes_manager.as_dictionary()['axis-1']['scale']\n",
    "    scale = edx_scale/sd_scale\n",
    "    se_data2 = rescale(se_data, scale)\n",
    "    sd_data2 = rotate(sd_data, np.rad2deg(rot))\n",
    "    sd_data2 -= np.min(sd_data2)\n",
    "    sd_data2 = (sd_data2/np.max(sd_data2)*255).astype('uint8')\n",
    "    se_data2 -= np.min(se_data2)\n",
    "    se_data2 = (se_data2/np.max(se_data2)*255).astype('uint8')\n",
    "    \n",
    "    return (sd_data2, se_data2, scale)\n",
    "\n",
    "\n",
    "def imreg(sd_data2, se_data2):\n",
    "    im1 = se_data2\n",
    "    im2 = sd_data2\n",
    "    w, h = im1.shape[::-1]\n",
    "\n",
    "    methods = np.array(['cv2.TM_CCOEFF', 'cv2.TM_CCOEFF_NORMED', 'cv2.TM_CCORR','cv2.TM_CCORR_NORMED', 'cv2.TM_SQDIFF', 'cv2.TM_SQDIFF_NORMED'])\n",
    "    m = 'cv2.TM_SQDIFF_NORMED'\n",
    "    # not CCORR, CCOEFF, \n",
    "    # for m in methods:\n",
    "    method=eval(m)\n",
    "    res = cv2.matchTemplate(im2, im1, method)\n",
    "    min_val, max_val, min_loc, max_loc = cv2.minMaxLoc(res)\n",
    "\n",
    "    if method in [cv2.TM_SQDIFF, cv2.TM_SQDIFF_NORMED]:\n",
    "        top_left = min_loc\n",
    "    else:\n",
    "        top_left = max_loc\n",
    "    bottom_right = (top_left[0] + w, top_left[1] + h)\n",
    "\n",
    "#     cv2.rectangle(im2,top_left, bottom_right, 255, 1)\n",
    "\n",
    "#     plt.figure(m)\n",
    "#     plt.subplot(121),plt.imshow(res,cmap = 'gray')\n",
    "#     plt.title('Matching Result'), plt.xticks([]), plt.yticks([])\n",
    "#     plt.subplot(122),plt.imshow(im2,cmap = 'gray')\n",
    "#     plt.title('Detected Point'), plt.xticks([]), plt.yticks([])\n",
    "#     plt.suptitle(m)\n",
    "#     plt.hold('off')\n",
    "#     print(top_left,bottom_right)\n",
    "#     plt.show()\n",
    "    \n",
    "    return top_left, bottom_right\n",
    "\n",
    "def crop_sd(sd_data2, top_left, bottom_right):\n",
    "    sd_data_crop=sd_data2[top_left[1]:bottom_right[1],top_left[0]:bottom_right[0]]\n",
    "    return sd_data_crop\n",
    "\n",
    "def rotate_sd(sd):\n",
    "    pts1 = np.float32([[103,133],[89,72]])\n",
    "    pts2 = np.float32([[50,53],[131,53]])\n",
    "    angle1=np.arctan2(pts1[0,1]-pts1[1,1],pts1[0,0]-pts1[1,0])\n",
    "    angle2=np.arctan2(pts2[0,1]-pts2[1,1],pts2[0,0]-pts2[1,0])\n",
    "    rot = angle1-angle2\n",
    "    sd2 = sd.rotate(angle=np.rad2deg(rot), reshape=True, rotate_dimension='navigation')\n",
    "    \n",
    "    return sd2\n",
    "\n",
    "def connect(sd2, edx, scale, tl):\n",
    "    offset = tl\n",
    "    sd2.plot(colorbar=False)\n",
    "    edx.plot()\n",
    "    sd2.connect(edx, scale, offset)\n",
    "    "
   ]
  },
  {
   "cell_type": "code",
   "execution_count": 4,
   "metadata": {
    "collapsed": false,
    "scrolled": false
   },
   "outputs": [],
   "source": [
    "plt.close('all')\n",
    "sd_data2, se_data2, sd_scale = scale_and_rotate(sd,sd_data,se,se_data)\n",
    "tl,br = imreg(sd_data2, se_data2)\n",
    "# sd_data_crop = crop_sd(sd_data2, tl, br)\n",
    "sd2 = rotate_sd(sd)\n",
    "# connect(sd2,se,sd_scale,tl)"
   ]
  },
  {
   "cell_type": "markdown",
   "metadata": {},
   "source": [
    "# Find angle and scalefactor"
   ]
  },
  {
   "cell_type": "markdown",
   "metadata": {},
   "source": [
    "# Scale and rotate images"
   ]
  },
  {
   "cell_type": "markdown",
   "metadata": {},
   "source": [
    "# ImReg"
   ]
  },
  {
   "cell_type": "markdown",
   "metadata": {},
   "source": [
    "# Rotate SD"
   ]
  },
  {
   "cell_type": "markdown",
   "metadata": {},
   "source": [
    "## Connect EDX and SD"
   ]
  },
  {
   "cell_type": "code",
   "execution_count": 8,
   "metadata": {
    "collapsed": false
   },
   "outputs": [],
   "source": [
    "plt.close('all')\n",
    "offset = (67,76)\n",
    "sd2.plot(colorbar=False)\n",
    "edx.plot()"
   ]
  },
  {
   "cell_type": "code",
   "execution_count": null,
   "metadata": {
    "collapsed": false
   },
   "outputs": [],
   "source": [
    "sd2.connect(edx, scale, offset)"
   ]
  },
  {
   "cell_type": "markdown",
   "metadata": {},
   "source": [
    "# The other data...."
   ]
  },
  {
   "cell_type": "markdown",
   "metadata": {},
   "source": [
    "## Use survey images instead"
   ]
  },
  {
   "cell_type": "code",
   "execution_count": 5,
   "metadata": {
    "collapsed": false
   },
   "outputs": [
    {
     "name": "stdout",
     "output_type": "stream",
     "text": [
      "The autoreload extension is already loaded. To reload it, use:\n",
      "  %reload_ext autoreload\n",
      "/home/johannes/Desktop/Link to Documents/Materialfysikk/Data/160506_SC239_X/A_SI Survey Image.dm3\n",
      "      res-minimumres 0.21982\n",
      "/home/johannes/Desktop/Link to Documents/Materialfysikk/Data/160506_SC239_X/B_SI Survey Image.dm3\n",
      "      res-minimumres 0.641443\n",
      "/home/johannes/Desktop/Link to Documents/Materialfysikk/Data/160506_SC239_X/C_SI Survey Image.dm3\n",
      "      res-minimumres 0.0522586\n",
      "/home/johannes/Desktop/Link to Documents/Materialfysikk/Data/160506_SC239_X/D_SI Survey Image.dm3\n",
      "      res-minimumres 0.0538239\n",
      "/home/johannes/Desktop/Link to Documents/Materialfysikk/Data/160506_SC239_X/E_SI Survey Image.dm3\n",
      "      res-minimumres 0.00396298\n",
      "/home/johannes/Desktop/Link to Documents/Materialfysikk/Data/160506_SC239_X/F_SI Survey Image.dm3\n",
      "      res-minimumres 0.0111091\n",
      "/home/johannes/Desktop/Link to Documents/Materialfysikk/Data/160506_SC239_X/G_SI Survey Image.dm3\n",
      "      res-minimumres 0.0386429\n",
      "/home/johannes/Desktop/Link to Documents/Materialfysikk/Data/160506_SC239_X/H_SI Survey Image.dm3\n",
      "      res-minimumres 0.0283842\n",
      "/home/johannes/Desktop/Link to Documents/Materialfysikk/Data/160506_SC239_X/I_SI Survey Image.dm3\n",
      "      res-minimumres 0.0096536\n",
      "/home/johannes/Desktop/Link to Documents/Materialfysikk/Data/160506_SC239_X/J_SI Survey Image.dm3\n",
      "      res-minimumres 0.102082\n"
     ]
    }
   ],
   "source": [
    "%load_ext autoreload\n",
    "%autoreload 2\n",
    "%matplotlib qt4\n",
    "import matplotlib.pyplot as plt\n",
    "plt.close('all')\n",
    "import numpy as np\n",
    "from hyperspy import project_routine\n",
    "import hyperspy.api as hs\n",
    "from hyperspy.io_plugins.digital_micrograph import file_reader as file_reader\n",
    "PATH='/home/johannes/Desktop/Link to Documents/Materialfysikk/Data/160506_SC239_X/'\n",
    "END='_SI Survey Image.dm3'\n",
    "\n",
    "l = ['A','B','C','D','E','F','G','H','I','J']\n",
    "data=[]\n",
    "rects=[]\n",
    "ref='/home/johannes/Desktop/Link to Documents/Materialfysikk/Data/160506_SC239_X/HAADF300k.dm3'\n",
    "for i,a in enumerate(l[:]):\n",
    "    if a in ['A','B']:\n",
    "        pass\n",
    "#     plt.figure();x=hs.load(PATH+a+'_EDS Spectrum Image.dm3');plt.imshow(x.data.mean(axis=2))\n",
    "#     plt.figure(i); x=hs.load(PATH+a+END); plt.imshow(x)\n",
    "    rect = file_reader(PATH+a+END)[0]['original_metadata']['DocumentObjectList'][\n",
    "'TagGroup0']['AnnotationGroupList']['TagGroup1']['Rectangle']\n",
    "    \n",
    "#     print(rect) # (y0,x0,y1,x1)\n",
    "#     data.append(PATH+a+END)\n",
    "    data.append(PATH+a+END)\n",
    "    rects.append(rect)\n",
    "tl, br, scale, im  =project_routine.prepare_data(data,ref, rects)\n",
    "\n",
    "# plt.figure()\n",
    "# plt.imshow(im)"
   ]
  },
  {
   "cell_type": "code",
   "execution_count": 6,
   "metadata": {
    "collapsed": false,
    "scrolled": true
   },
   "outputs": [
    {
     "name": "stdout",
     "output_type": "stream",
     "text": [
      "(435, 294)\n",
      "(621, 960)\n",
      "0.75\n"
     ]
    }
   ],
   "source": [
    "print(tl[1])\n",
    "print(br[1])\n",
    "print(scale[1])\n",
    "# se=hs.load('/home/johannes/Desktop/Link to Documents/Materialfysikk/Data/160506_SC239_X/D_EDS Spectrum Image.dm3')\n",
    "# connect(sd2, se, sd_scale*scale[1], tl[1])"
   ]
  },
  {
   "cell_type": "code",
   "execution_count": 11,
   "metadata": {
    "collapsed": false
   },
   "outputs": [
    {
     "name": "stdout",
     "output_type": "stream",
     "text": [
      "0.697151396404 0.75\n"
     ]
    }
   ],
   "source": [
    "print(sd_scale, scale[1])"
   ]
  },
  {
   "cell_type": "code",
   "execution_count": 28,
   "metadata": {
    "collapsed": false
   },
   "outputs": [
    {
     "name": "stderr",
     "output_type": "stream",
     "text": [
      "WARNING:hyperspy.signal:<EDSTEMSpectrum, title: D_EDS Spectrum Image, dimensions: (32, 32|2048)> data is replaced by its optimized copy\n"
     ]
    }
   ],
   "source": [
    "%matplotlib qt4\n",
    "import hyperspy.api as hs\n",
    "s=hs.load('/home/johannes/Desktop/Link to Data/unheated/D_EDS Spectrum Image.dm3')\n",
    "s=s.sum('x').sum('y')\n",
    "fig=plt.figure()\n",
    "s.metadata\n",
    "s.plot()\n",
    "# s.add_elements(['Au'])\n",
    "# s.add_lines()\n",
    "# s.plot(background_windows=[[1,2,5,6]])"
   ]
  },
  {
   "cell_type": "code",
   "execution_count": 21,
   "metadata": {
    "collapsed": false
   },
   "outputs": [],
   "source": [
    "import matplotlib.pyplot as plt\n",
    "plt.close('all')"
   ]
  },
  {
   "cell_type": "code",
   "execution_count": null,
   "metadata": {
    "collapsed": true
   },
   "outputs": [],
   "source": [
    "import hyperspy as h\n",
    "h.io_plugins.digital_micrograph.file_reader"
   ]
  },
  {
   "cell_type": "markdown",
   "metadata": {},
   "source": [
    "# Old functions"
   ]
  },
  {
   "cell_type": "code",
   "execution_count": 39,
   "metadata": {
    "collapsed": false
   },
   "outputs": [
    {
     "data": {
      "text/plain": [
       "(<x axis, size: 253, index: 0>, <y axis, size: 298, index: 0>)"
      ]
     },
     "execution_count": 39,
     "metadata": {},
     "output_type": "execute_result"
    }
   ],
   "source": [
    "edx.plot()\n",
    "sd2.connect(edx, scale,offset)\n",
    "sd2.axes_manager.navigation_axes"
   ]
  },
  {
   "cell_type": "code",
   "execution_count": 2,
   "metadata": {
    "collapsed": false
   },
   "outputs": [],
   "source": [
    "fname_diff=\"/home/johannes/Desktop/Link to Data/AstartDataJulie/160512_SC239_X_overview_60k.blo\"\n",
    "fname_crop = \"/home/johannes/Desktop/Link to Data/AstartDataJulie/diff-contact.blo\"\n",
    "fname_smallgrains = \"/home/johannes/Desktop/Link to Data/160309JulieContact/SmallGrains_EDS Spectrum Image.dm3\"\n",
    "fname_nwcorner = \"/home/johannes/Desktop/Link to Data/160309JulieContact/NWcorner_EDS Spectrum Image.dm3\"\n",
    "fname_nwcontact = \"/home/johannes/Desktop/Link to Data/160309JulieContact/NWcontact_EDS Spectrum Image.dm3\"\n",
    "fname_contact='/home/johannes/Desktop/Link to Data/160309JulieContact/contact_EDS Spectrum Image.dm3'\n",
    "\n",
    "#USE HAADF, NOT BFTEM\n",
    "fname_overview='/home/johannes/Desktop/Link to Data/160309JulieContact/BFTEM_overview.dm3'\n",
    "fname_haadf1=   '/home/johannes/Desktop/Link to Data/160309JulieContact/HAADF_250k_3C.dm3'\n",
    "fname_haadf2=   '/home/johannes/Desktop/Link to Data/160309JulieContact/HAADF_250k_8C.dm3'\n",
    "fname_haadf3=   '/home/johannes/Desktop/Link to Data/160309JulieContact/HAADF_500k_8C.dm3'"
   ]
  },
  {
   "cell_type": "code",
   "execution_count": 3,
   "metadata": {
    "collapsed": false
   },
   "outputs": [
    {
     "name": "stderr",
     "output_type": "stream",
     "text": [
      "WARNING:hyperspy.signal:<EDSTEMSpectrum, title: NWcontact_EDS Spectrum Image, dimensions: (186, 130|2048)> data is replaced by its optimized copy\n",
      "WARNING:hyperspy.signal:<EDSTEMSpectrum, title: NWcorner_EDS Spectrum Image, dimensions: (116, 145|2048)> data is replaced by its optimized copy\n",
      "WARNING:hyperspy.signal:<EDSTEMSpectrum, title: SmallGrains_EDS Spectrum Image, dimensions: (238, 71|2048)> data is replaced by its optimized copy\n",
      "WARNING:hyperspy.signal:<EDSTEMSpectrum, title: contact_EDS Spectrum Image, dimensions: (34, 347|2048)> data is replaced by its optimized copy\n"
     ]
    }
   ],
   "source": [
    "import hyperspy.api as hs\n",
    "e0=hs.load(fname_haadf1)\n",
    "e1=hs.load(fname_nwcontact)\n",
    "e2=hs.load(fname_nwcorner)\n",
    "e3 =hs.load(fname_smallgrains)\n",
    "e4 = hs.load(fname_contact)\n",
    "e1d=e1.data.mean(axis=2)\n",
    "e2d=e2.data.mean(axis=2)\n",
    "e3d = e3.data.mean(axis=2)\n",
    "e4d = e4.data.mean(axis=2)"
   ]
  },
  {
   "cell_type": "code",
   "execution_count": 4,
   "metadata": {
    "collapsed": false
   },
   "outputs": [],
   "source": [
    "e0s = e0.axes_manager.as_dictionary()['axis-1']['scale']\n",
    "e1s = e1.axes_manager.as_dictionary()['axis-1']['scale']*1000\n",
    "e2s = e2.axes_manager.as_dictionary()['axis-1']['scale']\n",
    "e3s = e3.axes_manager.as_dictionary()['axis-1']['scale']\n",
    "e4s = e4.axes_manager.as_dictionary()['axis-1']['scale']*1000"
   ]
  },
  {
   "cell_type": "code",
   "execution_count": 5,
   "metadata": {
    "collapsed": false
   },
   "outputs": [],
   "source": [
    "e1dr = rescale(e1d, e1s/e0s)\n",
    "e2dr = rescale(e2d, e2s/e0s)\n",
    "e3dr = rescale(e3d, e3s/e0s)\n",
    "e4dr = rescale(e4d, e4s/e0s)\n",
    "# plt.imshow(e1dr)\n",
    "# plt.show()"
   ]
  },
  {
   "cell_type": "code",
   "execution_count": 6,
   "metadata": {
    "collapsed": false
   },
   "outputs": [],
   "source": [
    "e1dr -= e1dr.min()\n",
    "e1dr = (e1dr/e1dr.max()*255).astype('uint8')\n",
    "e2dr -= e2dr.min()\n",
    "e2dr = (e2dr/e2dr.max()*255).astype('uint8')\n",
    "e3dr -= e3dr.min()\n",
    "e3dr = (e3dr/e3dr.max()*255).astype('uint8')\n",
    "e4dr -= e4dr.min()\n",
    "e4dr = (e4dr/e4dr.max()*255).astype('uint8')\n",
    "e0d=e0.data\n",
    "e0d -=e0d.min()\n",
    "e0d = (e0d/e0d.max()*255).astype('uint8')\n",
    "# plt.figure()\n",
    "# plt.imshow(e2dr)\n",
    "# plt.show()"
   ]
  },
  {
   "cell_type": "code",
   "execution_count": 18,
   "metadata": {
    "collapsed": true
   },
   "outputs": [
    {
     "ename": "TypeError",
     "evalue": "super(type, obj): obj must be an instance or subtype of type",
     "output_type": "error",
     "traceback": [
      "\u001b[0;31m---------------------------------------------------------------------------\u001b[0m",
      "\u001b[0;31mTypeError\u001b[0m                                 Traceback (most recent call last)",
      "\u001b[0;32m<ipython-input-18-3546430264d3>\u001b[0m in \u001b[0;36m<module>\u001b[0;34m()\u001b[0m\n\u001b[0;32m----> 1\u001b[0;31m \u001b[0me0\u001b[0m \u001b[0;34m=\u001b[0m \u001b[0mhs\u001b[0m\u001b[0;34m.\u001b[0m\u001b[0mload\u001b[0m\u001b[0;34m(\u001b[0m\u001b[0mfname_haadf1\u001b[0m\u001b[0;34m)\u001b[0m\u001b[0;34m\u001b[0m\u001b[0m\n\u001b[0m\u001b[1;32m      2\u001b[0m \u001b[0me0d\u001b[0m\u001b[0;34m=\u001b[0m\u001b[0me0\u001b[0m\u001b[0;34m.\u001b[0m\u001b[0mdata\u001b[0m\u001b[0;34m\u001b[0m\u001b[0m\n\u001b[1;32m      3\u001b[0m \u001b[0me0d\u001b[0m \u001b[0;34m-=\u001b[0m\u001b[0me0d\u001b[0m\u001b[0;34m.\u001b[0m\u001b[0mmin\u001b[0m\u001b[0;34m(\u001b[0m\u001b[0;34m)\u001b[0m\u001b[0;34m\u001b[0m\u001b[0m\n\u001b[1;32m      4\u001b[0m \u001b[0me0d\u001b[0m \u001b[0;34m=\u001b[0m \u001b[0;34m(\u001b[0m\u001b[0me0d\u001b[0m\u001b[0;34m/\u001b[0m\u001b[0me0d\u001b[0m\u001b[0;34m.\u001b[0m\u001b[0mmax\u001b[0m\u001b[0;34m(\u001b[0m\u001b[0;34m)\u001b[0m\u001b[0;34m*\u001b[0m\u001b[0;36m255\u001b[0m\u001b[0;34m)\u001b[0m\u001b[0;34m.\u001b[0m\u001b[0mastype\u001b[0m\u001b[0;34m(\u001b[0m\u001b[0;34m'uint8'\u001b[0m\u001b[0;34m)\u001b[0m\u001b[0;34m\u001b[0m\u001b[0m\n\u001b[1;32m      5\u001b[0m \u001b[0mim2\u001b[0m \u001b[0;34m=\u001b[0m \u001b[0me0d\u001b[0m\u001b[0;34m\u001b[0m\u001b[0m\n",
      "\u001b[0;32m/home/johannes/hyperspy/hyperspy/io.py\u001b[0m in \u001b[0;36mload\u001b[0;34m(filenames, signal_type, stack, stack_axis, new_axis_name, mmap, mmap_dir, **kwds)\u001b[0m\n\u001b[1;32m    219\u001b[0m             objects = [load_single_file(filename,\n\u001b[1;32m    220\u001b[0m                                         **kwds)\n\u001b[0;32m--> 221\u001b[0;31m                        for filename in filenames]\n\u001b[0m\u001b[1;32m    222\u001b[0m \u001b[0;34m\u001b[0m\u001b[0m\n\u001b[1;32m    223\u001b[0m         \u001b[0;32mif\u001b[0m \u001b[0mhyperspy\u001b[0m\u001b[0;34m.\u001b[0m\u001b[0mdefaults_parser\u001b[0m\u001b[0;34m.\u001b[0m\u001b[0mpreferences\u001b[0m\u001b[0;34m.\u001b[0m\u001b[0mPlot\u001b[0m\u001b[0;34m.\u001b[0m\u001b[0mplot_on_load\u001b[0m\u001b[0;34m:\u001b[0m\u001b[0;34m\u001b[0m\u001b[0m\n",
      "\u001b[0;32m/home/johannes/hyperspy/hyperspy/io.py\u001b[0m in \u001b[0;36m<listcomp>\u001b[0;34m(.0)\u001b[0m\n\u001b[1;32m    219\u001b[0m             objects = [load_single_file(filename,\n\u001b[1;32m    220\u001b[0m                                         **kwds)\n\u001b[0;32m--> 221\u001b[0;31m                        for filename in filenames]\n\u001b[0m\u001b[1;32m    222\u001b[0m \u001b[0;34m\u001b[0m\u001b[0m\n\u001b[1;32m    223\u001b[0m         \u001b[0;32mif\u001b[0m \u001b[0mhyperspy\u001b[0m\u001b[0;34m.\u001b[0m\u001b[0mdefaults_parser\u001b[0m\u001b[0;34m.\u001b[0m\u001b[0mpreferences\u001b[0m\u001b[0;34m.\u001b[0m\u001b[0mPlot\u001b[0m\u001b[0;34m.\u001b[0m\u001b[0mplot_on_load\u001b[0m\u001b[0;34m:\u001b[0m\u001b[0;34m\u001b[0m\u001b[0m\n",
      "\u001b[0;32m/home/johannes/hyperspy/hyperspy/io.py\u001b[0m in \u001b[0;36mload_single_file\u001b[0;34m(filename, signal_type, **kwds)\u001b[0m\n\u001b[1;32m    263\u001b[0m                                 \u001b[0mreader\u001b[0m\u001b[0;34m=\u001b[0m\u001b[0mreader\u001b[0m\u001b[0;34m,\u001b[0m\u001b[0;34m\u001b[0m\u001b[0m\n\u001b[1;32m    264\u001b[0m                                 \u001b[0msignal_type\u001b[0m\u001b[0;34m=\u001b[0m\u001b[0msignal_type\u001b[0m\u001b[0;34m,\u001b[0m\u001b[0;34m\u001b[0m\u001b[0m\n\u001b[0;32m--> 265\u001b[0;31m                                 **kwds)\n\u001b[0m\u001b[1;32m    266\u001b[0m \u001b[0;34m\u001b[0m\u001b[0m\n\u001b[1;32m    267\u001b[0m \u001b[0;34m\u001b[0m\u001b[0m\n",
      "\u001b[0;32m/home/johannes/hyperspy/hyperspy/io.py\u001b[0m in \u001b[0;36mload_with_reader\u001b[0;34m(filename, reader, signal_type, **kwds)\u001b[0m\n\u001b[1;32m    280\u001b[0m             \u001b[0;32mif\u001b[0m \u001b[0msignal_type\u001b[0m \u001b[0;32mis\u001b[0m \u001b[0;32mnot\u001b[0m \u001b[0;32mNone\u001b[0m\u001b[0;34m:\u001b[0m\u001b[0;34m\u001b[0m\u001b[0m\n\u001b[1;32m    281\u001b[0m                 \u001b[0msignal_dict\u001b[0m\u001b[0;34m[\u001b[0m\u001b[0;34m'metadata'\u001b[0m\u001b[0;34m]\u001b[0m\u001b[0;34m[\u001b[0m\u001b[0;34m\"Signal\"\u001b[0m\u001b[0;34m]\u001b[0m\u001b[0;34m[\u001b[0m\u001b[0;34m'signal_type'\u001b[0m\u001b[0;34m]\u001b[0m \u001b[0;34m=\u001b[0m \u001b[0msignal_type\u001b[0m\u001b[0;34m\u001b[0m\u001b[0m\n\u001b[0;32m--> 282\u001b[0;31m             \u001b[0mobjects\u001b[0m\u001b[0;34m.\u001b[0m\u001b[0mappend\u001b[0m\u001b[0;34m(\u001b[0m\u001b[0mdict2signal\u001b[0m\u001b[0;34m(\u001b[0m\u001b[0msignal_dict\u001b[0m\u001b[0;34m)\u001b[0m\u001b[0;34m)\u001b[0m\u001b[0;34m\u001b[0m\u001b[0m\n\u001b[0m\u001b[1;32m    283\u001b[0m             \u001b[0mfolder\u001b[0m\u001b[0;34m,\u001b[0m \u001b[0mfilename\u001b[0m \u001b[0;34m=\u001b[0m \u001b[0mos\u001b[0m\u001b[0;34m.\u001b[0m\u001b[0mpath\u001b[0m\u001b[0;34m.\u001b[0m\u001b[0msplit\u001b[0m\u001b[0;34m(\u001b[0m\u001b[0mos\u001b[0m\u001b[0;34m.\u001b[0m\u001b[0mpath\u001b[0m\u001b[0;34m.\u001b[0m\u001b[0mabspath\u001b[0m\u001b[0;34m(\u001b[0m\u001b[0mfilename\u001b[0m\u001b[0;34m)\u001b[0m\u001b[0;34m)\u001b[0m\u001b[0;34m\u001b[0m\u001b[0m\n\u001b[1;32m    284\u001b[0m             \u001b[0mfilename\u001b[0m\u001b[0;34m,\u001b[0m \u001b[0mextension\u001b[0m \u001b[0;34m=\u001b[0m \u001b[0mos\u001b[0m\u001b[0;34m.\u001b[0m\u001b[0mpath\u001b[0m\u001b[0;34m.\u001b[0m\u001b[0msplitext\u001b[0m\u001b[0;34m(\u001b[0m\u001b[0mfilename\u001b[0m\u001b[0;34m)\u001b[0m\u001b[0;34m\u001b[0m\u001b[0m\n",
      "\u001b[0;32m/home/johannes/hyperspy/hyperspy/io.py\u001b[0m in \u001b[0;36mdict2signal\u001b[0;34m(signal_dict)\u001b[0m\n\u001b[1;32m    377\u001b[0m     signal = assign_signal_subclass(signal_dimension=signal_dimension,\n\u001b[1;32m    378\u001b[0m                                     \u001b[0msignal_type\u001b[0m\u001b[0;34m=\u001b[0m\u001b[0msignal_type\u001b[0m\u001b[0;34m,\u001b[0m\u001b[0;34m\u001b[0m\u001b[0m\n\u001b[0;32m--> 379\u001b[0;31m                                     dtype=signal_dict['data'].dtype,)(**signal_dict)\n\u001b[0m\u001b[1;32m    380\u001b[0m     \u001b[0;32mif\u001b[0m \u001b[0msignal\u001b[0m\u001b[0;34m.\u001b[0m\u001b[0maxes_manager\u001b[0m\u001b[0;34m.\u001b[0m\u001b[0msignal_dimension\u001b[0m \u001b[0;34m!=\u001b[0m \u001b[0msignal_dimension\u001b[0m\u001b[0;34m:\u001b[0m\u001b[0;34m\u001b[0m\u001b[0m\n\u001b[1;32m    381\u001b[0m         \u001b[0;31m# This may happen when the signal dimension couldn't be matched with\u001b[0m\u001b[0;34m\u001b[0m\u001b[0;34m\u001b[0m\u001b[0m\n",
      "\u001b[0;32m/home/johannes/hyperspy/hyperspy/_signals/signal2d.py\u001b[0m in \u001b[0;36m__init__\u001b[0;34m(self, *args, **kw)\u001b[0m\n\u001b[1;32m    206\u001b[0m \u001b[0;34m\u001b[0m\u001b[0m\n\u001b[1;32m    207\u001b[0m     \u001b[0;32mdef\u001b[0m \u001b[0m__init__\u001b[0m\u001b[0;34m(\u001b[0m\u001b[0mself\u001b[0m\u001b[0;34m,\u001b[0m \u001b[0;34m*\u001b[0m\u001b[0margs\u001b[0m\u001b[0;34m,\u001b[0m \u001b[0;34m**\u001b[0m\u001b[0mkw\u001b[0m\u001b[0;34m)\u001b[0m\u001b[0;34m:\u001b[0m\u001b[0;34m\u001b[0m\u001b[0m\n\u001b[0;32m--> 208\u001b[0;31m         \u001b[0msuper\u001b[0m\u001b[0;34m(\u001b[0m\u001b[0;34m)\u001b[0m\u001b[0;34m.\u001b[0m\u001b[0m__init__\u001b[0m\u001b[0;34m(\u001b[0m\u001b[0;34m*\u001b[0m\u001b[0margs\u001b[0m\u001b[0;34m,\u001b[0m \u001b[0;34m**\u001b[0m\u001b[0mkw\u001b[0m\u001b[0;34m)\u001b[0m\u001b[0;34m\u001b[0m\u001b[0m\n\u001b[0m\u001b[1;32m    209\u001b[0m         \u001b[0;32mif\u001b[0m \u001b[0mself\u001b[0m\u001b[0;34m.\u001b[0m\u001b[0maxes_manager\u001b[0m\u001b[0;34m.\u001b[0m\u001b[0msignal_dimension\u001b[0m \u001b[0;34m!=\u001b[0m \u001b[0;36m2\u001b[0m\u001b[0;34m:\u001b[0m\u001b[0;34m\u001b[0m\u001b[0m\n\u001b[1;32m    210\u001b[0m             \u001b[0mself\u001b[0m\u001b[0;34m.\u001b[0m\u001b[0maxes_manager\u001b[0m\u001b[0;34m.\u001b[0m\u001b[0mset_signal_dimension\u001b[0m\u001b[0;34m(\u001b[0m\u001b[0;36m2\u001b[0m\u001b[0;34m)\u001b[0m\u001b[0;34m\u001b[0m\u001b[0m\n",
      "\u001b[0;32m/home/johannes/hyperspy/hyperspy/signal.py\u001b[0m in \u001b[0;36m__init__\u001b[0;34m(self, data, **kwds)\u001b[0m\n\u001b[1;32m   1527\u001b[0m         \u001b[0mself\u001b[0m\u001b[0;34m.\u001b[0m\u001b[0mlearning_results\u001b[0m \u001b[0;34m=\u001b[0m \u001b[0mLearningResults\u001b[0m\u001b[0;34m(\u001b[0m\u001b[0;34m)\u001b[0m\u001b[0;34m\u001b[0m\u001b[0m\n\u001b[1;32m   1528\u001b[0m         \u001b[0mkwds\u001b[0m\u001b[0;34m[\u001b[0m\u001b[0;34m'data'\u001b[0m\u001b[0;34m]\u001b[0m \u001b[0;34m=\u001b[0m \u001b[0mdata\u001b[0m\u001b[0;34m\u001b[0m\u001b[0m\n\u001b[0;32m-> 1529\u001b[0;31m         \u001b[0mself\u001b[0m\u001b[0;34m.\u001b[0m\u001b[0m_load_dictionary\u001b[0m\u001b[0;34m(\u001b[0m\u001b[0mkwds\u001b[0m\u001b[0;34m)\u001b[0m\u001b[0;34m\u001b[0m\u001b[0m\n\u001b[0m\u001b[1;32m   1530\u001b[0m         \u001b[0mself\u001b[0m\u001b[0;34m.\u001b[0m\u001b[0m_plot\u001b[0m \u001b[0;34m=\u001b[0m \u001b[0;32mNone\u001b[0m\u001b[0;34m\u001b[0m\u001b[0m\n\u001b[1;32m   1531\u001b[0m         \u001b[0mself\u001b[0m\u001b[0;34m.\u001b[0m\u001b[0minav\u001b[0m \u001b[0;34m=\u001b[0m \u001b[0mSpecialSlicersSignal\u001b[0m\u001b[0;34m(\u001b[0m\u001b[0mself\u001b[0m\u001b[0;34m,\u001b[0m \u001b[0;32mTrue\u001b[0m\u001b[0;34m)\u001b[0m\u001b[0;34m\u001b[0m\u001b[0m\n",
      "\u001b[0;32m/home/johannes/hyperspy/hyperspy/signal.py\u001b[0m in \u001b[0;36m_load_dictionary\u001b[0;34m(self, file_data_dict)\u001b[0m\n\u001b[1;32m   1787\u001b[0m             \u001b[0mfile_data_dict\u001b[0m\u001b[0;34m[\u001b[0m\u001b[0;34m'axes'\u001b[0m\u001b[0;34m]\u001b[0m \u001b[0;34m=\u001b[0m \u001b[0mself\u001b[0m\u001b[0;34m.\u001b[0m\u001b[0m_get_undefined_axes_list\u001b[0m\u001b[0;34m(\u001b[0m\u001b[0;34m)\u001b[0m\u001b[0;34m\u001b[0m\u001b[0m\n\u001b[1;32m   1788\u001b[0m         self.axes_manager = AxesManager(\n\u001b[0;32m-> 1789\u001b[0;31m             file_data_dict['axes'])\n\u001b[0m\u001b[1;32m   1790\u001b[0m         \u001b[0;32mif\u001b[0m \u001b[0;34m'metadata'\u001b[0m \u001b[0;32mnot\u001b[0m \u001b[0;32min\u001b[0m \u001b[0mfile_data_dict\u001b[0m\u001b[0;34m:\u001b[0m\u001b[0;34m\u001b[0m\u001b[0m\n\u001b[1;32m   1791\u001b[0m             \u001b[0mfile_data_dict\u001b[0m\u001b[0;34m[\u001b[0m\u001b[0;34m'metadata'\u001b[0m\u001b[0;34m]\u001b[0m \u001b[0;34m=\u001b[0m \u001b[0;34m{\u001b[0m\u001b[0;34m}\u001b[0m\u001b[0;34m\u001b[0m\u001b[0m\n",
      "\u001b[0;32m/home/johannes/hyperspy/hyperspy/axes.py\u001b[0m in \u001b[0;36m__init__\u001b[0;34m(self, axes_list)\u001b[0m\n\u001b[1;32m    554\u001b[0m \u001b[0;34m\u001b[0m\u001b[0m\n\u001b[1;32m    555\u001b[0m     \u001b[0;32mdef\u001b[0m \u001b[0m__init__\u001b[0m\u001b[0;34m(\u001b[0m\u001b[0mself\u001b[0m\u001b[0;34m,\u001b[0m \u001b[0maxes_list\u001b[0m\u001b[0;34m)\u001b[0m\u001b[0;34m:\u001b[0m\u001b[0;34m\u001b[0m\u001b[0m\n\u001b[0;32m--> 556\u001b[0;31m         \u001b[0msuper\u001b[0m\u001b[0;34m(\u001b[0m\u001b[0mAxesManager\u001b[0m\u001b[0;34m,\u001b[0m \u001b[0mself\u001b[0m\u001b[0;34m)\u001b[0m\u001b[0;34m.\u001b[0m\u001b[0m__init__\u001b[0m\u001b[0;34m(\u001b[0m\u001b[0;34m)\u001b[0m\u001b[0;34m\u001b[0m\u001b[0m\n\u001b[0m\u001b[1;32m    557\u001b[0m         \u001b[0mself\u001b[0m\u001b[0;34m.\u001b[0m\u001b[0mevents\u001b[0m \u001b[0;34m=\u001b[0m \u001b[0mEvents\u001b[0m\u001b[0;34m(\u001b[0m\u001b[0;34m)\u001b[0m\u001b[0;34m\u001b[0m\u001b[0m\n\u001b[1;32m    558\u001b[0m         self.events.indices_changed = Event(\"\"\"\n",
      "\u001b[0;31mTypeError\u001b[0m: super(type, obj): obj must be an instance or subtype of type"
     ]
    }
   ],
   "source": [
    "e0 = hs.load(fname_haadf1)\n",
    "e0d=e0.data\n",
    "e0d -=e0d.min()\n",
    "e0d = (e0d/e0d.max()*255).astype('uint8')\n",
    "im2 = e0d\n",
    "for e in [e1dr, e2dr, e3dr, e4dr]:\n",
    "    project_routine.imreg(e, im2, show=True)\n",
    "#     newpos = project_routine.imreg(e4dr, im2)\n",
    "\n",
    "offset = (67,76)"
   ]
  },
  {
   "cell_type": "code",
   "execution_count": null,
   "metadata": {
    "collapsed": false
   },
   "outputs": [],
   "source": [
    "# plt.close('all')\n",
    "e4.plot()\n",
    "\n",
    "top_left, bottom_right = newpos\n",
    "tlref,brref            = refpos\n",
    "scale=e0s/sd_scale\n",
    "\n",
    "tl1 = int(offset[0]+(top_left[0]-tlref[0])*scale)\n",
    "tl2 = int(offset[1]+(top_left[1]-tlref[1])*scale)\n",
    "tl = (tl1,tl2)\n",
    "\n",
    "br = (tl[0]+int((bottom_right[0]-top_left[0])*scale),tl[1]+int((bottom_right[1]-top_left[1])*scale))\n",
    "\n",
    "# cv2.rectangle(sd_data2,tl, br, 255, 1)\n",
    "\n",
    "plt.figure(); plt.imshow(sd_data2)"
   ]
  },
  {
   "cell_type": "code",
   "execution_count": null,
   "metadata": {
    "collapsed": false
   },
   "outputs": [],
   "source": [
    "e4_offset = project_routine.find_offset(e0d, e1dr, e4dr, sd_data2, e0s/sd_scale, (67,76))\n",
    "print(e4_offset)"
   ]
  },
  {
   "cell_type": "code",
   "execution_count": null,
   "metadata": {
    "collapsed": false
   },
   "outputs": [],
   "source": [
    "sd2.plot(colorbar=False)\n",
    "e4.plot()"
   ]
  },
  {
   "cell_type": "code",
   "execution_count": null,
   "metadata": {
    "collapsed": false,
    "scrolled": true
   },
   "outputs": [],
   "source": [
    "sd2.connect(e4, e4s/sd_scale, e4_offset[0])"
   ]
  }
 ],
 "metadata": {
  "anaconda-cloud": {},
  "kernelspec": {
   "display_name": "Python 3",
   "language": "python",
   "name": "python3"
  },
  "language_info": {
   "codemirror_mode": {
    "name": "ipython",
    "version": 3
   },
   "file_extension": ".py",
   "mimetype": "text/x-python",
   "name": "python",
   "nbconvert_exporter": "python",
   "pygments_lexer": "ipython3",
   "version": "3.5.2"
  }
 },
 "nbformat": 4,
 "nbformat_minor": 1
}
