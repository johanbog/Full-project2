{
 "cells": [
  {
   "cell_type": "code",
   "execution_count": 7,
   "metadata": {
    "collapsed": false
   },
   "outputs": [
    {
     "name": "stdout",
     "output_type": "stream",
     "text": [
      "[ 0.      0.0625  0.125   0.1875  0.25    0.3125  0.375   0.4375  0.5\n",
      "  0.5625  0.625   0.6875  0.75    0.8125  0.875   0.9375]\n",
      "[[ 0.      0.0625  0.125   0.1875]\n",
      " [ 0.25    0.3125  0.375   0.4375]\n",
      " [ 0.5     0.5625  0.625   0.6875]\n",
      " [ 0.75    0.8125  0.875   0.9375]]\n",
      "[ 0.625  1.125  2.625  3.125]\n"
     ]
    },
    {
     "data": {
      "image/png": "[encoded data removed]",
      "text/plain": [
       "<matplotlib.figure.Figure at 0x2a37c2600f0>"
      ]
     },
     "metadata": {},
     "output_type": "display_data"
    },
    {
     "data": {
      "image/png": "[encoded data removed]",
      "text/plain": [
       "<matplotlib.figure.Figure at 0x2a37c2a0cc0>"
      ]
     },
     "metadata": {},
     "output_type": "display_data"
    }
   ],
   "source": [
    "import numpy as np\n",
    "%matplotlib inline\n",
    "import matplotlib.pyplot as plt\n",
    "arr=(np.ones(100*100)*np.linspace(0,1,100*100)).reshape(100,100)\n",
    "\n",
    "arr,e=np.histogram(arr,16)\n",
    "# arr=arr.reshape()\n",
    "# print(arr)\n",
    "# print(e.shape)\n",
    "plt.close('r')\n",
    "plt.figure('r')\n",
    "plt.imshow(e[:-1].reshape(4,4),interpolation='none')\n",
    "plt.axis('off')\n",
    "plt.plot([-0.5,3.5],[1.8,1.8],'k')\n",
    "plt.plot([1.8,1.8],[-.5,3.5],'k') #2.3\n",
    "plt.savefig('../PROJECT/thesis/fig/other/rebin2.png',bbox_inches='tight')\n",
    "\n",
    "print(e[:-1])\n",
    "plt.figure('new')\n",
    "new=e[:-1].reshape(4,4)\n",
    "print(new)\n",
    "newarr=np.array([np.sum(new[:2,:2]),np.sum(new[:2,2:]),np.sum(new[2:,:2]),np.sum(new[2:,2:])])\n",
    "plt.imshow(newarr.reshape(2,2),interpolation='none')\n",
    "plt.axis('off')\n",
    "plt.savefig('../PROJECT/thesis/fig/other/rebin3.png',bbox_inches='tight')\n",
    "print(newarr)"
   ]
  }
 ],
 "metadata": {
  "anaconda-cloud": {},
  "kernelspec": {
   "display_name": "Python [conda root]",
   "language": "python",
   "name": "conda-root-py"
  },
  "language_info": {
   "codemirror_mode": {
    "name": "ipython",
    "version": 3
   },
   "file_extension": ".py",
   "mimetype": "text/x-python",
   "name": "python",
   "nbconvert_exporter": "python",
   "pygments_lexer": "ipython3",
   "version": "3.5.2"
  }
 },
 "nbformat": 4,
 "nbformat_minor": 1
}
