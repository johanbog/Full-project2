{
 "cells": [
  {
   "cell_type": "code",
   "execution_count": 2,
   "metadata": {
    "collapsed": false
   },
   "outputs": [
    {
     "name": "stdout",
     "output_type": "stream",
     "text": [
      "The autoreload extension is already loaded. To reload it, use:\n",
      "  %reload_ext autoreload\n"
     ]
    }
   ],
   "source": [
    "%load_ext autoreload\n",
    "%autoreload 2\n",
    "import hyperspy.api as hs\n",
    "%matplotlib qt4\n",
    "import matplotlib.pyplot as plt\n",
    "import numpy as np\n",
    "from hyperspy.zeta import *"
   ]
  },
  {
   "cell_type": "markdown",
   "metadata": {},
   "source": [
    "# Find zeta factor"
   ]
  },
  {
   "cell_type": "code",
   "execution_count": 77,
   "metadata": {
    "collapsed": false
   },
   "outputs": [],
   "source": [
    "thickness_map=hs.load('../Data/unheated/Thickness Map.dm3')\n",
    "thickness_map.plot()\n",
    "l = 104 # From Andreas\n",
    "tuh = thickness_map.isig[100.:200.,70.:190.].data.mean()*l"
   ]
  },
  {
   "cell_type": "code",
   "execution_count": 80,
   "metadata": {
    "collapsed": false
   },
   "outputs": [
    {
     "name": "stdout",
     "output_type": "stream",
     "text": [
      "74.6921830177 121.975335121\n"
     ]
    }
   ],
   "source": [
    "thickness_map_heated=hs.load('../Data/160506_SC239_X/Thickness Map.dm3')\n",
    "thickness_map_heated.plot()\n",
    "l=104\n",
    "th=thickness_map_heated.isig[86.:185.,71.:151.].data.mean()*l\n",
    "print(th,tuh)"
   ]
  },
  {
   "cell_type": "code",
   "execution_count": 79,
   "metadata": {
    "collapsed": false,
    "scrolled": true
   },
   "outputs": [
    {
     "name": "stdout",
     "output_type": "stream",
     "text": [
      "The autoreload extension is already loaded. To reload it, use:\n",
      "  %reload_ext autoreload\n",
      "['As', 'Ga'] \n",
      " --------------\n",
      "[[9.79, 9.99, 11.09, 11.29], [8.47, 8.66, 9.67, 9.86]] ['As_Ka', 'Ga_Ka']\n",
      "A ['As_Ka', 'Ga_Ka'] 1\n",
      "zeta 706.458581674\n",
      "zeta 607.860488895\n",
      "[[0.6, 0.85, 1.5, 1.6], [0.6, 0.85, 1.5, 1.6]] ['As_La', 'Ga_La']\n",
      "A ['As_La', 'Ga_La'] 2\n",
      "zeta 954.913543881\n",
      "zeta 825.715725567\n",
      "['As', 'Ga'] \n",
      " --------------\n",
      "[[9.79, 9.99, 11.09, 11.29], [8.47, 8.66, 9.67, 9.86]] ['As_Ka', 'Ga_Ka']\n",
      "Cheat ['As_Ka', 'Ga_Ka'] 1\n",
      "zeta 575.645138935\n",
      "zeta 486.275256999\n",
      "[[0.6, 0.85, 1.5, 1.6], [0.6, 0.85, 1.5, 1.6]] ['As_La', 'Ga_La']\n",
      "Cheat ['As_La', 'Ga_La'] 2\n",
      "zeta 600.052264392\n",
      "zeta 512.442033293\n"
     ]
    }
   ],
   "source": [
    "%load_ext autoreload\n",
    "%autoreload 2\n",
    "\n",
    "plt.close('all')\n",
    "IW = 1.2\n",
    "tilt = -np.sqrt(2.3**2+.6**2)\n",
    "\n",
    "p_GaAs = 5317.6\n",
    "p_Au = hs.material.elements.Au.Physical_properties.density_gcm3*1000\n",
    "p_Ge = hs.material.elements.Ge.Physical_properties.density_gcm3*1000\n",
    "p_Pd = hs.material.elements.Pd.Physical_properties.density_gcm3*1000\n",
    " \n",
    "s_A = hs.load('../Data/unheated/A_EDS GaAs.hdf5')\n",
    "s_Cheat = hs.load('../Data/160506_SC239_X/C_EDS Spectrum Image GaAs.hdf5')\n",
    "s_A1 = hs.load('../Data/unheated/A_EDS Ge.hdf5')\n",
    "s_A2 = hs.load('../Data/unheated/A_EDS Pd.hdf5')\n",
    "s_C = hs.load('../Data/unheated/C_EDS Spectrum Image.dm3')\n",
    "s_D = hs.load('../Data/unheated/D_EDS Spectrum Image.dm3')\n",
    "s_E = hs.load('../Data/unheated/E_EDS Spectrum Image.dm3')\n",
    "s_B1=hs.load('../Data/unheated/B_EDS_1.hdf5')\n",
    "s_B2=hs.load('../Data/unheated/B_EDS_2.hdf5')\n",
    "s_B3=hs.load('../Data/unheated/B_EDS_3.hdf5')\n",
    "\n",
    "s_GaAs=[s_A,s_Cheat]\n",
    "s_Ge=[s_A2,s_D,s_B2]\n",
    "s_Pd=[s_A1, s_E,s_B1]\n",
    "s_Au=[s_C,s_B3]\n",
    "names=[['A','Cheat'],['A','D','B'],['A','E','B'],['C','B']]\n",
    "curA=(.1769+.1747)/2\n",
    "curB=.1747\n",
    "probe_current = [[curA,(.1194+.1181)/2],[curA,(.1747+.1750)/2,curB],[curA,.1750,curB],[.1747,curB]]\n",
    "elements = [['As','Ga'],['Ge'],['Pd'],['Au']]\n",
    "s = [s_GaAs,s_Ge,s_Pd,s_Au]\n",
    "time = [[.01,.1],[.01,.1,.01],[.01,.1,.01],[.1,.01]]\n",
    "density_list=[p_GaAs,p_Ge,p_Pd,p_Au]\n",
    "\n",
    "thickness_list=[[tuh,th],[tuh,tuh,tuh],[tuh,tuh,tuh],[tuh,tuh]]\n",
    "BW_C = [9.25, 9.45,10.1,10.3]\n",
    "BW_D = [9.4,9.6,10.2,10.4]\n",
    "BW_E = [2.2,2.4,3.7,3.9]\n",
    "BW_C =[1.85,1.91,2.53,2.63] #gold M-line\n",
    "BW_D = [.6,.7,1.4,1.5] #Ge L-line\n",
    "\n",
    "GeL=[.6,.7,1.4,1.5]\n",
    "AuM=[1.88,1.96,3.7,3.9]\n",
    "AuL=[7.3,7.5,10.6,10.8]\n",
    "GaK=[ 9.79,9.99, 11.09, 11.29]\n",
    "AsK=[ 8.47,8.66,9.67,9.86]\n",
    "GaAsL=[.6,.85,1.5,1.6]\n",
    "GeK=[9.58,9.63,10.3,10.4]\n",
    "PdL= [2.2,2.4,3.7,3.9]\n",
    "\n",
    "\n",
    "# bw_list=[BW_A,BW_A,BW_C,BW_D,BW_E,BW_E,BW_D,BW_C]\n",
    "bw_list=[[[GaK,AsK],[GaAsL,GaAsL]],[[GeK],[GeL]],[[PdL]],[[AuL],[AuM]]]\n",
    "\n",
    "COMP_GA_AS_WT=(hs.material.atomic_to_weight([.5,.5],['As','Ga'])/100)\n",
    "comp_list = [COMP_GA_AS_WT,[1],[1],[1]]\n",
    "\n",
    "lines=[[['As_Ka','Ga_Ka'],['As_La','Ga_La']],[['Ge_Ka'],['Ge_La']],[['Pd_La']],[['Au_La'],['Au_Ma']]]\n",
    "plt.close('all')\n",
    "hfile=open('../zetafactors-thickness-corr-GaAs.txt','w+')\n",
    "plt.ion()\n",
    "for edxname,edxlist, currentlist, density, element, bwlist, comp, tlist, linelist, thicknesslist in zip(names,s,probe_current, density_list, elements,bw_list,comp_list, time, lines,thickness_list):\n",
    "    for name,edx, current, t,thickness in zip(edxname,edxlist,currentlist, tlist,thicknesslist):\n",
    "        if 'Ga' not in element:\n",
    "            continue\n",
    "        time = edx.data.shape[0]*edx.data.shape[1]*t\n",
    "        edx=edx.sum('x').sum('y')\n",
    "        edx.set_elements(element)\n",
    "        print(element,'\\n --------------')\n",
    "        i = 0\n",
    "        for bw, line in zip(bwlist,linelist):\n",
    "            edx=edx.copy()\n",
    "            i += 1\n",
    "            edx.metadata.General.title= name + ' ' +str(line) +' '+str(i)\n",
    "            edx.set_lines(line)\n",
    "            edx.plot(background_windows=bw)\n",
    "            edx.set_microscope_parameters(beam_current=current, tilt_stage=tilt, real_time=time, elevation_angle=24.3, azimuth_angle=0.0)\n",
    "#             if len(line)==1:\n",
    "#                 bw=bw[0]\n",
    "            print(bw,line)\n",
    "            s_int=edx.get_lines_intensity(background_windows=bw, integration_windows=IW,plot_result=0, only_lines=line)\n",
    "            zeta = determine_zeta_factor(edx, s_int, comp, thickness, density)\n",
    "           \n",
    "            print(edx.metadata.General.title)\n",
    "            for i in range(len(zeta)):\n",
    "                print('zeta',np.nanmean(zeta[i].data.flatten()))            \n",
    "                hfile.write(str(edx.metadata.General.title)+' '+str(np.nanmean(zeta[i].data.flatten()))+'\\n')\n",
    "    #             print('std',np.std(z.data))\n",
    "    \n",
    "#         break\n",
    "#     break\n",
    "hfile.close()"
   ]
  },
  {
   "cell_type": "code",
   "execution_count": 2,
   "metadata": {
    "collapsed": false
   },
   "outputs": [],
   "source": [
    "import matplotlib.pyplot as plt\n",
    "plt.close('all')"
   ]
  },
  {
   "cell_type": "code",
   "execution_count": 51,
   "metadata": {
    "collapsed": false
   },
   "outputs": [
    {
     "data": {
      "text/plain": [
       "'123'"
      ]
     },
     "execution_count": 51,
     "metadata": {},
     "output_type": "execute_result"
    }
   ],
   "source": [
    "edx.metadata.General.title"
   ]
  }
 ],
 "metadata": {
  "anaconda-cloud": {},
  "kernelspec": {
   "display_name": "Python [conda root]",
   "language": "python",
   "name": "conda-root-py"
  },
  "language_info": {
   "codemirror_mode": {
    "name": "ipython",
    "version": 3
   },
   "file_extension": ".py",
   "mimetype": "text/x-python",
   "name": "python",
   "nbconvert_exporter": "python",
   "pygments_lexer": "ipython3",
   "version": "3.5.2"
  }
 },
 "nbformat": 4,
 "nbformat_minor": 1
}
